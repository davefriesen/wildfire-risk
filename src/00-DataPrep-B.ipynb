{
 "cells": [
  {
   "cell_type": "markdown",
   "id": "4bf3faca-e0fa-457e-b6dd-5c7133f02b56",
   "metadata": {},
   "source": [
    "# Wildfire Risk - Data Prep B - Geohash and Merge\n",
    "__Team 3 - Dave Friesen, John Chen, and Kyle Dalope__<br>\n",
    "__ADS-508-02-SP23__<br><br>\n",
    "__GitHub link: https://github.com/davefriesen/wildfire-risk__"
   ]
  },
  {
   "cell_type": "code",
   "execution_count": 2,
   "id": "c3f869c0-f75e-4389-b455-44536e0b9502",
   "metadata": {
    "tags": []
   },
   "outputs": [],
   "source": [
    "__authors__ = ['Dave Friesen', 'John Chen', 'Kyle Dalope']\n",
    "__contact__ = ['dfriesen@sandiego.edu', 'johnchen@sandiego.edu', 'kdalope@sandiego.edu']\n",
    "__date__ = '2023-03-20'\n",
    "__license__ = 'MIT'\n",
    "__version__ = '1.0.2'"
   ]
  },
  {
   "cell_type": "markdown",
   "id": "7df48cd4-5cfb-43d2-b92b-abb34f387531",
   "metadata": {},
   "source": [
    "# Setup"
   ]
  },
  {
   "cell_type": "code",
   "execution_count": 3,
   "id": "583e2d7e-bdb3-4fe9-9dd1-f6316c49b158",
   "metadata": {},
   "outputs": [
    {
     "name": "stdout",
     "output_type": "stream",
     "text": [
      "Requirement already satisfied: h3 in /opt/conda/lib/python3.7/site-packages (3.7.6)\n",
      "\u001b[33mWARNING: Running pip as the 'root' user can result in broken permissions and conflicting behaviour with the system package manager. It is recommended to use a virtual environment instead: https://pip.pypa.io/warnings/venv\u001b[0m\u001b[33m\n",
      "\u001b[0m"
     ]
    }
   ],
   "source": [
    "!pip install h3\n",
    "\n",
    "# Import basic and data access libraries\n",
    "import pandas as pd\n",
    "from profiler import profile, profile_cat\n",
    "\n",
    "# Import utility libraries\n",
    "import h3"
   ]
  },
  {
   "cell_type": "markdown",
   "id": "dcc95d59",
   "metadata": {},
   "source": [
    "# Data Load"
   ]
  },
  {
   "cell_type": "code",
   "execution_count": 4,
   "id": "9efa6e80",
   "metadata": {},
   "outputs": [
    {
     "name": "stdout",
     "output_type": "stream",
     "text": [
      "89294\n",
      "175300\n",
      "120208\n"
     ]
    }
   ],
   "source": [
    "wfil_df = pd.read_csv('../data/fires.csv', low_memory=False)\n",
    "wthr_df = pd.read_csv('../data/weather.csv', low_memory=False)\n",
    "cond_df = pd.read_csv('../data/conditions.csv', low_memory=False)\n",
    "\n",
    "print(len(wfil_df))\n",
    "print(len(wthr_df))\n",
    "print(len(cond_df))"
   ]
  },
  {
   "cell_type": "markdown",
   "id": "2de9d1e8",
   "metadata": {},
   "source": [
    "# Geohash and Merge"
   ]
  },
  {
   "cell_type": "code",
   "execution_count": 5,
   "id": "ae8f88db",
   "metadata": {},
   "outputs": [
    {
     "name": "stdout",
     "output_type": "stream",
     "text": [
      "              geohash  Count\n",
      "2561  8529a56ffffffff   2593\n",
      "2446  8529a147fffffff   2180\n",
      "2475  8529a1d3fffffff   2095\n",
      "2477  8529a1dbfffffff   1116\n",
      "2450  8529a157fffffff   1016\n",
      "2560  8529a56bfffffff    997\n",
      "2423  8529a0affffffff    912\n",
      "2389  8529a013fffffff    894\n",
      "2385  8529a003fffffff    695\n",
      "2575  8529a63bfffffff    653\n",
      "             geohash  Count\n",
      "477  8529a1cffffffff    986\n",
      "443  8529a037fffffff    704\n",
      "236  8528308bfffffff    657\n",
      "463  8529a117fffffff    654\n",
      "556  8529ae4ffffffff    646\n",
      "172  85281597fffffff    634\n",
      "152  8528140bfffffff    623\n",
      "459  8529a0cbfffffff    616\n",
      "490  8529a44bfffffff    591\n",
      "420  85298907fffffff    589\n",
      "              geohash  Count\n",
      "2561  8529a56ffffffff   2593\n",
      "2446  8529a147fffffff   2180\n",
      "2475  8529a1d3fffffff   2095\n",
      "2477  8529a1dbfffffff   1116\n",
      "2450  8529a157fffffff   1016\n",
      "2560  8529a56bfffffff    997\n",
      "2423  8529a0affffffff    912\n",
      "2389  8529a013fffffff    894\n",
      "2385  8529a003fffffff    695\n",
      "2575  8529a63bfffffff    653\n"
     ]
    }
   ],
   "source": [
    "# Define function to encode latitude and longitude into h3 hexagons\n",
    "def encode_geohash(row, lat, lng):\n",
    "    try:\n",
    "        if pd.notnull(row[lat]) and pd.notnull(row[lng]):\n",
    "            return h3.geo_to_h3(row[lat], row[lng], resolution=5)\n",
    "    except ValueError as e:\n",
    "        print(f\"Error: {e}\")\n",
    "    return None\n",
    "\n",
    "# Add h3 hexagon column to dataframe using apply method\n",
    "wfil_df['geohash'] = wfil_df.apply(encode_geohash, axis=1, args=('InitialLatitude', 'InitialLongitude'))\n",
    "geohash_counts = wfil_df.groupby('geohash').size().reset_index(name='Count')\n",
    "print(geohash_counts.sort_values(by='Count', ascending=False).head(10))\n",
    "\n",
    "wthr_df['geohash'] = wthr_df.apply(encode_geohash, axis=1, args=('LATITUDE', 'LONGITUDE'))\n",
    "geohash_counts = wthr_df.groupby('geohash').size().reset_index(name='Count')\n",
    "print(geohash_counts.sort_values(by='Count', ascending=False).head(10))\n",
    "\n",
    "cond_df['geohash'] = cond_df.apply(encode_geohash, axis=1, args=('LAT', 'LON'))\n",
    "geohash_counts = wfil_df.groupby('geohash').size().reset_index(name='Count')\n",
    "print(geohash_counts.sort_values(by='Count', ascending=False).head(10))\n",
    "\n",
    "# Save updated dataframe to CSV file\n",
    "wfil_df.to_csv('../data/fires_geohash.csv', index=False)\n",
    "wthr_df.to_csv('../data/weather_geohash.csv', index=False)\n",
    "cond_df.to_csv('../data/conditions_geohash.csv', index=False)"
   ]
  },
  {
   "cell_type": "markdown",
   "id": "73888814",
   "metadata": {},
   "source": [
    "# Date Check and Conversion"
   ]
  },
  {
   "cell_type": "markdown",
   "id": "ca97ccaf",
   "metadata": {},
   "source": [
    "## Fires"
   ]
  },
  {
   "cell_type": "code",
   "execution_count": 6,
   "id": "e990156f",
   "metadata": {},
   "outputs": [
    {
     "name": "stdout",
     "output_type": "stream",
     "text": [
      "0    2020/02/28 20:45:40+00\n",
      "1    2019/07/01 19:54:00+00\n",
      "2    2016/06/20 22:05:59+00\n",
      "3    2021/11/25 15:17:32+00\n",
      "4    2022/11/21 11:25:33+00\n",
      "5    2017/07/07 20:10:00+00\n",
      "6    2016/06/20 20:03:59+00\n",
      "7    2017/08/27 14:33:32+00\n",
      "8    2017/10/09 14:50:17+00\n",
      "9    2019/11/18 17:36:59+00\n",
      "Name: FireDiscoveryDateTime, dtype: object\n",
      "year\n",
      "2022    17544\n",
      "2021    16335\n",
      "2020    14335\n",
      "2019    10072\n",
      "2017     7780\n",
      "2018     7212\n",
      "2015     5811\n",
      "2014     5097\n",
      "2016     3809\n",
      "2023     1296\n",
      "2011        2\n",
      "2004        1\n",
      "Name: FireDiscoveryDateTime, dtype: int64\n"
     ]
    }
   ],
   "source": [
    "# Show date range on fires table\n",
    "wfil_df.loc[:, 'year'] = wfil_df['FireDiscoveryDateTime'].apply(lambda x: x[:4])\n",
    "year_counts = wfil_df.groupby('year')['FireDiscoveryDateTime'].count().sort_values(ascending=False)\n",
    "print(wfil_df['FireDiscoveryDateTime'].head(10))\n",
    "print(year_counts)"
   ]
  },
  {
   "cell_type": "code",
   "execution_count": 7,
   "id": "83b6f7b0",
   "metadata": {},
   "outputs": [],
   "source": [
    "wfil_df = wfil_df.copy()\n",
    "\n",
    "def convert_date(date_str):\n",
    "    try:\n",
    "        return pd.to_datetime(date_str, format='%Y/%m/%d %H:%M:%S+%f')\n",
    "    except ValueError:\n",
    "        return pd.NaT\n",
    "wfil_df['ym_date'] = wfil_df['FireDiscoveryDateTime'].apply(convert_date)\n",
    "\n",
    "wfil_df['year'] = wfil_df['ym_date'].dt.year\n",
    "wfil_df['month'] = wfil_df['ym_date'].dt.month\n",
    "\n",
    "wfil_df['fire'] = 1"
   ]
  },
  {
   "cell_type": "code",
   "execution_count": 8,
   "id": "774953c3",
   "metadata": {},
   "outputs": [
    {
     "name": "stdout",
     "output_type": "stream",
     "text": [
      "89294-> 24067\n"
     ]
    }
   ],
   "source": [
    "print(len(wfil_df), end='')\n",
    "wfil_df = wfil_df.loc[(wfil_df['year'] >= 2016) & (wfil_df['year'] <= 2019)]\n",
    "wfil_df = wfil_df.dropna(subset=['FireCause'])\n",
    "print('->', len(wfil_df))"
   ]
  },
  {
   "cell_type": "code",
   "execution_count": 9,
   "id": "e1269a55",
   "metadata": {},
   "outputs": [
    {
     "name": "stdout",
     "output_type": "stream",
     "text": [
      "               geohash  year  month  count\n",
      "0      85021217fffffff  2018      7      1\n",
      "1      8512d23bfffffff  2016      7      1\n",
      "2      8512d803fffffff  2017      7      2\n",
      "3      8512d803fffffff  2018      5      1\n",
      "4      8512d803fffffff  2019      6      1\n",
      "...                ...   ...    ...    ...\n",
      "12339  85485bc7fffffff  2016      7      1\n",
      "12340  85754e67fffffff  2017      9      1\n",
      "12341  85754e67fffffff  2018      8      1\n",
      "12342  85754e67fffffff  2018      9      1\n",
      "12343  85754e67fffffff  2019     11      1\n",
      "\n",
      "[12344 rows x 4 columns]\n"
     ]
    }
   ],
   "source": [
    "summary = wfil_df.groupby(['geohash', 'year', 'month']).size().reset_index(name='count')\n",
    "print(summary)"
   ]
  },
  {
   "cell_type": "markdown",
   "id": "fdfb7f55",
   "metadata": {},
   "source": [
    "## Weather"
   ]
  },
  {
   "cell_type": "code",
   "execution_count": 10,
   "id": "db768127",
   "metadata": {},
   "outputs": [
    {
     "name": "stdout",
     "output_type": "stream",
     "text": [
      "0    1995-01\n",
      "1    1995-02\n",
      "2    1995-03\n",
      "3    1995-04\n",
      "4    1995-05\n",
      "5    1995-06\n",
      "6    1995-07\n",
      "7    1995-08\n",
      "8    1995-09\n",
      "9    1995-10\n",
      "Name: DATE, dtype: object\n",
      "DATE\n",
      "2023     959\n",
      "2022    5792\n",
      "2021    1463\n",
      "2020    5877\n",
      "2019    5838\n",
      "2018    5891\n",
      "2017    5846\n",
      "2016    5830\n",
      "2015    5908\n",
      "2014    5937\n",
      "2013    5775\n",
      "2012    6035\n",
      "2011    6077\n",
      "2010    6171\n",
      "2009    6178\n",
      "2008    6046\n",
      "2007    6227\n",
      "2006    6189\n",
      "2005    6255\n",
      "2004    6273\n",
      "2003    6237\n",
      "2002    5728\n",
      "2001    5420\n",
      "2000    5131\n",
      "1999    4808\n",
      "1998    4295\n",
      "1997    4180\n",
      "1996    4021\n",
      "1995    3807\n",
      "1994    3564\n",
      "1993    3122\n",
      "1992    3292\n",
      "1991    2833\n",
      "1990    2295\n",
      "1989    1715\n",
      "1988    1396\n",
      "1987    1303\n",
      "1986     910\n",
      "1985     643\n",
      "1984      29\n",
      "1983       4\n",
      "dtype: int64\n"
     ]
    }
   ],
   "source": [
    "# Show date range on weather table\n",
    "wthr_df['year'] = wthr_df['DATE'].apply(lambda x: x[:4])\n",
    "year_counts = wthr_df.groupby(wthr_df['DATE'].str[:4]).size().sort_index(ascending=False)\n",
    "print(wthr_df['DATE'].head(10))\n",
    "print(year_counts)"
   ]
  },
  {
   "cell_type": "code",
   "execution_count": 11,
   "id": "30bc249c",
   "metadata": {},
   "outputs": [],
   "source": [
    "wthr_df = wthr_df.copy()\n",
    "\n",
    "wthr_df[['year', 'month']] = wthr_df['DATE'].str.split('-', expand=True)\n",
    "wthr_df[['year', 'month']] = wthr_df[['year', 'month']].apply(pd.to_numeric)\n",
    "wthr_df = wthr_df.drop(columns=['DATE'])"
   ]
  },
  {
   "cell_type": "code",
   "execution_count": 12,
   "id": "08360e11",
   "metadata": {},
   "outputs": [],
   "source": [
    "wthr_df = wthr_df.loc[(wthr_df['year'] >= 2016) & (wthr_df['year'] <= 2019)]"
   ]
  },
  {
   "cell_type": "code",
   "execution_count": 13,
   "id": "7defb8ac",
   "metadata": {},
   "outputs": [
    {
     "name": "stdout",
     "output_type": "stream",
     "text": [
      "               geohash  year  month  count\n",
      "0      8512d80bfffffff  2016      1      1\n",
      "1      8512d80bfffffff  2016      4      1\n",
      "2      8512d80bfffffff  2016      5      1\n",
      "3      8512d80bfffffff  2016      6      1\n",
      "4      8512d80bfffffff  2016      7      1\n",
      "...                ...   ...    ...    ...\n",
      "22674  8548db2bfffffff  2018     12      1\n",
      "22675  8548db2bfffffff  2019      1      1\n",
      "22676  8548db2bfffffff  2019      2      1\n",
      "22677  8548db2bfffffff  2019      3      1\n",
      "22678  8548db2bfffffff  2019      4      1\n",
      "\n",
      "[22679 rows x 4 columns]\n"
     ]
    }
   ],
   "source": [
    "summary = wthr_df.groupby(['geohash', 'year', 'month']).size().reset_index(name='count')\n",
    "print(summary)"
   ]
  },
  {
   "cell_type": "markdown",
   "id": "8fc5c987",
   "metadata": {},
   "source": [
    "## Conditions"
   ]
  },
  {
   "cell_type": "code",
   "execution_count": 14,
   "id": "7c3f14a5",
   "metadata": {},
   "outputs": [
    {
     "data": {
      "text/html": [
       "<div>\n",
       "<style scoped>\n",
       "    .dataframe tbody tr th:only-of-type {\n",
       "        vertical-align: middle;\n",
       "    }\n",
       "\n",
       "    .dataframe tbody tr th {\n",
       "        vertical-align: top;\n",
       "    }\n",
       "\n",
       "    .dataframe thead th {\n",
       "        text-align: right;\n",
       "    }\n",
       "</style>\n",
       "<table border=\"1\" class=\"dataframe\">\n",
       "  <thead>\n",
       "    <tr style=\"text-align: right;\">\n",
       "      <th></th>\n",
       "      <th>STATE</th>\n",
       "      <th>INVYR</th>\n",
       "    </tr>\n",
       "  </thead>\n",
       "  <tbody>\n",
       "    <tr>\n",
       "      <th>0</th>\n",
       "      <td>CA</td>\n",
       "      <td>2019</td>\n",
       "    </tr>\n",
       "    <tr>\n",
       "      <th>1</th>\n",
       "      <td>OR</td>\n",
       "      <td>2019</td>\n",
       "    </tr>\n",
       "    <tr>\n",
       "      <th>2</th>\n",
       "      <td>WA</td>\n",
       "      <td>2019</td>\n",
       "    </tr>\n",
       "    <tr>\n",
       "      <th>3</th>\n",
       "      <td>CA</td>\n",
       "      <td>2018</td>\n",
       "    </tr>\n",
       "    <tr>\n",
       "      <th>4</th>\n",
       "      <td>OR</td>\n",
       "      <td>2018</td>\n",
       "    </tr>\n",
       "    <tr>\n",
       "      <th>5</th>\n",
       "      <td>WA</td>\n",
       "      <td>2018</td>\n",
       "    </tr>\n",
       "    <tr>\n",
       "      <th>6</th>\n",
       "      <td>CA</td>\n",
       "      <td>2017</td>\n",
       "    </tr>\n",
       "    <tr>\n",
       "      <th>7</th>\n",
       "      <td>OR</td>\n",
       "      <td>2017</td>\n",
       "    </tr>\n",
       "    <tr>\n",
       "      <th>8</th>\n",
       "      <td>WA</td>\n",
       "      <td>2017</td>\n",
       "    </tr>\n",
       "    <tr>\n",
       "      <th>9</th>\n",
       "      <td>CA</td>\n",
       "      <td>2016</td>\n",
       "    </tr>\n",
       "    <tr>\n",
       "      <th>10</th>\n",
       "      <td>OR</td>\n",
       "      <td>2016</td>\n",
       "    </tr>\n",
       "    <tr>\n",
       "      <th>11</th>\n",
       "      <td>WA</td>\n",
       "      <td>2016</td>\n",
       "    </tr>\n",
       "    <tr>\n",
       "      <th>12</th>\n",
       "      <td>CA</td>\n",
       "      <td>2015</td>\n",
       "    </tr>\n",
       "    <tr>\n",
       "      <th>13</th>\n",
       "      <td>OR</td>\n",
       "      <td>2015</td>\n",
       "    </tr>\n",
       "    <tr>\n",
       "      <th>14</th>\n",
       "      <td>WA</td>\n",
       "      <td>2015</td>\n",
       "    </tr>\n",
       "    <tr>\n",
       "      <th>15</th>\n",
       "      <td>CA</td>\n",
       "      <td>2014</td>\n",
       "    </tr>\n",
       "    <tr>\n",
       "      <th>16</th>\n",
       "      <td>OR</td>\n",
       "      <td>2014</td>\n",
       "    </tr>\n",
       "    <tr>\n",
       "      <th>17</th>\n",
       "      <td>WA</td>\n",
       "      <td>2014</td>\n",
       "    </tr>\n",
       "    <tr>\n",
       "      <th>18</th>\n",
       "      <td>CA</td>\n",
       "      <td>2013</td>\n",
       "    </tr>\n",
       "    <tr>\n",
       "      <th>19</th>\n",
       "      <td>OR</td>\n",
       "      <td>2013</td>\n",
       "    </tr>\n",
       "    <tr>\n",
       "      <th>20</th>\n",
       "      <td>WA</td>\n",
       "      <td>2013</td>\n",
       "    </tr>\n",
       "    <tr>\n",
       "      <th>21</th>\n",
       "      <td>CA</td>\n",
       "      <td>2012</td>\n",
       "    </tr>\n",
       "    <tr>\n",
       "      <th>22</th>\n",
       "      <td>OR</td>\n",
       "      <td>2012</td>\n",
       "    </tr>\n",
       "    <tr>\n",
       "      <th>23</th>\n",
       "      <td>WA</td>\n",
       "      <td>2012</td>\n",
       "    </tr>\n",
       "    <tr>\n",
       "      <th>24</th>\n",
       "      <td>CA</td>\n",
       "      <td>2011</td>\n",
       "    </tr>\n",
       "    <tr>\n",
       "      <th>25</th>\n",
       "      <td>OR</td>\n",
       "      <td>2011</td>\n",
       "    </tr>\n",
       "    <tr>\n",
       "      <th>26</th>\n",
       "      <td>WA</td>\n",
       "      <td>2011</td>\n",
       "    </tr>\n",
       "    <tr>\n",
       "      <th>27</th>\n",
       "      <td>CA</td>\n",
       "      <td>2010</td>\n",
       "    </tr>\n",
       "    <tr>\n",
       "      <th>28</th>\n",
       "      <td>OR</td>\n",
       "      <td>2010</td>\n",
       "    </tr>\n",
       "    <tr>\n",
       "      <th>29</th>\n",
       "      <td>WA</td>\n",
       "      <td>2010</td>\n",
       "    </tr>\n",
       "    <tr>\n",
       "      <th>30</th>\n",
       "      <td>CA</td>\n",
       "      <td>2009</td>\n",
       "    </tr>\n",
       "    <tr>\n",
       "      <th>31</th>\n",
       "      <td>OR</td>\n",
       "      <td>2009</td>\n",
       "    </tr>\n",
       "    <tr>\n",
       "      <th>32</th>\n",
       "      <td>WA</td>\n",
       "      <td>2009</td>\n",
       "    </tr>\n",
       "    <tr>\n",
       "      <th>33</th>\n",
       "      <td>CA</td>\n",
       "      <td>2008</td>\n",
       "    </tr>\n",
       "    <tr>\n",
       "      <th>34</th>\n",
       "      <td>OR</td>\n",
       "      <td>2008</td>\n",
       "    </tr>\n",
       "    <tr>\n",
       "      <th>35</th>\n",
       "      <td>WA</td>\n",
       "      <td>2008</td>\n",
       "    </tr>\n",
       "    <tr>\n",
       "      <th>36</th>\n",
       "      <td>CA</td>\n",
       "      <td>2007</td>\n",
       "    </tr>\n",
       "    <tr>\n",
       "      <th>37</th>\n",
       "      <td>OR</td>\n",
       "      <td>2007</td>\n",
       "    </tr>\n",
       "    <tr>\n",
       "      <th>38</th>\n",
       "      <td>WA</td>\n",
       "      <td>2007</td>\n",
       "    </tr>\n",
       "    <tr>\n",
       "      <th>39</th>\n",
       "      <td>CA</td>\n",
       "      <td>2006</td>\n",
       "    </tr>\n",
       "    <tr>\n",
       "      <th>40</th>\n",
       "      <td>OR</td>\n",
       "      <td>2006</td>\n",
       "    </tr>\n",
       "    <tr>\n",
       "      <th>41</th>\n",
       "      <td>WA</td>\n",
       "      <td>2006</td>\n",
       "    </tr>\n",
       "    <tr>\n",
       "      <th>42</th>\n",
       "      <td>CA</td>\n",
       "      <td>2005</td>\n",
       "    </tr>\n",
       "    <tr>\n",
       "      <th>43</th>\n",
       "      <td>OR</td>\n",
       "      <td>2005</td>\n",
       "    </tr>\n",
       "    <tr>\n",
       "      <th>44</th>\n",
       "      <td>WA</td>\n",
       "      <td>2005</td>\n",
       "    </tr>\n",
       "    <tr>\n",
       "      <th>45</th>\n",
       "      <td>CA</td>\n",
       "      <td>2004</td>\n",
       "    </tr>\n",
       "    <tr>\n",
       "      <th>46</th>\n",
       "      <td>OR</td>\n",
       "      <td>2004</td>\n",
       "    </tr>\n",
       "    <tr>\n",
       "      <th>47</th>\n",
       "      <td>WA</td>\n",
       "      <td>2004</td>\n",
       "    </tr>\n",
       "    <tr>\n",
       "      <th>48</th>\n",
       "      <td>CA</td>\n",
       "      <td>2003</td>\n",
       "    </tr>\n",
       "    <tr>\n",
       "      <th>49</th>\n",
       "      <td>OR</td>\n",
       "      <td>2003</td>\n",
       "    </tr>\n",
       "    <tr>\n",
       "      <th>50</th>\n",
       "      <td>WA</td>\n",
       "      <td>2003</td>\n",
       "    </tr>\n",
       "    <tr>\n",
       "      <th>51</th>\n",
       "      <td>CA</td>\n",
       "      <td>2002</td>\n",
       "    </tr>\n",
       "    <tr>\n",
       "      <th>52</th>\n",
       "      <td>OR</td>\n",
       "      <td>2002</td>\n",
       "    </tr>\n",
       "    <tr>\n",
       "      <th>53</th>\n",
       "      <td>WA</td>\n",
       "      <td>2002</td>\n",
       "    </tr>\n",
       "    <tr>\n",
       "      <th>54</th>\n",
       "      <td>CA</td>\n",
       "      <td>2001</td>\n",
       "    </tr>\n",
       "    <tr>\n",
       "      <th>55</th>\n",
       "      <td>OR</td>\n",
       "      <td>2001</td>\n",
       "    </tr>\n",
       "    <tr>\n",
       "      <th>56</th>\n",
       "      <td>WA</td>\n",
       "      <td>2001</td>\n",
       "    </tr>\n",
       "    <tr>\n",
       "      <th>57</th>\n",
       "      <td>OR</td>\n",
       "      <td>1999</td>\n",
       "    </tr>\n",
       "    <tr>\n",
       "      <th>58</th>\n",
       "      <td>CA</td>\n",
       "      <td>1994</td>\n",
       "    </tr>\n",
       "  </tbody>\n",
       "</table>\n",
       "</div>"
      ],
      "text/plain": [
       "   STATE  INVYR\n",
       "0     CA   2019\n",
       "1     OR   2019\n",
       "2     WA   2019\n",
       "3     CA   2018\n",
       "4     OR   2018\n",
       "5     WA   2018\n",
       "6     CA   2017\n",
       "7     OR   2017\n",
       "8     WA   2017\n",
       "9     CA   2016\n",
       "10    OR   2016\n",
       "11    WA   2016\n",
       "12    CA   2015\n",
       "13    OR   2015\n",
       "14    WA   2015\n",
       "15    CA   2014\n",
       "16    OR   2014\n",
       "17    WA   2014\n",
       "18    CA   2013\n",
       "19    OR   2013\n",
       "20    WA   2013\n",
       "21    CA   2012\n",
       "22    OR   2012\n",
       "23    WA   2012\n",
       "24    CA   2011\n",
       "25    OR   2011\n",
       "26    WA   2011\n",
       "27    CA   2010\n",
       "28    OR   2010\n",
       "29    WA   2010\n",
       "30    CA   2009\n",
       "31    OR   2009\n",
       "32    WA   2009\n",
       "33    CA   2008\n",
       "34    OR   2008\n",
       "35    WA   2008\n",
       "36    CA   2007\n",
       "37    OR   2007\n",
       "38    WA   2007\n",
       "39    CA   2006\n",
       "40    OR   2006\n",
       "41    WA   2006\n",
       "42    CA   2005\n",
       "43    OR   2005\n",
       "44    WA   2005\n",
       "45    CA   2004\n",
       "46    OR   2004\n",
       "47    WA   2004\n",
       "48    CA   2003\n",
       "49    OR   2003\n",
       "50    WA   2003\n",
       "51    CA   2002\n",
       "52    OR   2002\n",
       "53    WA   2002\n",
       "54    CA   2001\n",
       "55    OR   2001\n",
       "56    WA   2001\n",
       "57    OR   1999\n",
       "58    CA   1994"
      ]
     },
     "execution_count": 14,
     "metadata": {},
     "output_type": "execute_result"
    }
   ],
   "source": [
    "# Show date range on conditions table\n",
    "cond_df[['STATE', 'INVYR']].drop_duplicates().\\\n",
    "    sort_values(by=['INVYR', 'STATE'],\n",
    "                ascending=[False, True]).reset_index(drop=True)"
   ]
  },
  {
   "cell_type": "code",
   "execution_count": 15,
   "id": "7e1cb2fb",
   "metadata": {},
   "outputs": [],
   "source": [
    "cond_df = cond_df.rename(columns={'INVYR': 'year'})\n",
    "cond_df = cond_df.loc[(cond_df['year'] >= 2016) & (cond_df['year'] <= 2019)]"
   ]
  },
  {
   "cell_type": "code",
   "execution_count": 16,
   "id": "dc3b20aa",
   "metadata": {},
   "outputs": [
    {
     "name": "stdout",
     "output_type": "stream",
     "text": [
      "               geohash  year  count\n",
      "0      8512d803fffffff  2016      4\n",
      "1      8512d803fffffff  2017      5\n",
      "2      8512d803fffffff  2018      2\n",
      "3      8512d803fffffff  2019      4\n",
      "4      8512d807fffffff  2016      2\n",
      "...                ...   ...    ...\n",
      "12089  85485bb7fffffff  2018      1\n",
      "12090  85485bb7fffffff  2019      1\n",
      "12091  85485bbbfffffff  2016      1\n",
      "12092  85485bbbfffffff  2018      1\n",
      "12093  85485bbbfffffff  2019      1\n",
      "\n",
      "[12094 rows x 3 columns]\n"
     ]
    }
   ],
   "source": [
    "summary = cond_df.groupby(['geohash', 'year']).size().reset_index(name='count')\n",
    "print(summary)"
   ]
  },
  {
   "cell_type": "markdown",
   "id": "cceeb203",
   "metadata": {},
   "source": [
    "# Merge Final Dataframe"
   ]
  },
  {
   "cell_type": "code",
   "execution_count": 17,
   "id": "4e78b61f",
   "metadata": {},
   "outputs": [
    {
     "name": "stdout",
     "output_type": "stream",
     "text": [
      "24067\n",
      "23405\n",
      "22718\n"
     ]
    }
   ],
   "source": [
    "print(len(wfil_df))\n",
    "print(len(wthr_df))\n",
    "print(len(cond_df))"
   ]
  },
  {
   "cell_type": "code",
   "execution_count": 18,
   "id": "3dd42d61",
   "metadata": {},
   "outputs": [
    {
     "name": "stdout",
     "output_type": "stream",
     "text": [
      "37540\n"
     ]
    }
   ],
   "source": [
    "# First, merge weather and conditions for 'superset'\n",
    "merged_df = pd.merge(wthr_df, cond_df, on=['year', 'geohash'], how='inner')\n",
    "print(len(merged_df))"
   ]
  },
  {
   "cell_type": "code",
   "execution_count": 19,
   "id": "23d415e7",
   "metadata": {},
   "outputs": [
    {
     "name": "stdout",
     "output_type": "stream",
     "text": [
      "42289\n"
     ]
    }
   ],
   "source": [
    "# Then merge superset with fires for full set\n",
    "merged_df = pd.merge(merged_df, wfil_df, on=['year', 'month', 'geohash'], how='left')\n",
    "print(len(merged_df))"
   ]
  },
  {
   "cell_type": "code",
   "execution_count": 20,
   "id": "383c65d6",
   "metadata": {},
   "outputs": [],
   "source": [
    "merged_df['fire'] = merged_df['fire'].fillna(0)"
   ]
  },
  {
   "cell_type": "code",
   "execution_count": 21,
   "id": "dc5b8022",
   "metadata": {},
   "outputs": [
    {
     "name": "stdout",
     "output_type": "stream",
     "text": [
      "   fire  count\n",
      "0   0.0  32559\n",
      "1   1.0   9730\n"
     ]
    }
   ],
   "source": [
    "print(merged_df.groupby(['fire']).size().reset_index(name='count'))"
   ]
  },
  {
   "cell_type": "code",
   "execution_count": 22,
   "id": "a9e8d95f",
   "metadata": {},
   "outputs": [
    {
     "name": "stdout",
     "output_type": "stream",
     "text": [
      "<class 'pandas.core.frame.DataFrame'>\n",
      "Int64Index: 42289 entries, 0 to 42288\n",
      "Data columns (total 89 columns):\n",
      " #   Column                    Non-Null Count  Dtype         \n",
      "---  ------                    --------------  -----         \n",
      " 0   STATION                   42289 non-null  object        \n",
      " 1   LATITUDE                  42289 non-null  float64       \n",
      " 2   LONGITUDE                 42289 non-null  float64       \n",
      " 3   ELEVATION                 42289 non-null  float64       \n",
      " 4   NAME                      42289 non-null  object        \n",
      " 5   CDSD                      39981 non-null  float64       \n",
      " 6   CDSD_ATTRIBUTES           39577 non-null  object        \n",
      " 7   CLDD                      42241 non-null  float64       \n",
      " 8   CLDD_ATTRIBUTES           42241 non-null  object        \n",
      " 9   DT00                      42279 non-null  float64       \n",
      " 10  DT00_ATTRIBUTES           42279 non-null  object        \n",
      " 11  DT32                      42279 non-null  float64       \n",
      " 12  DT32_ATTRIBUTES           42279 non-null  object        \n",
      " 13  DX32                      42270 non-null  float64       \n",
      " 14  DX32_ATTRIBUTES           42270 non-null  object        \n",
      " 15  DX70                      42270 non-null  float64       \n",
      " 16  DX70_ATTRIBUTES           42270 non-null  object        \n",
      " 17  DX90                      42270 non-null  float64       \n",
      " 18  DX90_ATTRIBUTES           42270 non-null  object        \n",
      " 19  EMNT                      42279 non-null  float64       \n",
      " 20  EMNT_ATTRIBUTES           42279 non-null  object        \n",
      " 21  EMXT                      42270 non-null  float64       \n",
      " 22  EMXT_ATTRIBUTES           42270 non-null  object        \n",
      " 23  HDSD                      40494 non-null  float64       \n",
      " 24  HDSD_ATTRIBUTES           40083 non-null  object        \n",
      " 25  HTDD                      42241 non-null  float64       \n",
      " 26  HTDD_ATTRIBUTES           42241 non-null  object        \n",
      " 27  TAVG                      42260 non-null  float64       \n",
      " 28  TAVG_ATTRIBUTES           42260 non-null  object        \n",
      " 29  TMAX                      42270 non-null  float64       \n",
      " 30  TMAX_ATTRIBUTES           42270 non-null  object        \n",
      " 31  TMIN                      42279 non-null  float64       \n",
      " 32  TMIN_ATTRIBUTES           42279 non-null  object        \n",
      " 33  geohash                   42289 non-null  object        \n",
      " 34  year                      42289 non-null  int64         \n",
      " 35  month                     42289 non-null  int64         \n",
      " 36  PLT_CN                    42289 non-null  int64         \n",
      " 37  COND_STATUS_CD            42289 non-null  int64         \n",
      " 38  MAPDEN                    23608 non-null  float64       \n",
      " 39  STDAGE                    21400 non-null  float64       \n",
      " 40  STDSZCD                   23608 non-null  float64       \n",
      " 41  FLDSZCD                   23608 non-null  float64       \n",
      " 42  SITECLCD                  23608 non-null  float64       \n",
      " 43  SICOND                    21549 non-null  float64       \n",
      " 44  STDORGCD                  23608 non-null  float64       \n",
      " 45  SLOPE                     23608 non-null  float64       \n",
      " 46  PHYSCLCD                  26600 non-null  float64       \n",
      " 47  GSSTKCD                   23608 non-null  float64       \n",
      " 48  DSTRBCD1                  26600 non-null  float64       \n",
      " 49  TRTCD1                    23608 non-null  float64       \n",
      " 50  PRESNFCD                  14696 non-null  float64       \n",
      " 51  FLDAGE                    23608 non-null  float64       \n",
      " 52  CARBON_DOWN_DEAD          23608 non-null  float64       \n",
      " 53  CARBON_LITTER             23608 non-null  float64       \n",
      " 54  CARBON_SOIL_ORG           23608 non-null  float64       \n",
      " 55  CARBON_STANDING_DEAD      23608 non-null  float64       \n",
      " 56  CARBON_UNDERSTORY_AG      23608 non-null  float64       \n",
      " 57  CARBON_UNDERSTORY_BG      23608 non-null  float64       \n",
      " 58  STATE                     42289 non-null  object        \n",
      " 59  WATERCD                   30631 non-null  float64       \n",
      " 60  LAT                       42289 non-null  float64       \n",
      " 61  LON                       42289 non-null  float64       \n",
      " 62  ContainmentDateTime       4630 non-null   object        \n",
      " 63  ControlDateTime           4695 non-null   object        \n",
      " 64  DiscoveryAcres            9041 non-null   float64       \n",
      " 65  EstimatedCostToDate       181 non-null    float64       \n",
      " 66  FinalAcres                4 non-null      float64       \n",
      " 67  FireBehaviorGeneral       164 non-null    object        \n",
      " 68  FireBehaviorGeneral1      148 non-null    object        \n",
      " 69  FireBehaviorGeneral2      136 non-null    object        \n",
      " 70  FireBehaviorGeneral3      113 non-null    object        \n",
      " 71  FireCause                 9730 non-null   object        \n",
      " 72  FireCauseGeneral          43 non-null     object        \n",
      " 73  FireCauseSpecific         2 non-null      object        \n",
      " 74  FireDiscoveryDateTime     9730 non-null   object        \n",
      " 75  FireOutDateTime           5328 non-null   object        \n",
      " 76  GACC                      9728 non-null   object        \n",
      " 77  IncidentName              9730 non-null   object        \n",
      " 78  IncidentShortDescription  139 non-null    object        \n",
      " 79  InitialLatitude           9730 non-null   float64       \n",
      " 80  InitialLongitude          9730 non-null   float64       \n",
      " 81  IsFireCauseInvestigated   0 non-null      float64       \n",
      " 82  IsTrespass                6885 non-null   float64       \n",
      " 83  POOCity                   111 non-null    object        \n",
      " 84  POOState                  9730 non-null   object        \n",
      " 85  PredominantFuelModel      28 non-null     object        \n",
      " 86  PrimaryFuelModel          164 non-null    object        \n",
      " 87  ym_date                   9730 non-null   datetime64[ns]\n",
      " 88  fire                      42289 non-null  float64       \n",
      "dtypes: datetime64[ns](1), float64(48), int64(4), object(36)\n",
      "memory usage: 29.0+ MB\n",
      "None\n"
     ]
    }
   ],
   "source": [
    "print(merged_df.info())\n",
    "merged_df.to_csv('../data/merged.csv', index=False)"
   ]
  },
  {
   "cell_type": "code",
   "execution_count": 23,
   "id": "25309c71",
   "metadata": {},
   "outputs": [
    {
     "name": "stdout",
     "output_type": "stream",
     "text": [
      "Stored variables and their in-db values:\n",
      "autopilot_train_s3_uri                                -> 's3://sagemaker-us-east-1-857283526476/data/amazon\n",
      "balanced_bias_data_jsonlines_s3_uri                   -> 's3://sagemaker-us-east-1-857283526476/bias-detect\n",
      "balanced_bias_data_s3_uri                             -> 's3://sagemaker-us-east-1-857283526476/bias-detect\n",
      "bias_data_s3_uri                                      -> 's3://sagemaker-us-east-1-857283526476/bias-detect\n",
      "ingest_create_athena_db_passed                        -> True\n",
      "ingest_create_athena_table_parquet_passed             -> True\n",
      "ingest_create_athena_table_passed                     -> True\n",
      "ingest_create_athena_table_tsv_passed                 -> True\n",
      "s3_private_path                                       -> 's3://sagemaker-us-east-1-857283526476/widfire-ris\n",
      "s3_private_path_tsv                                   -> 's3://sagemaker-us-east-1-857283526476/amazon-revi\n",
      "s3_public_path                                        -> 's3://wildfire-risk/'\n",
      "s3_public_path_tsv                                    -> 's3://amazon-reviews-pds/tsv'\n",
      "setup_dependencies_passed                             -> True\n",
      "setup_iam_roles_passed                                -> True\n",
      "setup_instance_check_passed                           -> True\n",
      "setup_s3_bucket_passed                                -> True\n"
     ]
    }
   ],
   "source": [
    "%store"
   ]
  },
  {
   "cell_type": "code",
   "execution_count": 24,
   "id": "cfce389e-ee0c-4c29-8c7b-1bb8503b8fe0",
   "metadata": {},
   "outputs": [
    {
     "data": {
      "text/html": [
       "\n",
       "<p><b>Shutting down your kernel for this notebook to release resources.</b></p>\n",
       "<button class=\"sm-command-button\" data-commandlinker-command=\"kernelmenu:shutdown\" style=\"display:none;\">Shutdown Kernel</button>\n",
       "        \n",
       "<script>\n",
       "try {\n",
       "    els = document.getElementsByClassName(\"sm-command-button\");\n",
       "    els[0].click();\n",
       "}\n",
       "catch(err) {\n",
       "    // NoOp\n",
       "}    \n",
       "</script>\n"
      ],
      "text/plain": [
       "<IPython.core.display.HTML object>"
      ]
     },
     "metadata": {},
     "output_type": "display_data"
    }
   ],
   "source": [
    "%%html\n",
    "\n",
    "<p><b>Shutting down your kernel for this notebook to release resources.</b></p>\n",
    "<button class=\"sm-command-button\" data-commandlinker-command=\"kernelmenu:shutdown\" style=\"display:none;\">Shutdown Kernel</button>\n",
    "        \n",
    "<script>\n",
    "try {\n",
    "    els = document.getElementsByClassName(\"sm-command-button\");\n",
    "    els[0].click();\n",
    "}\n",
    "catch(err) {\n",
    "    // NoOp\n",
    "}    \n",
    "</script>"
   ]
  },
  {
   "cell_type": "code",
   "execution_count": 25,
   "id": "23ae2091-92e0-4eec-9eac-5c5b5ff4e1a3",
   "metadata": {
    "tags": []
   },
   "outputs": [
    {
     "data": {
      "application/javascript": [
       "\n",
       "try {\n",
       "    Jupyter.notebook.save_checkpoint();\n",
       "    Jupyter.notebook.session.delete();\n",
       "}\n",
       "catch(err) {\n",
       "    // NoOp\n",
       "}\n"
      ],
      "text/plain": [
       "<IPython.core.display.Javascript object>"
      ]
     },
     "metadata": {},
     "output_type": "display_data"
    }
   ],
   "source": [
    "%%javascript\n",
    "\n",
    "try {\n",
    "    Jupyter.notebook.save_checkpoint();\n",
    "    Jupyter.notebook.session.delete();\n",
    "}\n",
    "catch(err) {\n",
    "    // NoOp\n",
    "}"
   ]
  }
 ],
 "metadata": {
  "availableInstances": [
   {
    "_defaultOrder": 0,
    "_isFastLaunch": true,
    "category": "General purpose",
    "gpuNum": 0,
    "hideHardwareSpecs": false,
    "memoryGiB": 4,
    "name": "ml.t3.medium",
    "vcpuNum": 2
   },
   {
    "_defaultOrder": 1,
    "_isFastLaunch": false,
    "category": "General purpose",
    "gpuNum": 0,
    "hideHardwareSpecs": false,
    "memoryGiB": 8,
    "name": "ml.t3.large",
    "vcpuNum": 2
   },
   {
    "_defaultOrder": 2,
    "_isFastLaunch": false,
    "category": "General purpose",
    "gpuNum": 0,
    "hideHardwareSpecs": false,
    "memoryGiB": 16,
    "name": "ml.t3.xlarge",
    "vcpuNum": 4
   },
   {
    "_defaultOrder": 3,
    "_isFastLaunch": false,
    "category": "General purpose",
    "gpuNum": 0,
    "hideHardwareSpecs": false,
    "memoryGiB": 32,
    "name": "ml.t3.2xlarge",
    "vcpuNum": 8
   },
   {
    "_defaultOrder": 4,
    "_isFastLaunch": true,
    "category": "General purpose",
    "gpuNum": 0,
    "hideHardwareSpecs": false,
    "memoryGiB": 8,
    "name": "ml.m5.large",
    "vcpuNum": 2
   },
   {
    "_defaultOrder": 5,
    "_isFastLaunch": false,
    "category": "General purpose",
    "gpuNum": 0,
    "hideHardwareSpecs": false,
    "memoryGiB": 16,
    "name": "ml.m5.xlarge",
    "vcpuNum": 4
   },
   {
    "_defaultOrder": 6,
    "_isFastLaunch": false,
    "category": "General purpose",
    "gpuNum": 0,
    "hideHardwareSpecs": false,
    "memoryGiB": 32,
    "name": "ml.m5.2xlarge",
    "vcpuNum": 8
   },
   {
    "_defaultOrder": 7,
    "_isFastLaunch": false,
    "category": "General purpose",
    "gpuNum": 0,
    "hideHardwareSpecs": false,
    "memoryGiB": 64,
    "name": "ml.m5.4xlarge",
    "vcpuNum": 16
   },
   {
    "_defaultOrder": 8,
    "_isFastLaunch": false,
    "category": "General purpose",
    "gpuNum": 0,
    "hideHardwareSpecs": false,
    "memoryGiB": 128,
    "name": "ml.m5.8xlarge",
    "vcpuNum": 32
   },
   {
    "_defaultOrder": 9,
    "_isFastLaunch": false,
    "category": "General purpose",
    "gpuNum": 0,
    "hideHardwareSpecs": false,
    "memoryGiB": 192,
    "name": "ml.m5.12xlarge",
    "vcpuNum": 48
   },
   {
    "_defaultOrder": 10,
    "_isFastLaunch": false,
    "category": "General purpose",
    "gpuNum": 0,
    "hideHardwareSpecs": false,
    "memoryGiB": 256,
    "name": "ml.m5.16xlarge",
    "vcpuNum": 64
   },
   {
    "_defaultOrder": 11,
    "_isFastLaunch": false,
    "category": "General purpose",
    "gpuNum": 0,
    "hideHardwareSpecs": false,
    "memoryGiB": 384,
    "name": "ml.m5.24xlarge",
    "vcpuNum": 96
   },
   {
    "_defaultOrder": 12,
    "_isFastLaunch": false,
    "category": "General purpose",
    "gpuNum": 0,
    "hideHardwareSpecs": false,
    "memoryGiB": 8,
    "name": "ml.m5d.large",
    "vcpuNum": 2
   },
   {
    "_defaultOrder": 13,
    "_isFastLaunch": false,
    "category": "General purpose",
    "gpuNum": 0,
    "hideHardwareSpecs": false,
    "memoryGiB": 16,
    "name": "ml.m5d.xlarge",
    "vcpuNum": 4
   },
   {
    "_defaultOrder": 14,
    "_isFastLaunch": false,
    "category": "General purpose",
    "gpuNum": 0,
    "hideHardwareSpecs": false,
    "memoryGiB": 32,
    "name": "ml.m5d.2xlarge",
    "vcpuNum": 8
   },
   {
    "_defaultOrder": 15,
    "_isFastLaunch": false,
    "category": "General purpose",
    "gpuNum": 0,
    "hideHardwareSpecs": false,
    "memoryGiB": 64,
    "name": "ml.m5d.4xlarge",
    "vcpuNum": 16
   },
   {
    "_defaultOrder": 16,
    "_isFastLaunch": false,
    "category": "General purpose",
    "gpuNum": 0,
    "hideHardwareSpecs": false,
    "memoryGiB": 128,
    "name": "ml.m5d.8xlarge",
    "vcpuNum": 32
   },
   {
    "_defaultOrder": 17,
    "_isFastLaunch": false,
    "category": "General purpose",
    "gpuNum": 0,
    "hideHardwareSpecs": false,
    "memoryGiB": 192,
    "name": "ml.m5d.12xlarge",
    "vcpuNum": 48
   },
   {
    "_defaultOrder": 18,
    "_isFastLaunch": false,
    "category": "General purpose",
    "gpuNum": 0,
    "hideHardwareSpecs": false,
    "memoryGiB": 256,
    "name": "ml.m5d.16xlarge",
    "vcpuNum": 64
   },
   {
    "_defaultOrder": 19,
    "_isFastLaunch": false,
    "category": "General purpose",
    "gpuNum": 0,
    "hideHardwareSpecs": false,
    "memoryGiB": 384,
    "name": "ml.m5d.24xlarge",
    "vcpuNum": 96
   },
   {
    "_defaultOrder": 20,
    "_isFastLaunch": false,
    "category": "General purpose",
    "gpuNum": 0,
    "hideHardwareSpecs": true,
    "memoryGiB": 0,
    "name": "ml.geospatial.interactive",
    "supportedImageNames": [
     "sagemaker-geospatial-v1-0"
    ],
    "vcpuNum": 0
   },
   {
    "_defaultOrder": 21,
    "_isFastLaunch": true,
    "category": "Compute optimized",
    "gpuNum": 0,
    "hideHardwareSpecs": false,
    "memoryGiB": 4,
    "name": "ml.c5.large",
    "vcpuNum": 2
   },
   {
    "_defaultOrder": 22,
    "_isFastLaunch": false,
    "category": "Compute optimized",
    "gpuNum": 0,
    "hideHardwareSpecs": false,
    "memoryGiB": 8,
    "name": "ml.c5.xlarge",
    "vcpuNum": 4
   },
   {
    "_defaultOrder": 23,
    "_isFastLaunch": false,
    "category": "Compute optimized",
    "gpuNum": 0,
    "hideHardwareSpecs": false,
    "memoryGiB": 16,
    "name": "ml.c5.2xlarge",
    "vcpuNum": 8
   },
   {
    "_defaultOrder": 24,
    "_isFastLaunch": false,
    "category": "Compute optimized",
    "gpuNum": 0,
    "hideHardwareSpecs": false,
    "memoryGiB": 32,
    "name": "ml.c5.4xlarge",
    "vcpuNum": 16
   },
   {
    "_defaultOrder": 25,
    "_isFastLaunch": false,
    "category": "Compute optimized",
    "gpuNum": 0,
    "hideHardwareSpecs": false,
    "memoryGiB": 72,
    "name": "ml.c5.9xlarge",
    "vcpuNum": 36
   },
   {
    "_defaultOrder": 26,
    "_isFastLaunch": false,
    "category": "Compute optimized",
    "gpuNum": 0,
    "hideHardwareSpecs": false,
    "memoryGiB": 96,
    "name": "ml.c5.12xlarge",
    "vcpuNum": 48
   },
   {
    "_defaultOrder": 27,
    "_isFastLaunch": false,
    "category": "Compute optimized",
    "gpuNum": 0,
    "hideHardwareSpecs": false,
    "memoryGiB": 144,
    "name": "ml.c5.18xlarge",
    "vcpuNum": 72
   },
   {
    "_defaultOrder": 28,
    "_isFastLaunch": false,
    "category": "Compute optimized",
    "gpuNum": 0,
    "hideHardwareSpecs": false,
    "memoryGiB": 192,
    "name": "ml.c5.24xlarge",
    "vcpuNum": 96
   },
   {
    "_defaultOrder": 29,
    "_isFastLaunch": true,
    "category": "Accelerated computing",
    "gpuNum": 1,
    "hideHardwareSpecs": false,
    "memoryGiB": 16,
    "name": "ml.g4dn.xlarge",
    "vcpuNum": 4
   },
   {
    "_defaultOrder": 30,
    "_isFastLaunch": false,
    "category": "Accelerated computing",
    "gpuNum": 1,
    "hideHardwareSpecs": false,
    "memoryGiB": 32,
    "name": "ml.g4dn.2xlarge",
    "vcpuNum": 8
   },
   {
    "_defaultOrder": 31,
    "_isFastLaunch": false,
    "category": "Accelerated computing",
    "gpuNum": 1,
    "hideHardwareSpecs": false,
    "memoryGiB": 64,
    "name": "ml.g4dn.4xlarge",
    "vcpuNum": 16
   },
   {
    "_defaultOrder": 32,
    "_isFastLaunch": false,
    "category": "Accelerated computing",
    "gpuNum": 1,
    "hideHardwareSpecs": false,
    "memoryGiB": 128,
    "name": "ml.g4dn.8xlarge",
    "vcpuNum": 32
   },
   {
    "_defaultOrder": 33,
    "_isFastLaunch": false,
    "category": "Accelerated computing",
    "gpuNum": 4,
    "hideHardwareSpecs": false,
    "memoryGiB": 192,
    "name": "ml.g4dn.12xlarge",
    "vcpuNum": 48
   },
   {
    "_defaultOrder": 34,
    "_isFastLaunch": false,
    "category": "Accelerated computing",
    "gpuNum": 1,
    "hideHardwareSpecs": false,
    "memoryGiB": 256,
    "name": "ml.g4dn.16xlarge",
    "vcpuNum": 64
   },
   {
    "_defaultOrder": 35,
    "_isFastLaunch": false,
    "category": "Accelerated computing",
    "gpuNum": 1,
    "hideHardwareSpecs": false,
    "memoryGiB": 61,
    "name": "ml.p3.2xlarge",
    "vcpuNum": 8
   },
   {
    "_defaultOrder": 36,
    "_isFastLaunch": false,
    "category": "Accelerated computing",
    "gpuNum": 4,
    "hideHardwareSpecs": false,
    "memoryGiB": 244,
    "name": "ml.p3.8xlarge",
    "vcpuNum": 32
   },
   {
    "_defaultOrder": 37,
    "_isFastLaunch": false,
    "category": "Accelerated computing",
    "gpuNum": 8,
    "hideHardwareSpecs": false,
    "memoryGiB": 488,
    "name": "ml.p3.16xlarge",
    "vcpuNum": 64
   },
   {
    "_defaultOrder": 38,
    "_isFastLaunch": false,
    "category": "Accelerated computing",
    "gpuNum": 8,
    "hideHardwareSpecs": false,
    "memoryGiB": 768,
    "name": "ml.p3dn.24xlarge",
    "vcpuNum": 96
   },
   {
    "_defaultOrder": 39,
    "_isFastLaunch": false,
    "category": "Memory Optimized",
    "gpuNum": 0,
    "hideHardwareSpecs": false,
    "memoryGiB": 16,
    "name": "ml.r5.large",
    "vcpuNum": 2
   },
   {
    "_defaultOrder": 40,
    "_isFastLaunch": false,
    "category": "Memory Optimized",
    "gpuNum": 0,
    "hideHardwareSpecs": false,
    "memoryGiB": 32,
    "name": "ml.r5.xlarge",
    "vcpuNum": 4
   },
   {
    "_defaultOrder": 41,
    "_isFastLaunch": false,
    "category": "Memory Optimized",
    "gpuNum": 0,
    "hideHardwareSpecs": false,
    "memoryGiB": 64,
    "name": "ml.r5.2xlarge",
    "vcpuNum": 8
   },
   {
    "_defaultOrder": 42,
    "_isFastLaunch": false,
    "category": "Memory Optimized",
    "gpuNum": 0,
    "hideHardwareSpecs": false,
    "memoryGiB": 128,
    "name": "ml.r5.4xlarge",
    "vcpuNum": 16
   },
   {
    "_defaultOrder": 43,
    "_isFastLaunch": false,
    "category": "Memory Optimized",
    "gpuNum": 0,
    "hideHardwareSpecs": false,
    "memoryGiB": 256,
    "name": "ml.r5.8xlarge",
    "vcpuNum": 32
   },
   {
    "_defaultOrder": 44,
    "_isFastLaunch": false,
    "category": "Memory Optimized",
    "gpuNum": 0,
    "hideHardwareSpecs": false,
    "memoryGiB": 384,
    "name": "ml.r5.12xlarge",
    "vcpuNum": 48
   },
   {
    "_defaultOrder": 45,
    "_isFastLaunch": false,
    "category": "Memory Optimized",
    "gpuNum": 0,
    "hideHardwareSpecs": false,
    "memoryGiB": 512,
    "name": "ml.r5.16xlarge",
    "vcpuNum": 64
   },
   {
    "_defaultOrder": 46,
    "_isFastLaunch": false,
    "category": "Memory Optimized",
    "gpuNum": 0,
    "hideHardwareSpecs": false,
    "memoryGiB": 768,
    "name": "ml.r5.24xlarge",
    "vcpuNum": 96
   },
   {
    "_defaultOrder": 47,
    "_isFastLaunch": false,
    "category": "Accelerated computing",
    "gpuNum": 1,
    "hideHardwareSpecs": false,
    "memoryGiB": 16,
    "name": "ml.g5.xlarge",
    "vcpuNum": 4
   },
   {
    "_defaultOrder": 48,
    "_isFastLaunch": false,
    "category": "Accelerated computing",
    "gpuNum": 1,
    "hideHardwareSpecs": false,
    "memoryGiB": 32,
    "name": "ml.g5.2xlarge",
    "vcpuNum": 8
   },
   {
    "_defaultOrder": 49,
    "_isFastLaunch": false,
    "category": "Accelerated computing",
    "gpuNum": 1,
    "hideHardwareSpecs": false,
    "memoryGiB": 64,
    "name": "ml.g5.4xlarge",
    "vcpuNum": 16
   },
   {
    "_defaultOrder": 50,
    "_isFastLaunch": false,
    "category": "Accelerated computing",
    "gpuNum": 1,
    "hideHardwareSpecs": false,
    "memoryGiB": 128,
    "name": "ml.g5.8xlarge",
    "vcpuNum": 32
   },
   {
    "_defaultOrder": 51,
    "_isFastLaunch": false,
    "category": "Accelerated computing",
    "gpuNum": 1,
    "hideHardwareSpecs": false,
    "memoryGiB": 256,
    "name": "ml.g5.16xlarge",
    "vcpuNum": 64
   },
   {
    "_defaultOrder": 52,
    "_isFastLaunch": false,
    "category": "Accelerated computing",
    "gpuNum": 4,
    "hideHardwareSpecs": false,
    "memoryGiB": 192,
    "name": "ml.g5.12xlarge",
    "vcpuNum": 48
   },
   {
    "_defaultOrder": 53,
    "_isFastLaunch": false,
    "category": "Accelerated computing",
    "gpuNum": 4,
    "hideHardwareSpecs": false,
    "memoryGiB": 384,
    "name": "ml.g5.24xlarge",
    "vcpuNum": 96
   },
   {
    "_defaultOrder": 54,
    "_isFastLaunch": false,
    "category": "Accelerated computing",
    "gpuNum": 8,
    "hideHardwareSpecs": false,
    "memoryGiB": 768,
    "name": "ml.g5.48xlarge",
    "vcpuNum": 192
   }
  ],
  "instance_type": "ml.t3.medium",
  "kernelspec": {
   "display_name": "Python 3 (Data Science)",
   "language": "python",
   "name": "python3__SAGEMAKER_INTERNAL__arn:aws:sagemaker:us-east-1:081325390199:image/datascience-1.0"
  },
  "language_info": {
   "codemirror_mode": {
    "name": "ipython",
    "version": 3
   },
   "file_extension": ".py",
   "mimetype": "text/x-python",
   "name": "python",
   "nbconvert_exporter": "python",
   "pygments_lexer": "ipython3",
   "version": "3.7.10"
  }
 },
 "nbformat": 4,
 "nbformat_minor": 5
}
