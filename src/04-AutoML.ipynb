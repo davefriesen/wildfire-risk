{
 "cells": [
  {
   "cell_type": "markdown",
   "id": "a7d9334d-6d7d-4582-8e7d-f52e91991cd5",
   "metadata": {},
   "source": [
    "# Wildfire Risk - AutoML\n",
    "__Team 3 - Dave Friesen, John Chen, and Kyle Dalope__<br>\n",
    "__ADS-508-02-SP23__<br><br>\n",
    "__GitHub link: https://github.com/davefriesen/wildfire-risk__"
   ]
  },
  {
   "cell_type": "code",
   "execution_count": 82,
   "id": "ccd8d4fe-3815-48b2-a363-ce48163c9755",
   "metadata": {},
   "outputs": [],
   "source": [
    "__authors__ = ['Dave Friesen', 'John Chen', 'Kyle Dalope']\n",
    "__contact__ = ['dfriesen@sandiego.edu', 'johnchen@sandiego.edu', 'kdalope@sandiego.edu']\n",
    "__date__ = '2023-03-20'\n",
    "__license__ = 'MIT'\n",
    "__version__ = '1.0.1'"
   ]
  },
  {
   "cell_type": "markdown",
   "id": "97b0b777-f89a-4709-8043-3c9fc479581c",
   "metadata": {},
   "source": [
    "# Checking Pre-Requisites From Previous Notebook"
   ]
  },
  {
   "cell_type": "code",
   "execution_count": 83,
   "id": "c37af909-4935-4594-8846-57b60418c2ad",
   "metadata": {},
   "outputs": [],
   "source": [
    "%store -r autopilot_train_s3_wf"
   ]
  },
  {
   "cell_type": "code",
   "execution_count": 84,
   "id": "1ed13efa-b4f6-43e9-856a-9b3b26dcae0c",
   "metadata": {},
   "outputs": [
    {
     "name": "stdout",
     "output_type": "stream",
     "text": [
      "[OK]\n"
     ]
    }
   ],
   "source": [
    "try:\n",
    "    autopilot_train_s3_wf\n",
    "    print(\"[OK]\")\n",
    "except NameError:\n",
    "    print(\"+++++++++++++++++++++++++++++++++++++++++++++++++++++++++++++++++++++\")\n",
    "    print(\"[ERROR] PLEASE RUN THE PREVIOUS 01_PREPARE_DATASET_AUTOPILOT NOTEBOOK.\")\n",
    "    print(\"+++++++++++++++++++++++++++++++++++++++++++++++++++++++++++++++++++++\")"
   ]
  },
  {
   "cell_type": "code",
   "execution_count": 85,
   "id": "589f3901-e8ef-4d4d-8a76-4c1d10d3eda8",
   "metadata": {},
   "outputs": [
    {
     "name": "stdout",
     "output_type": "stream",
     "text": [
      "[OK]\n"
     ]
    }
   ],
   "source": [
    "if not autopilot_train_s3_wf:\n",
    "    print(\"+++++++++++++++++++++++++++++++++++++++++++++++++++++++++++++++++++++\")\n",
    "    print(\"[ERROR] PLEASE RUN THE PREVIOUS 01_PREPARE_DATASET_AUTOPILOT NOTEBOOK.\")\n",
    "    print(\"+++++++++++++++++++++++++++++++++++++++++++++++++++++++++++++++++++++\")\n",
    "else:\n",
    "    print(\"[OK]\")"
   ]
  },
  {
   "cell_type": "code",
   "execution_count": 86,
   "id": "282eccd3-3609-408f-8705-56e6c5cde05e",
   "metadata": {},
   "outputs": [],
   "source": [
    "import boto3\n",
    "import sagemaker\n",
    "import pandas as pd\n",
    "import json\n",
    "\n",
    "sess = sagemaker.Session()\n",
    "bucket = sess.default_bucket()\n",
    "role = sagemaker.get_execution_role()\n",
    "region = boto3.Session().region_name\n",
    "\n",
    "sm = boto3.Session().client(service_name=\"sagemaker\", region_name=region)"
   ]
  },
  {
   "cell_type": "code",
   "execution_count": 87,
   "id": "5064696a-6be4-4100-8036-5cd7833861e8",
   "metadata": {},
   "outputs": [
    {
     "name": "stdout",
     "output_type": "stream",
     "text": [
      "2023-03-30 03:34:37    1045513 wildfire_risk_autopilot.csv\n",
      "s3://sagemaker-us-east-1-857283526476/data/wildfire_risk_autopilot.csv\n"
     ]
    }
   ],
   "source": [
    "#Training\n",
    "\n",
    "!aws s3 ls $autopilot_train_s3_wf\n",
    "\n",
    "print(autopilot_train_s3_wf)"
   ]
  },
  {
   "cell_type": "code",
   "execution_count": 88,
   "id": "ea877ea1-0d96-46db-81fe-e92685d4131f",
   "metadata": {},
   "outputs": [
    {
     "name": "stdout",
     "output_type": "stream",
     "text": [
      "2023-03-30 03:34:37    1045513 wildfire_risk_autopilot.csv\n"
     ]
    }
   ],
   "source": [
    "!aws s3 ls $autopilot_train_s3_wf"
   ]
  },
  {
   "cell_type": "code",
   "execution_count": 89,
   "id": "e855c7ff-779f-47b7-9365-15369a580d2b",
   "metadata": {},
   "outputs": [
    {
     "name": "stdout",
     "output_type": "stream",
     "text": [
      "download: s3://sagemaker-us-east-1-857283526476/data/wildfire_risk_autopilot.csv to tmp/wildfire_risk_autopilot.csv\n"
     ]
    },
    {
     "data": {
      "text/html": [
       "<div>\n",
       "<style scoped>\n",
       "    .dataframe tbody tr th:only-of-type {\n",
       "        vertical-align: middle;\n",
       "    }\n",
       "\n",
       "    .dataframe tbody tr th {\n",
       "        vertical-align: top;\n",
       "    }\n",
       "\n",
       "    .dataframe thead th {\n",
       "        text-align: right;\n",
       "    }\n",
       "</style>\n",
       "<table border=\"1\" class=\"dataframe\">\n",
       "  <thead>\n",
       "    <tr style=\"text-align: right;\">\n",
       "      <th></th>\n",
       "      <th>fire</th>\n",
       "      <th>ContainmentDateTime</th>\n",
       "      <th>ControlDateTime</th>\n",
       "      <th>DiscoveryAcres</th>\n",
       "      <th>FireCause</th>\n",
       "      <th>FireDiscoveryDateTime</th>\n",
       "      <th>FireOutDateTime</th>\n",
       "      <th>POOState</th>\n",
       "      <th>InitialLatitude</th>\n",
       "      <th>InitialLongitude</th>\n",
       "      <th>GACC</th>\n",
       "    </tr>\n",
       "  </thead>\n",
       "  <tbody>\n",
       "    <tr>\n",
       "      <th>0</th>\n",
       "      <td>1.0</td>\n",
       "      <td>NaN</td>\n",
       "      <td>NaN</td>\n",
       "      <td>0.1</td>\n",
       "      <td>Unknown</td>\n",
       "      <td>2019/07/05 03:30:08+00</td>\n",
       "      <td>NaN</td>\n",
       "      <td>US-CA</td>\n",
       "      <td>34.409520</td>\n",
       "      <td>-118.457020</td>\n",
       "      <td>OSCC</td>\n",
       "    </tr>\n",
       "    <tr>\n",
       "      <th>1</th>\n",
       "      <td>1.0</td>\n",
       "      <td>NaN</td>\n",
       "      <td>NaN</td>\n",
       "      <td>0.1</td>\n",
       "      <td>Unknown</td>\n",
       "      <td>2019/09/01 19:05:06+00</td>\n",
       "      <td>NaN</td>\n",
       "      <td>US-CA</td>\n",
       "      <td>37.064037</td>\n",
       "      <td>-119.508731</td>\n",
       "      <td>OSCC</td>\n",
       "    </tr>\n",
       "    <tr>\n",
       "      <th>2</th>\n",
       "      <td>1.0</td>\n",
       "      <td>2018/02/18 21:00:00+00</td>\n",
       "      <td>2018/02/18 21:04:59+00</td>\n",
       "      <td>0.1</td>\n",
       "      <td>Human</td>\n",
       "      <td>2018/02/18 19:38:00+00</td>\n",
       "      <td>2018/10/12 18:59:59+00</td>\n",
       "      <td>US-CA</td>\n",
       "      <td>37.783830</td>\n",
       "      <td>-119.072300</td>\n",
       "      <td>OSCC</td>\n",
       "    </tr>\n",
       "    <tr>\n",
       "      <th>3</th>\n",
       "      <td>1.0</td>\n",
       "      <td>NaN</td>\n",
       "      <td>NaN</td>\n",
       "      <td>0.1</td>\n",
       "      <td>Unknown</td>\n",
       "      <td>2018/08/11 12:37:48+00</td>\n",
       "      <td>NaN</td>\n",
       "      <td>US-CA</td>\n",
       "      <td>34.151110</td>\n",
       "      <td>-118.693890</td>\n",
       "      <td>OSCC</td>\n",
       "    </tr>\n",
       "    <tr>\n",
       "      <th>4</th>\n",
       "      <td>0.0</td>\n",
       "      <td>NaN</td>\n",
       "      <td>NaN</td>\n",
       "      <td>NaN</td>\n",
       "      <td>NaN</td>\n",
       "      <td>NaN</td>\n",
       "      <td>NaN</td>\n",
       "      <td>NaN</td>\n",
       "      <td>NaN</td>\n",
       "      <td>NaN</td>\n",
       "      <td>NaN</td>\n",
       "    </tr>\n",
       "  </tbody>\n",
       "</table>\n",
       "</div>"
      ],
      "text/plain": [
       "   fire     ContainmentDateTime         ControlDateTime  DiscoveryAcres  \\\n",
       "0   1.0                     NaN                     NaN             0.1   \n",
       "1   1.0                     NaN                     NaN             0.1   \n",
       "2   1.0  2018/02/18 21:00:00+00  2018/02/18 21:04:59+00             0.1   \n",
       "3   1.0                     NaN                     NaN             0.1   \n",
       "4   0.0                     NaN                     NaN             NaN   \n",
       "\n",
       "  FireCause   FireDiscoveryDateTime         FireOutDateTime POOState  \\\n",
       "0   Unknown  2019/07/05 03:30:08+00                     NaN    US-CA   \n",
       "1   Unknown  2019/09/01 19:05:06+00                     NaN    US-CA   \n",
       "2     Human  2018/02/18 19:38:00+00  2018/10/12 18:59:59+00    US-CA   \n",
       "3   Unknown  2018/08/11 12:37:48+00                     NaN    US-CA   \n",
       "4       NaN                     NaN                     NaN      NaN   \n",
       "\n",
       "   InitialLatitude  InitialLongitude  GACC  \n",
       "0        34.409520       -118.457020  OSCC  \n",
       "1        37.064037       -119.508731  OSCC  \n",
       "2        37.783830       -119.072300  OSCC  \n",
       "3        34.151110       -118.693890  OSCC  \n",
       "4              NaN               NaN   NaN  "
      ]
     },
     "execution_count": 89,
     "metadata": {},
     "output_type": "execute_result"
    }
   ],
   "source": [
    "import csv\n",
    "\n",
    "!aws s3 cp $autopilot_train_s3_wf ./tmp/\n",
    "\n",
    "df = pd.read_csv(\"./tmp/wildfire_risk_autopilot.csv\")\n",
    "df.head()"
   ]
  },
  {
   "cell_type": "markdown",
   "id": "761c754a-313f-4de4-995e-f853df56ced1",
   "metadata": {},
   "source": [
    "# Setup the S3 Location for the Autopilot-Generated Assets \n",
    "This include Jupyter Notebooks (Analysis), Python Scripts (Feature Engineering), and Trained Models."
   ]
  },
  {
   "cell_type": "code",
   "execution_count": 90,
   "id": "cd4c14d4-92d9-4fb3-97c2-8d8675129097",
   "metadata": {},
   "outputs": [
    {
     "name": "stdout",
     "output_type": "stream",
     "text": [
      "s3://sagemaker-us-east-1-857283526476/models/autopilot\n"
     ]
    }
   ],
   "source": [
    "prefix_model_output = \"models/autopilot\"\n",
    "\n",
    "model_output_s3_wf = \"s3://{}/{}\".format(bucket, prefix_model_output)\n",
    "\n",
    "print(model_output_s3_wf)"
   ]
  },
  {
   "cell_type": "code",
   "execution_count": 91,
   "id": "a07a55d7-44a8-4b52-9cb4-b316c78d7e26",
   "metadata": {},
   "outputs": [],
   "source": [
    "max_candidates = 3\n",
    "\n",
    "job_config = {\n",
    "    \"CompletionCriteria\": {\n",
    "        \"MaxRuntimePerTrainingJobInSeconds\": 900,\n",
    "        \"MaxCandidates\": max_candidates,\n",
    "        \"MaxAutoMLJobRuntimeInSeconds\": 5400,\n",
    "    },\n",
    "}\n",
    "\n",
    "input_data_config = [\n",
    "    {\n",
    "        \"DataSource\": {\"S3DataSource\": {\"S3DataType\": \"S3Prefix\", \"S3Uri\": \"{}\".format(autopilot_train_s3_wf)}},\n",
    "        \"TargetAttributeName\": \"fire\",\n",
    "    }\n",
    "]\n",
    "\n",
    "output_data_config = {\"S3OutputPath\": \"{}\".format(model_output_s3_wf)}"
   ]
  },
  {
   "cell_type": "code",
   "execution_count": 92,
   "id": "f0336ecd-0129-4be2-bae2-989c0ffb130b",
   "metadata": {},
   "outputs": [],
   "source": [
    "#Check for existing autopilot jobs\n",
    "\n",
    "existing_jobs_response = sm.list_auto_ml_jobs()"
   ]
  },
  {
   "cell_type": "code",
   "execution_count": 93,
   "id": "d19249a0-747b-4a60-ad2f-846c6ac5e768",
   "metadata": {},
   "outputs": [
    {
     "name": "stdout",
     "output_type": "stream",
     "text": [
      "[INFO] You have 0 Autopilot job(s) currently running << Should be 0 jobs.\n"
     ]
    }
   ],
   "source": [
    "num_existing_jobs = 0\n",
    "running_jobs = 0\n",
    "\n",
    "if \"AutoMLJobSummaries\" in existing_jobs_response.keys():\n",
    "    job_list = existing_jobs_response[\"AutoMLJobSummaries\"]\n",
    "    num_existing_jobs = len(job_list)\n",
    "    # print('[INFO] You already created {} Autopilot job(s) in this account.'.format(num_existing_jobs))\n",
    "    for j in job_list:\n",
    "        if \"AutoMLJobStatus\" in j.keys():\n",
    "            if j[\"AutoMLJobStatus\"] == \"InProgress\":\n",
    "                running_jobs = running_jobs + 1\n",
    "    print(\"[INFO] You have {} Autopilot job(s) currently running << Should be 0 jobs.\".format(running_jobs))\n",
    "else:\n",
    "    print(\"[OK] Please continue.\")"
   ]
  },
  {
   "cell_type": "code",
   "execution_count": 94,
   "id": "1c1446e4-2b7b-45e2-9907-ca8bf75bcb64",
   "metadata": {},
   "outputs": [],
   "source": [
    "#Launch Autopilot job\n",
    "\n",
    "from time import gmtime, strftime, sleep"
   ]
  },
  {
   "cell_type": "code",
   "execution_count": 95,
   "id": "40ffe1e8-220e-4346-8c76-248093fdb2be",
   "metadata": {},
   "outputs": [],
   "source": [
    "%store -r auto_ml_job_name\n",
    "\n",
    "try:\n",
    "    auto_ml_job_name\n",
    "except NameError:\n",
    "    timestamp_suffix = strftime(\"%d-%H-%M-%S\", gmtime())\n",
    "    auto_ml_job_name = \"automl-dm-\" + timestamp_suffix\n",
    "    print(\"Created AutoMLJobName: \" + auto_ml_job_name)"
   ]
  },
  {
   "cell_type": "code",
   "execution_count": 96,
   "id": "1d3f9d31-d111-413d-b24a-0019dbcd1f58",
   "metadata": {},
   "outputs": [
    {
     "name": "stdout",
     "output_type": "stream",
     "text": [
      "automl-dm-30-03-35-20\n"
     ]
    }
   ],
   "source": [
    "print(auto_ml_job_name)"
   ]
  },
  {
   "cell_type": "code",
   "execution_count": 97,
   "id": "ab716a64-0fca-404a-bfc7-95f6fc9d584a",
   "metadata": {},
   "outputs": [
    {
     "name": "stdout",
     "output_type": "stream",
     "text": [
      "Stored 'auto_ml_job_name' (str)\n"
     ]
    }
   ],
   "source": [
    "%store auto_ml_job_name"
   ]
  },
  {
   "cell_type": "code",
   "execution_count": 98,
   "id": "0c757e42-7c23-446b-a2ff-27a4f3edf7f7",
   "metadata": {},
   "outputs": [
    {
     "name": "stdout",
     "output_type": "stream",
     "text": [
      "[INFO] You have already launched an Autopilot job. Please continue see the output of this job.\n"
     ]
    }
   ],
   "source": [
    "max_running_jobs = 1\n",
    "\n",
    "if running_jobs < max_running_jobs:  # Limiting to max. 1 Jobs\n",
    "    try:\n",
    "        sm.create_auto_ml_job(\n",
    "            AutoMLJobName=auto_ml_job_name,\n",
    "            InputDataConfig=input_data_config,\n",
    "            OutputDataConfig=output_data_config,\n",
    "            AutoMLJobConfig=job_config,\n",
    "            RoleArn=role,\n",
    "        )\n",
    "        print(\"[OK] Autopilot Job {} created.\".format(auto_ml_job_name))\n",
    "        running_jobs = running_jobs + 1\n",
    "    except:\n",
    "        print(\n",
    "            \"[INFO] You have already launched an Autopilot job. Please continue see the output of this job.\".format(\n",
    "                running_jobs\n",
    "            )\n",
    "        )\n",
    "else:\n",
    "    print(\n",
    "        \"[INFO] You have already launched {} Autopilot running job(s). Please continue see the output of the running job.\".format(\n",
    "            running_jobs\n",
    "        )\n",
    "    )"
   ]
  },
  {
   "cell_type": "markdown",
   "id": "39c69ede-5726-46a4-8355-ca2d5015fe6a",
   "metadata": {},
   "source": [
    "# Analyzing Data and Generate Notebooks"
   ]
  },
  {
   "cell_type": "code",
   "execution_count": 99,
   "id": "0a385549-a891-4d18-88b0-8102fa35ba47",
   "metadata": {},
   "outputs": [
    {
     "name": "stdout",
     "output_type": "stream",
     "text": [
      "[OK] AutoMLJob started.\n"
     ]
    }
   ],
   "source": [
    "job_description_response = sm.describe_auto_ml_job(AutoMLJobName=auto_ml_job_name)\n",
    "\n",
    "while (\n",
    "    \"AutoMLJobStatus\" not in job_description_response.keys()\n",
    "    and \"AutoMLJobSecondaryStatus\" not in job_description_response.keys()\n",
    "):\n",
    "    job_description_response = sm.describe_auto_ml_job(AutoMLJobName=auto_ml_job_name)\n",
    "    print(\"[INFO] Autopilot Job has not yet started. Please wait. \")\n",
    "    print(json.dumps(job_description_response, indent=4, sort_keys=True, default=str))\n",
    "    print(\"[INFO] Waiting for Autopilot Job to start...\")\n",
    "    sleep(15)\n",
    "\n",
    "print(\"[OK] AutoMLJob started.\")"
   ]
  },
  {
   "cell_type": "markdown",
   "id": "5d59c498-56c7-41cd-894c-568acccf63e2",
   "metadata": {},
   "source": [
    "# Review the SageMaker `Processing Jobs`\n",
    "* First Processing Job (Data Splitter) checks the data sanity, performs stratified shuffling and splits the data into training and validation. \n",
    "* Second Processing Job (Candidate Generator) first streams through the data to compute statistics for the dataset. Then, uses these statistics to identify the problem type, and possible types of every column-predictor: numeric, categorical, natural language, etc."
   ]
  },
  {
   "cell_type": "code",
   "execution_count": 100,
   "id": "d8813c2c-021a-4805-b4cb-001f70532e7e",
   "metadata": {},
   "outputs": [
    {
     "data": {
      "text/html": [
       "<b>Review <a target=\"blank\" href=\"https://console.aws.amazon.com/sagemaker/home?region=us-east-1#/processing-jobs/\">Processing Jobs</a></b>"
      ],
      "text/plain": [
       "<IPython.core.display.HTML object>"
      ]
     },
     "metadata": {},
     "output_type": "display_data"
    }
   ],
   "source": [
    "from IPython.core.display import display, HTML\n",
    "\n",
    "display(\n",
    "    HTML(\n",
    "        '<b>Review <a target=\"blank\" href=\"https://console.aws.amazon.com/sagemaker/home?region={}#/processing-jobs/\">Processing Jobs</a></b>'.format(\n",
    "            region\n",
    "        )\n",
    "    )\n",
    ")"
   ]
  },
  {
   "cell_type": "code",
   "execution_count": 101,
   "id": "14373848-e299-40e0-8e87-6dcd7e09a8e3",
   "metadata": {},
   "outputs": [
    {
     "name": "stdout",
     "output_type": "stream",
     "text": [
      "[OK] Data analysis phase completed.\n",
      "\n",
      "{\n",
      "    \"AutoMLJobArn\": \"arn:aws:sagemaker:us-east-1:857283526476:automl-job/automl-dm-30-03-35-20\",\n",
      "    \"AutoMLJobArtifacts\": {\n",
      "        \"CandidateDefinitionNotebookLocation\": \"s3://sagemaker-us-east-1-857283526476/models/autopilot/automl-dm-30-03-35-20/sagemaker-automl-candidates/automl-dm-30-03-35-20-pr-1-927b84ee7c1b45949841948ad84488aa7395/notebooks/SageMakerAutopilotCandidateDefinitionNotebook.ipynb\",\n",
      "        \"DataExplorationNotebookLocation\": \"s3://sagemaker-us-east-1-857283526476/models/autopilot/automl-dm-30-03-35-20/sagemaker-automl-candidates/automl-dm-30-03-35-20-pr-1-927b84ee7c1b45949841948ad84488aa7395/notebooks/SageMakerAutopilotDataExplorationNotebook.ipynb\"\n",
      "    },\n",
      "    \"AutoMLJobConfig\": {\n",
      "        \"CompletionCriteria\": {\n",
      "            \"MaxAutoMLJobRuntimeInSeconds\": 5400,\n",
      "            \"MaxCandidates\": 3,\n",
      "            \"MaxRuntimePerTrainingJobInSeconds\": 900\n",
      "        }\n",
      "    },\n",
      "    \"AutoMLJobName\": \"automl-dm-30-03-35-20\",\n",
      "    \"AutoMLJobSecondaryStatus\": \"Completed\",\n",
      "    \"AutoMLJobStatus\": \"Completed\",\n",
      "    \"BestCandidate\": {\n",
      "        \"CandidateName\": \"automl-dm-30-03-35-206UAvnGVe6yJ-002-c9d4bccc\",\n",
      "        \"CandidateProperties\": {\n",
      "            \"CandidateArtifactLocations\": {\n",
      "                \"Explainability\": \"s3://sagemaker-us-east-1-857283526476/models/autopilot/automl-dm-30-03-35-20/documentation/explainability/output\",\n",
      "                \"ModelInsights\": \"s3://sagemaker-us-east-1-857283526476/models/autopilot/automl-dm-30-03-35-20/documentation/model_monitor/output\"\n",
      "            },\n",
      "            \"CandidateMetrics\": [\n",
      "                {\n",
      "                    \"MetricName\": \"F1macro\",\n",
      "                    \"Set\": \"Validation\",\n",
      "                    \"StandardMetricName\": \"F1macro\",\n",
      "                    \"Value\": 0.47442999482154846\n",
      "                },\n",
      "                {\n",
      "                    \"MetricName\": \"PrecisionMacro\",\n",
      "                    \"Set\": \"Validation\",\n",
      "                    \"StandardMetricName\": \"PrecisionMacro\",\n",
      "                    \"Value\": 0.4722200036048889\n",
      "                },\n",
      "                {\n",
      "                    \"MetricName\": \"Accuracy\",\n",
      "                    \"Set\": \"Validation\",\n",
      "                    \"StandardMetricName\": \"Accuracy\",\n",
      "                    \"Value\": 0.4800800085067749\n",
      "                },\n",
      "                {\n",
      "                    \"MetricName\": \"BalancedAccuracy\",\n",
      "                    \"Set\": \"Validation\",\n",
      "                    \"StandardMetricName\": \"BalancedAccuracy\",\n",
      "                    \"Value\": 0.4800800085067749\n",
      "                },\n",
      "                {\n",
      "                    \"MetricName\": \"LogLoss\",\n",
      "                    \"Set\": \"Validation\",\n",
      "                    \"StandardMetricName\": \"LogLoss\",\n",
      "                    \"Value\": 1.2205599546432495\n",
      "                },\n",
      "                {\n",
      "                    \"MetricName\": \"RecallMacro\",\n",
      "                    \"Set\": \"Validation\",\n",
      "                    \"StandardMetricName\": \"RecallMacro\",\n",
      "                    \"Value\": 0.4800800085067749\n",
      "                }\n",
      "            ]\n",
      "        },\n",
      "        \"CandidateStatus\": \"Completed\",\n",
      "        \"CandidateSteps\": [\n",
      "            {\n",
      "                \"CandidateStepArn\": \"arn:aws:sagemaker:us-east-1:857283526476:processing-job/automl-dm-30-03-35-20-db-1-48e7c029b9654b7a86c2751744ab05e66250\",\n",
      "                \"CandidateStepName\": \"automl-dm-30-03-35-20-db-1-48e7c029b9654b7a86c2751744ab05e66250\",\n",
      "                \"CandidateStepType\": \"AWS::SageMaker::ProcessingJob\"\n",
      "            },\n",
      "            {\n",
      "                \"CandidateStepArn\": \"arn:aws:sagemaker:us-east-1:857283526476:training-job/automl-dm-30-03-35-20-dpp2-1-a02febbbfa594f91ac431e0ddec9d523d9\",\n",
      "                \"CandidateStepName\": \"automl-dm-30-03-35-20-dpp2-1-a02febbbfa594f91ac431e0ddec9d523d9\",\n",
      "                \"CandidateStepType\": \"AWS::SageMaker::TrainingJob\"\n",
      "            },\n",
      "            {\n",
      "                \"CandidateStepArn\": \"arn:aws:sagemaker:us-east-1:857283526476:transform-job/automl-dm-30-03-35-20-dpp2-rpb-1-b8add5e432b44f23a438a85a513d26\",\n",
      "                \"CandidateStepName\": \"automl-dm-30-03-35-20-dpp2-rpb-1-b8add5e432b44f23a438a85a513d26\",\n",
      "                \"CandidateStepType\": \"AWS::SageMaker::TransformJob\"\n",
      "            },\n",
      "            {\n",
      "                \"CandidateStepArn\": \"arn:aws:sagemaker:us-east-1:857283526476:training-job/automl-dm-30-03-35-206UAvnGVe6yJ-002-c9d4bccc\",\n",
      "                \"CandidateStepName\": \"automl-dm-30-03-35-206UAvnGVe6yJ-002-c9d4bccc\",\n",
      "                \"CandidateStepType\": \"AWS::SageMaker::TrainingJob\"\n",
      "            }\n",
      "        ],\n",
      "        \"CreationTime\": \"2023-03-30 03:54:42+00:00\",\n",
      "        \"EndTime\": \"2023-03-30 04:07:27+00:00\",\n",
      "        \"FinalAutoMLJobObjectiveMetric\": {\n",
      "            \"MetricName\": \"validation:accuracy\",\n",
      "            \"StandardMetricName\": \"Accuracy\",\n",
      "            \"Value\": 0.4800800085067749\n",
      "        },\n",
      "        \"InferenceContainers\": [\n",
      "            {\n",
      "                \"Environment\": {\n",
      "                    \"AUTOML_SPARSE_ENCODE_RECORDIO_PROTOBUF\": \"1\",\n",
      "                    \"AUTOML_TRANSFORM_MODE\": \"feature-transform\",\n",
      "                    \"SAGEMAKER_DEFAULT_INVOCATIONS_ACCEPT\": \"application/x-recordio-protobuf\",\n",
      "                    \"SAGEMAKER_PROGRAM\": \"sagemaker_serve\",\n",
      "                    \"SAGEMAKER_SUBMIT_DIRECTORY\": \"/opt/ml/model/code\"\n",
      "                },\n",
      "                \"Image\": \"683313688378.dkr.ecr.us-east-1.amazonaws.com/sagemaker-sklearn-automl:2.5-1-cpu-py3\",\n",
      "                \"ModelDataUrl\": \"s3://sagemaker-us-east-1-857283526476/models/autopilot/automl-dm-30-03-35-20/data-processor-models/automl-dm-30-03-35-20-dpp2-1-a02febbbfa594f91ac431e0ddec9d523d9/output/model.tar.gz\"\n",
      "            },\n",
      "            {\n",
      "                \"Environment\": {\n",
      "                    \"MAX_CONTENT_LENGTH\": \"20971520\",\n",
      "                    \"SAGEMAKER_DEFAULT_INVOCATIONS_ACCEPT\": \"text/csv\",\n",
      "                    \"SAGEMAKER_INFERENCE_OUTPUT\": \"predicted_label\",\n",
      "                    \"SAGEMAKER_INFERENCE_SUPPORTED\": \"predicted_label,probability,probabilities\"\n",
      "                },\n",
      "                \"Image\": \"683313688378.dkr.ecr.us-east-1.amazonaws.com/sagemaker-xgboost:1.3-1-cpu-py3\",\n",
      "                \"ModelDataUrl\": \"s3://sagemaker-us-east-1-857283526476/models/autopilot/automl-dm-30-03-35-20/tuning/automl-dm--dpp2-xgb/automl-dm-30-03-35-206UAvnGVe6yJ-002-c9d4bccc/output/model.tar.gz\"\n",
      "            },\n",
      "            {\n",
      "                \"Environment\": {\n",
      "                    \"AUTOML_TRANSFORM_MODE\": \"inverse-label-transform\",\n",
      "                    \"SAGEMAKER_DEFAULT_INVOCATIONS_ACCEPT\": \"text/csv\",\n",
      "                    \"SAGEMAKER_INFERENCE_INPUT\": \"predicted_label\",\n",
      "                    \"SAGEMAKER_INFERENCE_OUTPUT\": \"predicted_label\",\n",
      "                    \"SAGEMAKER_INFERENCE_SUPPORTED\": \"predicted_label,probability,labels,probabilities\",\n",
      "                    \"SAGEMAKER_PROGRAM\": \"sagemaker_serve\",\n",
      "                    \"SAGEMAKER_SUBMIT_DIRECTORY\": \"/opt/ml/model/code\"\n",
      "                },\n",
      "                \"Image\": \"683313688378.dkr.ecr.us-east-1.amazonaws.com/sagemaker-sklearn-automl:2.5-1-cpu-py3\",\n",
      "                \"ModelDataUrl\": \"s3://sagemaker-us-east-1-857283526476/models/autopilot/automl-dm-30-03-35-20/data-processor-models/automl-dm-30-03-35-20-dpp2-1-a02febbbfa594f91ac431e0ddec9d523d9/output/model.tar.gz\"\n",
      "            }\n",
      "        ],\n",
      "        \"LastModifiedTime\": \"2023-03-30 04:14:37.482000+00:00\",\n",
      "        \"ObjectiveStatus\": \"Succeeded\"\n",
      "    },\n",
      "    \"CreationTime\": \"2023-03-30 03:35:21.288000+00:00\",\n",
      "    \"EndTime\": \"2023-03-30 04:23:28.846000+00:00\",\n",
      "    \"GenerateCandidateDefinitionsOnly\": false,\n",
      "    \"InputDataConfig\": [\n",
      "        {\n",
      "            \"ChannelType\": \"training\",\n",
      "            \"ContentType\": \"text/csv;header=present\",\n",
      "            \"DataSource\": {\n",
      "                \"S3DataSource\": {\n",
      "                    \"S3DataType\": \"S3Prefix\",\n",
      "                    \"S3Uri\": \"s3://sagemaker-us-east-1-857283526476/data/amazon_reviews_us_Digital_Software_v1_00_autopilot.csv\"\n",
      "                }\n",
      "            },\n",
      "            \"TargetAttributeName\": \"star_rating\"\n",
      "        }\n",
      "    ],\n",
      "    \"LastModifiedTime\": \"2023-03-30 04:23:28.881000+00:00\",\n",
      "    \"OutputDataConfig\": {\n",
      "        \"S3OutputPath\": \"s3://sagemaker-us-east-1-857283526476/models/autopilot\"\n",
      "    },\n",
      "    \"ResolvedAttributes\": {\n",
      "        \"AutoMLJobObjective\": {\n",
      "            \"MetricName\": \"Accuracy\"\n",
      "        },\n",
      "        \"CompletionCriteria\": {\n",
      "            \"MaxAutoMLJobRuntimeInSeconds\": 5400,\n",
      "            \"MaxCandidates\": 3,\n",
      "            \"MaxRuntimePerTrainingJobInSeconds\": 900\n",
      "        },\n",
      "        \"ProblemType\": \"MulticlassClassification\"\n",
      "    },\n",
      "    \"ResponseMetadata\": {\n",
      "        \"HTTPHeaders\": {\n",
      "            \"content-length\": \"5948\",\n",
      "            \"content-type\": \"application/x-amz-json-1.1\",\n",
      "            \"date\": \"Thu, 30 Mar 2023 04:33:27 GMT\",\n",
      "            \"x-amzn-requestid\": \"afc3be65-6728-4fda-9d81-a0779041f0b5\"\n",
      "        },\n",
      "        \"HTTPStatusCode\": 200,\n",
      "        \"RequestId\": \"afc3be65-6728-4fda-9d81-a0779041f0b5\",\n",
      "        \"RetryAttempts\": 0\n",
      "    },\n",
      "    \"RoleArn\": \"arn:aws:iam::857283526476:role/LabRole\"\n",
      "}\n",
      "CPU times: user 708 µs, sys: 128 µs, total: 836 µs\n",
      "Wall time: 881 µs\n"
     ]
    }
   ],
   "source": [
    "%%time\n",
    "\n",
    "job_status = job_description_response[\"AutoMLJobStatus\"]\n",
    "job_sec_status = job_description_response[\"AutoMLJobSecondaryStatus\"]\n",
    "\n",
    "if job_status not in (\"Stopped\", \"Failed\"):\n",
    "    while job_status in (\"InProgress\") and job_sec_status in (\"Starting\", \"AnalyzingData\"):\n",
    "        job_description_response = sm.describe_auto_ml_job(AutoMLJobName=auto_ml_job_name)\n",
    "        job_status = job_description_response[\"AutoMLJobStatus\"]\n",
    "        job_sec_status = job_description_response[\"AutoMLJobSecondaryStatus\"]\n",
    "        print(job_status, job_sec_status)\n",
    "        sleep(15)\n",
    "    print(\"[OK] Data analysis phase completed.\\n\")\n",
    "\n",
    "print(json.dumps(job_description_response, indent=4, sort_keys=True, default=str))"
   ]
  },
  {
   "cell_type": "markdown",
   "id": "c4da3665-8447-43f3-b829-705d4e126dd1",
   "metadata": {},
   "source": [
    "# Generate Notebooks\n",
    "\n",
    "* Data Exploration\n",
    "* Candidate Definition"
   ]
  },
  {
   "cell_type": "code",
   "execution_count": 102,
   "id": "690a7646-d4fe-4bda-afcb-852e62648ef8",
   "metadata": {},
   "outputs": [
    {
     "name": "stdout",
     "output_type": "stream",
     "text": [
      "[OK] AutoMLJobArtifacts generated.\n"
     ]
    }
   ],
   "source": [
    "job_description_response = sm.describe_auto_ml_job(AutoMLJobName=auto_ml_job_name)\n",
    "\n",
    "while \"AutoMLJobArtifacts\" not in job_description_response.keys():\n",
    "    job_description_response = sm.describe_auto_ml_job(AutoMLJobName=auto_ml_job_name)\n",
    "    print(\"[INFO] Autopilot Job has not yet generated the artifacts. Please wait. \")\n",
    "    print(json.dumps(job_description_response, indent=4, sort_keys=True, default=str))\n",
    "    print(\"[INFO] Waiting for AutoMLJobArtifacts...\")\n",
    "    sleep(15)\n",
    "\n",
    "print(\"[OK] AutoMLJobArtifacts generated.\")"
   ]
  },
  {
   "cell_type": "code",
   "execution_count": 103,
   "id": "bd835435-d3c5-40d5-914a-81c5badf1a51",
   "metadata": {},
   "outputs": [
    {
     "name": "stdout",
     "output_type": "stream",
     "text": [
      "[OK] DataExplorationNotebookLocation found.\n"
     ]
    }
   ],
   "source": [
    "job_description_response = sm.describe_auto_ml_job(AutoMLJobName=auto_ml_job_name)\n",
    "\n",
    "while \"DataExplorationNotebookLocation\" not in job_description_response[\"AutoMLJobArtifacts\"].keys():\n",
    "    job_description_response = sm.describe_auto_ml_job(AutoMLJobName=auto_ml_job_name)\n",
    "    print(\"[INFO] Autopilot Job has not yet generated the notebooks. Please wait. \")\n",
    "    print(json.dumps(job_description_response, indent=4, sort_keys=True, default=str))\n",
    "    print(\"[INFO] Waiting for DataExplorationNotebookLocation...\")\n",
    "    sleep(15)\n",
    "\n",
    "print(\"[OK] DataExplorationNotebookLocation found.\")"
   ]
  },
  {
   "cell_type": "code",
   "execution_count": 104,
   "id": "a447e9a6-839f-42a5-9bf3-bd0d11dec3bb",
   "metadata": {},
   "outputs": [],
   "source": [
    "generated_resources = job_description_response[\"AutoMLJobArtifacts\"][\"DataExplorationNotebookLocation\"]\n",
    "download_path = generated_resources.rsplit(\"/notebooks/SageMakerAutopilotDataExplorationNotebook.ipynb\")[0]\n",
    "job_id = download_path.rsplit(\"/\", 1)[-1]"
   ]
  },
  {
   "cell_type": "code",
   "execution_count": 105,
   "id": "cba57828-85e7-46ea-bf9f-a70a09fbae2c",
   "metadata": {},
   "outputs": [
    {
     "data": {
      "text/html": [
       "<b>Review <a target=\"blank\" href=\"https://s3.console.aws.amazon.com/s3/buckets/sagemaker-us-east-1-857283526476/models/autopilot/automl-dm-30-03-35-20/sagemaker-automl-candidates/automl-dm-30-03-35-20-pr-1-927b84ee7c1b45949841948ad84488aa7395/\">S3 Generated Resources</a></b>"
      ],
      "text/plain": [
       "<IPython.core.display.HTML object>"
      ]
     },
     "metadata": {},
     "output_type": "display_data"
    }
   ],
   "source": [
    "from IPython.core.display import display, HTML\n",
    "\n",
    "if not job_id:\n",
    "    print(\"No AutoMLJobArtifacts found.\")\n",
    "else:\n",
    "    display(\n",
    "        HTML(\n",
    "            '<b>Review <a target=\"blank\" href=\"https://s3.console.aws.amazon.com/s3/buckets/{}/{}/{}/sagemaker-automl-candidates/{}/\">S3 Generated Resources</a></b>'.format(\n",
    "                bucket, prefix_model_output, auto_ml_job_name, job_id\n",
    "            )\n",
    "        )\n",
    "    )"
   ]
  },
  {
   "cell_type": "code",
   "execution_count": 106,
   "id": "e151daf3-d38f-4383-9321-6e89648c8c2c",
   "metadata": {},
   "outputs": [
    {
     "name": "stdout",
     "output_type": "stream",
     "text": [
      "s3://sagemaker-us-east-1-857283526476/models/autopilot/automl-dm-30-03-35-20/sagemaker-automl-candidates/automl-dm-30-03-35-20-pr-1-927b84ee7c1b45949841948ad84488aa7395\n"
     ]
    }
   ],
   "source": [
    "#Download Notebooks and Code\n",
    "\n",
    "print(download_path)"
   ]
  },
  {
   "cell_type": "code",
   "execution_count": 107,
   "id": "babacf13-9de6-4472-8357-ec8e17fe7f06",
   "metadata": {},
   "outputs": [
    {
     "name": "stdout",
     "output_type": "stream",
     "text": [
      "download: s3://sagemaker-us-east-1-857283526476/models/autopilot/automl-dm-30-03-35-20/sagemaker-automl-candidates/automl-dm-30-03-35-20-pr-1-927b84ee7c1b45949841948ad84488aa7395/generated_module/README.md to generated_module/README.md\n",
      "download: s3://sagemaker-us-east-1-857283526476/models/autopilot/automl-dm-30-03-35-20/sagemaker-automl-candidates/automl-dm-30-03-35-20-pr-1-927b84ee7c1b45949841948ad84488aa7395/generated_module/MANIFEST.in to generated_module/MANIFEST.in\n",
      "download: s3://sagemaker-us-east-1-857283526476/models/autopilot/automl-dm-30-03-35-20/sagemaker-automl-candidates/automl-dm-30-03-35-20-pr-1-927b84ee7c1b45949841948ad84488aa7395/generated_module/candidate_data_processors/dpp0.py to generated_module/candidate_data_processors/dpp0.py\n",
      "download: s3://sagemaker-us-east-1-857283526476/models/autopilot/automl-dm-30-03-35-20/sagemaker-automl-candidates/automl-dm-30-03-35-20-pr-1-927b84ee7c1b45949841948ad84488aa7395/generated_module/candidate_data_processors/dpp1.py to generated_module/candidate_data_processors/dpp1.py\n",
      "download: s3://sagemaker-us-east-1-857283526476/models/autopilot/automl-dm-30-03-35-20/sagemaker-automl-candidates/automl-dm-30-03-35-20-pr-1-927b84ee7c1b45949841948ad84488aa7395/generated_module/candidate_data_processors/dpp2.py to generated_module/candidate_data_processors/dpp2.py\n",
      "download: s3://sagemaker-us-east-1-857283526476/models/autopilot/automl-dm-30-03-35-20/sagemaker-automl-candidates/automl-dm-30-03-35-20-pr-1-927b84ee7c1b45949841948ad84488aa7395/generated_module/candidate_data_processors/trainer.py to generated_module/candidate_data_processors/trainer.py\n",
      "download: s3://sagemaker-us-east-1-857283526476/models/autopilot/automl-dm-30-03-35-20/sagemaker-automl-candidates/automl-dm-30-03-35-20-pr-1-927b84ee7c1b45949841948ad84488aa7395/notebooks/sagemaker_automl/README.md to notebooks/sagemaker_automl/README.md\n",
      "download: s3://sagemaker-us-east-1-857283526476/models/autopilot/automl-dm-30-03-35-20/sagemaker-automl-candidates/automl-dm-30-03-35-20-pr-1-927b84ee7c1b45949841948ad84488aa7395/generated_module/candidate_data_processors/sagemaker_serve.py to generated_module/candidate_data_processors/sagemaker_serve.py\n",
      "download: s3://sagemaker-us-east-1-857283526476/models/autopilot/automl-dm-30-03-35-20/sagemaker-automl-candidates/automl-dm-30-03-35-20-pr-1-927b84ee7c1b45949841948ad84488aa7395/generated_module/setup.py to generated_module/setup.py\n",
      "download: s3://sagemaker-us-east-1-857283526476/models/autopilot/automl-dm-30-03-35-20/sagemaker-automl-candidates/automl-dm-30-03-35-20-pr-1-927b84ee7c1b45949841948ad84488aa7395/notebooks/SageMakerAutopilotCandidateDefinitionNotebook.ipynb to notebooks/SageMakerAutopilotCandidateDefinitionNotebook.ipynb\n",
      "download: s3://sagemaker-us-east-1-857283526476/models/autopilot/automl-dm-30-03-35-20/sagemaker-automl-candidates/automl-dm-30-03-35-20-pr-1-927b84ee7c1b45949841948ad84488aa7395/notebooks/sagemaker_automl/__init__.py to notebooks/sagemaker_automl/__init__.py\n",
      "download: s3://sagemaker-us-east-1-857283526476/models/autopilot/automl-dm-30-03-35-20/sagemaker-automl-candidates/automl-dm-30-03-35-20-pr-1-927b84ee7c1b45949841948ad84488aa7395/notebooks/sagemaker_automl/interactive_runner.py to notebooks/sagemaker_automl/interactive_runner.py\n",
      "download: s3://sagemaker-us-east-1-857283526476/models/autopilot/automl-dm-30-03-35-20/sagemaker-automl-candidates/automl-dm-30-03-35-20-pr-1-927b84ee7c1b45949841948ad84488aa7395/notebooks/sagemaker_automl/config.py to notebooks/sagemaker_automl/config.py\n",
      "download: s3://sagemaker-us-east-1-857283526476/models/autopilot/automl-dm-30-03-35-20/sagemaker-automl-candidates/automl-dm-30-03-35-20-pr-1-927b84ee7c1b45949841948ad84488aa7395/notebooks/sagemaker_automl/common.py to notebooks/sagemaker_automl/common.py\n",
      "download: s3://sagemaker-us-east-1-857283526476/models/autopilot/automl-dm-30-03-35-20/sagemaker-automl-candidates/automl-dm-30-03-35-20-pr-1-927b84ee7c1b45949841948ad84488aa7395/notebooks/sagemaker_automl/steps.py to notebooks/sagemaker_automl/steps.py\n",
      "download: s3://sagemaker-us-east-1-857283526476/models/autopilot/automl-dm-30-03-35-20/sagemaker-automl-candidates/automl-dm-30-03-35-20-pr-1-927b84ee7c1b45949841948ad84488aa7395/notebooks/SageMakerAutopilotDataExplorationNotebook.ipynb to notebooks/SageMakerAutopilotDataExplorationNotebook.ipynb\n",
      "download: s3://sagemaker-us-east-1-857283526476/models/autopilot/automl-dm-30-03-35-20/sagemaker-automl-candidates/automl-dm-30-03-35-20-pr-1-927b84ee7c1b45949841948ad84488aa7395/notebooks/sagemaker_automl/local_candidate.py to notebooks/sagemaker_automl/local_candidate.py\n"
     ]
    }
   ],
   "source": [
    "try:\n",
    "    !aws s3 cp --recursive $download_path .\n",
    "except:\n",
    "    print('Could not download the generated resources. Make sure the path is correct.')"
   ]
  },
  {
   "cell_type": "markdown",
   "id": "2306ff4c-9c1b-4cc8-8b99-a4143ac4a52e",
   "metadata": {},
   "source": [
    "# Feature Engineering"
   ]
  },
  {
   "cell_type": "code",
   "execution_count": 108,
   "id": "ba041f80-5b7c-4e32-8fc3-1608c6a1db4b",
   "metadata": {},
   "outputs": [
    {
     "data": {
      "text/html": [
       "<b>Review <a target=\"blank\" href=\"https://console.aws.amazon.com/sagemaker/home?region=us-east-1#/jobs/\">Training Jobs</a></b>"
      ],
      "text/plain": [
       "<IPython.core.display.HTML object>"
      ]
     },
     "metadata": {},
     "output_type": "display_data"
    }
   ],
   "source": [
    "from IPython.core.display import display, HTML\n",
    "\n",
    "display(\n",
    "    HTML(\n",
    "        '<b>Review <a target=\"blank\" href=\"https://console.aws.amazon.com/sagemaker/home?region={}#/jobs/\">Training Jobs</a></b>'.format(\n",
    "            region\n",
    "        )\n",
    "    )\n",
    ")"
   ]
  },
  {
   "cell_type": "code",
   "execution_count": 109,
   "id": "423a9a81-0933-4f7c-ace6-6315ccba3729",
   "metadata": {},
   "outputs": [
    {
     "data": {
      "text/html": [
       "<b>Review <a target=\"blank\" href=\"https://console.aws.amazon.com/sagemaker/home?region=us-east-1#/transform-jobs/\">Batch Transform Jobs</a></b>"
      ],
      "text/plain": [
       "<IPython.core.display.HTML object>"
      ]
     },
     "metadata": {},
     "output_type": "display_data"
    }
   ],
   "source": [
    "from IPython.core.display import display, HTML\n",
    "\n",
    "display(\n",
    "    HTML(\n",
    "        '<b>Review <a target=\"blank\" href=\"https://console.aws.amazon.com/sagemaker/home?region={}#/transform-jobs/\">Batch Transform Jobs</a></b>'.format(\n",
    "            region\n",
    "        )\n",
    "    )\n",
    ")"
   ]
  },
  {
   "cell_type": "code",
   "execution_count": 110,
   "id": "e2081eae-15ac-41aa-8281-6063749e5372",
   "metadata": {},
   "outputs": [
    {
     "name": "stdout",
     "output_type": "stream",
     "text": [
      "Completed\n",
      "Completed\n",
      "[OK] Feature engineering phase completed.\n",
      "\n",
      "{\n",
      "    \"AutoMLJobArn\": \"arn:aws:sagemaker:us-east-1:857283526476:automl-job/automl-dm-30-03-35-20\",\n",
      "    \"AutoMLJobArtifacts\": {\n",
      "        \"CandidateDefinitionNotebookLocation\": \"s3://sagemaker-us-east-1-857283526476/models/autopilot/automl-dm-30-03-35-20/sagemaker-automl-candidates/automl-dm-30-03-35-20-pr-1-927b84ee7c1b45949841948ad84488aa7395/notebooks/SageMakerAutopilotCandidateDefinitionNotebook.ipynb\",\n",
      "        \"DataExplorationNotebookLocation\": \"s3://sagemaker-us-east-1-857283526476/models/autopilot/automl-dm-30-03-35-20/sagemaker-automl-candidates/automl-dm-30-03-35-20-pr-1-927b84ee7c1b45949841948ad84488aa7395/notebooks/SageMakerAutopilotDataExplorationNotebook.ipynb\"\n",
      "    },\n",
      "    \"AutoMLJobConfig\": {\n",
      "        \"CompletionCriteria\": {\n",
      "            \"MaxAutoMLJobRuntimeInSeconds\": 5400,\n",
      "            \"MaxCandidates\": 3,\n",
      "            \"MaxRuntimePerTrainingJobInSeconds\": 900\n",
      "        }\n",
      "    },\n",
      "    \"AutoMLJobName\": \"automl-dm-30-03-35-20\",\n",
      "    \"AutoMLJobSecondaryStatus\": \"Completed\",\n",
      "    \"AutoMLJobStatus\": \"Completed\",\n",
      "    \"BestCandidate\": {\n",
      "        \"CandidateName\": \"automl-dm-30-03-35-206UAvnGVe6yJ-002-c9d4bccc\",\n",
      "        \"CandidateProperties\": {\n",
      "            \"CandidateArtifactLocations\": {\n",
      "                \"Explainability\": \"s3://sagemaker-us-east-1-857283526476/models/autopilot/automl-dm-30-03-35-20/documentation/explainability/output\",\n",
      "                \"ModelInsights\": \"s3://sagemaker-us-east-1-857283526476/models/autopilot/automl-dm-30-03-35-20/documentation/model_monitor/output\"\n",
      "            },\n",
      "            \"CandidateMetrics\": [\n",
      "                {\n",
      "                    \"MetricName\": \"F1macro\",\n",
      "                    \"Set\": \"Validation\",\n",
      "                    \"StandardMetricName\": \"F1macro\",\n",
      "                    \"Value\": 0.47442999482154846\n",
      "                },\n",
      "                {\n",
      "                    \"MetricName\": \"PrecisionMacro\",\n",
      "                    \"Set\": \"Validation\",\n",
      "                    \"StandardMetricName\": \"PrecisionMacro\",\n",
      "                    \"Value\": 0.4722200036048889\n",
      "                },\n",
      "                {\n",
      "                    \"MetricName\": \"Accuracy\",\n",
      "                    \"Set\": \"Validation\",\n",
      "                    \"StandardMetricName\": \"Accuracy\",\n",
      "                    \"Value\": 0.4800800085067749\n",
      "                },\n",
      "                {\n",
      "                    \"MetricName\": \"BalancedAccuracy\",\n",
      "                    \"Set\": \"Validation\",\n",
      "                    \"StandardMetricName\": \"BalancedAccuracy\",\n",
      "                    \"Value\": 0.4800800085067749\n",
      "                },\n",
      "                {\n",
      "                    \"MetricName\": \"LogLoss\",\n",
      "                    \"Set\": \"Validation\",\n",
      "                    \"StandardMetricName\": \"LogLoss\",\n",
      "                    \"Value\": 1.2205599546432495\n",
      "                },\n",
      "                {\n",
      "                    \"MetricName\": \"RecallMacro\",\n",
      "                    \"Set\": \"Validation\",\n",
      "                    \"StandardMetricName\": \"RecallMacro\",\n",
      "                    \"Value\": 0.4800800085067749\n",
      "                }\n",
      "            ]\n",
      "        },\n",
      "        \"CandidateStatus\": \"Completed\",\n",
      "        \"CandidateSteps\": [\n",
      "            {\n",
      "                \"CandidateStepArn\": \"arn:aws:sagemaker:us-east-1:857283526476:processing-job/automl-dm-30-03-35-20-db-1-48e7c029b9654b7a86c2751744ab05e66250\",\n",
      "                \"CandidateStepName\": \"automl-dm-30-03-35-20-db-1-48e7c029b9654b7a86c2751744ab05e66250\",\n",
      "                \"CandidateStepType\": \"AWS::SageMaker::ProcessingJob\"\n",
      "            },\n",
      "            {\n",
      "                \"CandidateStepArn\": \"arn:aws:sagemaker:us-east-1:857283526476:training-job/automl-dm-30-03-35-20-dpp2-1-a02febbbfa594f91ac431e0ddec9d523d9\",\n",
      "                \"CandidateStepName\": \"automl-dm-30-03-35-20-dpp2-1-a02febbbfa594f91ac431e0ddec9d523d9\",\n",
      "                \"CandidateStepType\": \"AWS::SageMaker::TrainingJob\"\n",
      "            },\n",
      "            {\n",
      "                \"CandidateStepArn\": \"arn:aws:sagemaker:us-east-1:857283526476:transform-job/automl-dm-30-03-35-20-dpp2-rpb-1-b8add5e432b44f23a438a85a513d26\",\n",
      "                \"CandidateStepName\": \"automl-dm-30-03-35-20-dpp2-rpb-1-b8add5e432b44f23a438a85a513d26\",\n",
      "                \"CandidateStepType\": \"AWS::SageMaker::TransformJob\"\n",
      "            },\n",
      "            {\n",
      "                \"CandidateStepArn\": \"arn:aws:sagemaker:us-east-1:857283526476:training-job/automl-dm-30-03-35-206UAvnGVe6yJ-002-c9d4bccc\",\n",
      "                \"CandidateStepName\": \"automl-dm-30-03-35-206UAvnGVe6yJ-002-c9d4bccc\",\n",
      "                \"CandidateStepType\": \"AWS::SageMaker::TrainingJob\"\n",
      "            }\n",
      "        ],\n",
      "        \"CreationTime\": \"2023-03-30 03:54:42+00:00\",\n",
      "        \"EndTime\": \"2023-03-30 04:07:27+00:00\",\n",
      "        \"FinalAutoMLJobObjectiveMetric\": {\n",
      "            \"MetricName\": \"validation:accuracy\",\n",
      "            \"StandardMetricName\": \"Accuracy\",\n",
      "            \"Value\": 0.4800800085067749\n",
      "        },\n",
      "        \"InferenceContainers\": [\n",
      "            {\n",
      "                \"Environment\": {\n",
      "                    \"AUTOML_SPARSE_ENCODE_RECORDIO_PROTOBUF\": \"1\",\n",
      "                    \"AUTOML_TRANSFORM_MODE\": \"feature-transform\",\n",
      "                    \"SAGEMAKER_DEFAULT_INVOCATIONS_ACCEPT\": \"application/x-recordio-protobuf\",\n",
      "                    \"SAGEMAKER_PROGRAM\": \"sagemaker_serve\",\n",
      "                    \"SAGEMAKER_SUBMIT_DIRECTORY\": \"/opt/ml/model/code\"\n",
      "                },\n",
      "                \"Image\": \"683313688378.dkr.ecr.us-east-1.amazonaws.com/sagemaker-sklearn-automl:2.5-1-cpu-py3\",\n",
      "                \"ModelDataUrl\": \"s3://sagemaker-us-east-1-857283526476/models/autopilot/automl-dm-30-03-35-20/data-processor-models/automl-dm-30-03-35-20-dpp2-1-a02febbbfa594f91ac431e0ddec9d523d9/output/model.tar.gz\"\n",
      "            },\n",
      "            {\n",
      "                \"Environment\": {\n",
      "                    \"MAX_CONTENT_LENGTH\": \"20971520\",\n",
      "                    \"SAGEMAKER_DEFAULT_INVOCATIONS_ACCEPT\": \"text/csv\",\n",
      "                    \"SAGEMAKER_INFERENCE_OUTPUT\": \"predicted_label\",\n",
      "                    \"SAGEMAKER_INFERENCE_SUPPORTED\": \"predicted_label,probability,probabilities\"\n",
      "                },\n",
      "                \"Image\": \"683313688378.dkr.ecr.us-east-1.amazonaws.com/sagemaker-xgboost:1.3-1-cpu-py3\",\n",
      "                \"ModelDataUrl\": \"s3://sagemaker-us-east-1-857283526476/models/autopilot/automl-dm-30-03-35-20/tuning/automl-dm--dpp2-xgb/automl-dm-30-03-35-206UAvnGVe6yJ-002-c9d4bccc/output/model.tar.gz\"\n",
      "            },\n",
      "            {\n",
      "                \"Environment\": {\n",
      "                    \"AUTOML_TRANSFORM_MODE\": \"inverse-label-transform\",\n",
      "                    \"SAGEMAKER_DEFAULT_INVOCATIONS_ACCEPT\": \"text/csv\",\n",
      "                    \"SAGEMAKER_INFERENCE_INPUT\": \"predicted_label\",\n",
      "                    \"SAGEMAKER_INFERENCE_OUTPUT\": \"predicted_label\",\n",
      "                    \"SAGEMAKER_INFERENCE_SUPPORTED\": \"predicted_label,probability,labels,probabilities\",\n",
      "                    \"SAGEMAKER_PROGRAM\": \"sagemaker_serve\",\n",
      "                    \"SAGEMAKER_SUBMIT_DIRECTORY\": \"/opt/ml/model/code\"\n",
      "                },\n",
      "                \"Image\": \"683313688378.dkr.ecr.us-east-1.amazonaws.com/sagemaker-sklearn-automl:2.5-1-cpu-py3\",\n",
      "                \"ModelDataUrl\": \"s3://sagemaker-us-east-1-857283526476/models/autopilot/automl-dm-30-03-35-20/data-processor-models/automl-dm-30-03-35-20-dpp2-1-a02febbbfa594f91ac431e0ddec9d523d9/output/model.tar.gz\"\n",
      "            }\n",
      "        ],\n",
      "        \"LastModifiedTime\": \"2023-03-30 04:14:37.482000+00:00\",\n",
      "        \"ObjectiveStatus\": \"Succeeded\"\n",
      "    },\n",
      "    \"CreationTime\": \"2023-03-30 03:35:21.288000+00:00\",\n",
      "    \"EndTime\": \"2023-03-30 04:23:28.846000+00:00\",\n",
      "    \"GenerateCandidateDefinitionsOnly\": false,\n",
      "    \"InputDataConfig\": [\n",
      "        {\n",
      "            \"ChannelType\": \"training\",\n",
      "            \"ContentType\": \"text/csv;header=present\",\n",
      "            \"DataSource\": {\n",
      "                \"S3DataSource\": {\n",
      "                    \"S3DataType\": \"S3Prefix\",\n",
      "                    \"S3Uri\": \"s3://sagemaker-us-east-1-857283526476/data/amazon_reviews_us_Digital_Software_v1_00_autopilot.csv\"\n",
      "                }\n",
      "            },\n",
      "            \"TargetAttributeName\": \"star_rating\"\n",
      "        }\n",
      "    ],\n",
      "    \"LastModifiedTime\": \"2023-03-30 04:23:28.881000+00:00\",\n",
      "    \"OutputDataConfig\": {\n",
      "        \"S3OutputPath\": \"s3://sagemaker-us-east-1-857283526476/models/autopilot\"\n",
      "    },\n",
      "    \"ResolvedAttributes\": {\n",
      "        \"AutoMLJobObjective\": {\n",
      "            \"MetricName\": \"Accuracy\"\n",
      "        },\n",
      "        \"CompletionCriteria\": {\n",
      "            \"MaxAutoMLJobRuntimeInSeconds\": 5400,\n",
      "            \"MaxCandidates\": 3,\n",
      "            \"MaxRuntimePerTrainingJobInSeconds\": 900\n",
      "        },\n",
      "        \"ProblemType\": \"MulticlassClassification\"\n",
      "    },\n",
      "    \"ResponseMetadata\": {\n",
      "        \"HTTPHeaders\": {\n",
      "            \"content-length\": \"5948\",\n",
      "            \"content-type\": \"application/x-amz-json-1.1\",\n",
      "            \"date\": \"Thu, 30 Mar 2023 04:33:29 GMT\",\n",
      "            \"x-amzn-requestid\": \"dbd8a985-9e13-4ea6-85ed-be9684bfe476\"\n",
      "        },\n",
      "        \"HTTPStatusCode\": 200,\n",
      "        \"RequestId\": \"dbd8a985-9e13-4ea6-85ed-be9684bfe476\",\n",
      "        \"RetryAttempts\": 0\n",
      "    },\n",
      "    \"RoleArn\": \"arn:aws:iam::857283526476:role/LabRole\"\n",
      "}\n",
      "CPU times: user 5.88 ms, sys: 0 ns, total: 5.88 ms\n",
      "Wall time: 106 ms\n"
     ]
    }
   ],
   "source": [
    "%%time\n",
    "\n",
    "job_description_response = sm.describe_auto_ml_job(AutoMLJobName=auto_ml_job_name)\n",
    "job_status = job_description_response[\"AutoMLJobStatus\"]\n",
    "job_sec_status = job_description_response[\"AutoMLJobSecondaryStatus\"]\n",
    "print(job_status)\n",
    "print(job_sec_status)\n",
    "if job_status not in (\"Stopped\", \"Failed\"):\n",
    "    while job_status in (\"InProgress\") and job_sec_status in (\"FeatureEngineering\"):\n",
    "        job_description_response = sm.describe_auto_ml_job(AutoMLJobName=auto_ml_job_name)\n",
    "        job_status = job_description_response[\"AutoMLJobStatus\"]\n",
    "        job_sec_status = job_description_response[\"AutoMLJobSecondaryStatus\"]\n",
    "        print(job_status, job_sec_status)\n",
    "        sleep(15)\n",
    "    print(\"[OK] Feature engineering phase completed.\\n\")\n",
    "\n",
    "print(json.dumps(job_description_response, indent=4, sort_keys=True, default=str))"
   ]
  },
  {
   "cell_type": "markdown",
   "id": "10cf5e20-de41-4eee-9ec7-0b63d6f544a7",
   "metadata": {},
   "source": [
    "# Model Training and Tuning"
   ]
  },
  {
   "cell_type": "code",
   "execution_count": 111,
   "id": "92ef6922-0952-4fde-88fa-82432b400db5",
   "metadata": {},
   "outputs": [
    {
     "data": {
      "text/html": [
       "<b>Review <a target=\"blank\" href=\"https://console.aws.amazon.com/sagemaker/home?region=us-east-1#/hyper-tuning-jobs/\">Hyperparameter Tuning Jobs</a></b>"
      ],
      "text/plain": [
       "<IPython.core.display.HTML object>"
      ]
     },
     "metadata": {},
     "output_type": "display_data"
    }
   ],
   "source": [
    "from IPython.core.display import display, HTML\n",
    "\n",
    "display(\n",
    "    HTML(\n",
    "        '<b>Review <a target=\"blank\" href=\"https://console.aws.amazon.com/sagemaker/home?region={}#/hyper-tuning-jobs/\">Hyperparameter Tuning Jobs</a></b>'.format(\n",
    "            region\n",
    "        )\n",
    "    )\n",
    ")"
   ]
  },
  {
   "cell_type": "code",
   "execution_count": 112,
   "id": "987a8368-6bac-4f95-b852-e34713366a62",
   "metadata": {},
   "outputs": [
    {
     "data": {
      "text/html": [
       "<b>Review <a target=\"blank\" href=\"https://console.aws.amazon.com/sagemaker/home?region=us-east-1#/jobs/\">Training Jobs</a></b>"
      ],
      "text/plain": [
       "<IPython.core.display.HTML object>"
      ]
     },
     "metadata": {},
     "output_type": "display_data"
    }
   ],
   "source": [
    "from IPython.core.display import display, HTML\n",
    "\n",
    "display(\n",
    "    HTML(\n",
    "        '<b>Review <a target=\"blank\" href=\"https://console.aws.amazon.com/sagemaker/home?region={}#/jobs/\">Training Jobs</a></b>'.format(\n",
    "            region\n",
    "        )\n",
    "    )\n",
    ")"
   ]
  },
  {
   "cell_type": "code",
   "execution_count": 113,
   "id": "8143bdbd-9423-4a94-b790-464975e0ab99",
   "metadata": {},
   "outputs": [
    {
     "name": "stdout",
     "output_type": "stream",
     "text": [
      "Completed\n",
      "Completed\n",
      "[OK] Model tuning phase completed.\n",
      "\n",
      "{\n",
      "    \"AutoMLJobArn\": \"arn:aws:sagemaker:us-east-1:857283526476:automl-job/automl-dm-30-03-35-20\",\n",
      "    \"AutoMLJobArtifacts\": {\n",
      "        \"CandidateDefinitionNotebookLocation\": \"s3://sagemaker-us-east-1-857283526476/models/autopilot/automl-dm-30-03-35-20/sagemaker-automl-candidates/automl-dm-30-03-35-20-pr-1-927b84ee7c1b45949841948ad84488aa7395/notebooks/SageMakerAutopilotCandidateDefinitionNotebook.ipynb\",\n",
      "        \"DataExplorationNotebookLocation\": \"s3://sagemaker-us-east-1-857283526476/models/autopilot/automl-dm-30-03-35-20/sagemaker-automl-candidates/automl-dm-30-03-35-20-pr-1-927b84ee7c1b45949841948ad84488aa7395/notebooks/SageMakerAutopilotDataExplorationNotebook.ipynb\"\n",
      "    },\n",
      "    \"AutoMLJobConfig\": {\n",
      "        \"CompletionCriteria\": {\n",
      "            \"MaxAutoMLJobRuntimeInSeconds\": 5400,\n",
      "            \"MaxCandidates\": 3,\n",
      "            \"MaxRuntimePerTrainingJobInSeconds\": 900\n",
      "        }\n",
      "    },\n",
      "    \"AutoMLJobName\": \"automl-dm-30-03-35-20\",\n",
      "    \"AutoMLJobSecondaryStatus\": \"Completed\",\n",
      "    \"AutoMLJobStatus\": \"Completed\",\n",
      "    \"BestCandidate\": {\n",
      "        \"CandidateName\": \"automl-dm-30-03-35-206UAvnGVe6yJ-002-c9d4bccc\",\n",
      "        \"CandidateProperties\": {\n",
      "            \"CandidateArtifactLocations\": {\n",
      "                \"Explainability\": \"s3://sagemaker-us-east-1-857283526476/models/autopilot/automl-dm-30-03-35-20/documentation/explainability/output\",\n",
      "                \"ModelInsights\": \"s3://sagemaker-us-east-1-857283526476/models/autopilot/automl-dm-30-03-35-20/documentation/model_monitor/output\"\n",
      "            },\n",
      "            \"CandidateMetrics\": [\n",
      "                {\n",
      "                    \"MetricName\": \"F1macro\",\n",
      "                    \"Set\": \"Validation\",\n",
      "                    \"StandardMetricName\": \"F1macro\",\n",
      "                    \"Value\": 0.47442999482154846\n",
      "                },\n",
      "                {\n",
      "                    \"MetricName\": \"PrecisionMacro\",\n",
      "                    \"Set\": \"Validation\",\n",
      "                    \"StandardMetricName\": \"PrecisionMacro\",\n",
      "                    \"Value\": 0.4722200036048889\n",
      "                },\n",
      "                {\n",
      "                    \"MetricName\": \"Accuracy\",\n",
      "                    \"Set\": \"Validation\",\n",
      "                    \"StandardMetricName\": \"Accuracy\",\n",
      "                    \"Value\": 0.4800800085067749\n",
      "                },\n",
      "                {\n",
      "                    \"MetricName\": \"BalancedAccuracy\",\n",
      "                    \"Set\": \"Validation\",\n",
      "                    \"StandardMetricName\": \"BalancedAccuracy\",\n",
      "                    \"Value\": 0.4800800085067749\n",
      "                },\n",
      "                {\n",
      "                    \"MetricName\": \"LogLoss\",\n",
      "                    \"Set\": \"Validation\",\n",
      "                    \"StandardMetricName\": \"LogLoss\",\n",
      "                    \"Value\": 1.2205599546432495\n",
      "                },\n",
      "                {\n",
      "                    \"MetricName\": \"RecallMacro\",\n",
      "                    \"Set\": \"Validation\",\n",
      "                    \"StandardMetricName\": \"RecallMacro\",\n",
      "                    \"Value\": 0.4800800085067749\n",
      "                }\n",
      "            ]\n",
      "        },\n",
      "        \"CandidateStatus\": \"Completed\",\n",
      "        \"CandidateSteps\": [\n",
      "            {\n",
      "                \"CandidateStepArn\": \"arn:aws:sagemaker:us-east-1:857283526476:processing-job/automl-dm-30-03-35-20-db-1-48e7c029b9654b7a86c2751744ab05e66250\",\n",
      "                \"CandidateStepName\": \"automl-dm-30-03-35-20-db-1-48e7c029b9654b7a86c2751744ab05e66250\",\n",
      "                \"CandidateStepType\": \"AWS::SageMaker::ProcessingJob\"\n",
      "            },\n",
      "            {\n",
      "                \"CandidateStepArn\": \"arn:aws:sagemaker:us-east-1:857283526476:training-job/automl-dm-30-03-35-20-dpp2-1-a02febbbfa594f91ac431e0ddec9d523d9\",\n",
      "                \"CandidateStepName\": \"automl-dm-30-03-35-20-dpp2-1-a02febbbfa594f91ac431e0ddec9d523d9\",\n",
      "                \"CandidateStepType\": \"AWS::SageMaker::TrainingJob\"\n",
      "            },\n",
      "            {\n",
      "                \"CandidateStepArn\": \"arn:aws:sagemaker:us-east-1:857283526476:transform-job/automl-dm-30-03-35-20-dpp2-rpb-1-b8add5e432b44f23a438a85a513d26\",\n",
      "                \"CandidateStepName\": \"automl-dm-30-03-35-20-dpp2-rpb-1-b8add5e432b44f23a438a85a513d26\",\n",
      "                \"CandidateStepType\": \"AWS::SageMaker::TransformJob\"\n",
      "            },\n",
      "            {\n",
      "                \"CandidateStepArn\": \"arn:aws:sagemaker:us-east-1:857283526476:training-job/automl-dm-30-03-35-206UAvnGVe6yJ-002-c9d4bccc\",\n",
      "                \"CandidateStepName\": \"automl-dm-30-03-35-206UAvnGVe6yJ-002-c9d4bccc\",\n",
      "                \"CandidateStepType\": \"AWS::SageMaker::TrainingJob\"\n",
      "            }\n",
      "        ],\n",
      "        \"CreationTime\": \"2023-03-30 03:54:42+00:00\",\n",
      "        \"EndTime\": \"2023-03-30 04:07:27+00:00\",\n",
      "        \"FinalAutoMLJobObjectiveMetric\": {\n",
      "            \"MetricName\": \"validation:accuracy\",\n",
      "            \"StandardMetricName\": \"Accuracy\",\n",
      "            \"Value\": 0.4800800085067749\n",
      "        },\n",
      "        \"InferenceContainers\": [\n",
      "            {\n",
      "                \"Environment\": {\n",
      "                    \"AUTOML_SPARSE_ENCODE_RECORDIO_PROTOBUF\": \"1\",\n",
      "                    \"AUTOML_TRANSFORM_MODE\": \"feature-transform\",\n",
      "                    \"SAGEMAKER_DEFAULT_INVOCATIONS_ACCEPT\": \"application/x-recordio-protobuf\",\n",
      "                    \"SAGEMAKER_PROGRAM\": \"sagemaker_serve\",\n",
      "                    \"SAGEMAKER_SUBMIT_DIRECTORY\": \"/opt/ml/model/code\"\n",
      "                },\n",
      "                \"Image\": \"683313688378.dkr.ecr.us-east-1.amazonaws.com/sagemaker-sklearn-automl:2.5-1-cpu-py3\",\n",
      "                \"ModelDataUrl\": \"s3://sagemaker-us-east-1-857283526476/models/autopilot/automl-dm-30-03-35-20/data-processor-models/automl-dm-30-03-35-20-dpp2-1-a02febbbfa594f91ac431e0ddec9d523d9/output/model.tar.gz\"\n",
      "            },\n",
      "            {\n",
      "                \"Environment\": {\n",
      "                    \"MAX_CONTENT_LENGTH\": \"20971520\",\n",
      "                    \"SAGEMAKER_DEFAULT_INVOCATIONS_ACCEPT\": \"text/csv\",\n",
      "                    \"SAGEMAKER_INFERENCE_OUTPUT\": \"predicted_label\",\n",
      "                    \"SAGEMAKER_INFERENCE_SUPPORTED\": \"predicted_label,probability,probabilities\"\n",
      "                },\n",
      "                \"Image\": \"683313688378.dkr.ecr.us-east-1.amazonaws.com/sagemaker-xgboost:1.3-1-cpu-py3\",\n",
      "                \"ModelDataUrl\": \"s3://sagemaker-us-east-1-857283526476/models/autopilot/automl-dm-30-03-35-20/tuning/automl-dm--dpp2-xgb/automl-dm-30-03-35-206UAvnGVe6yJ-002-c9d4bccc/output/model.tar.gz\"\n",
      "            },\n",
      "            {\n",
      "                \"Environment\": {\n",
      "                    \"AUTOML_TRANSFORM_MODE\": \"inverse-label-transform\",\n",
      "                    \"SAGEMAKER_DEFAULT_INVOCATIONS_ACCEPT\": \"text/csv\",\n",
      "                    \"SAGEMAKER_INFERENCE_INPUT\": \"predicted_label\",\n",
      "                    \"SAGEMAKER_INFERENCE_OUTPUT\": \"predicted_label\",\n",
      "                    \"SAGEMAKER_INFERENCE_SUPPORTED\": \"predicted_label,probability,labels,probabilities\",\n",
      "                    \"SAGEMAKER_PROGRAM\": \"sagemaker_serve\",\n",
      "                    \"SAGEMAKER_SUBMIT_DIRECTORY\": \"/opt/ml/model/code\"\n",
      "                },\n",
      "                \"Image\": \"683313688378.dkr.ecr.us-east-1.amazonaws.com/sagemaker-sklearn-automl:2.5-1-cpu-py3\",\n",
      "                \"ModelDataUrl\": \"s3://sagemaker-us-east-1-857283526476/models/autopilot/automl-dm-30-03-35-20/data-processor-models/automl-dm-30-03-35-20-dpp2-1-a02febbbfa594f91ac431e0ddec9d523d9/output/model.tar.gz\"\n",
      "            }\n",
      "        ],\n",
      "        \"LastModifiedTime\": \"2023-03-30 04:14:37.482000+00:00\",\n",
      "        \"ObjectiveStatus\": \"Succeeded\"\n",
      "    },\n",
      "    \"CreationTime\": \"2023-03-30 03:35:21.288000+00:00\",\n",
      "    \"EndTime\": \"2023-03-30 04:23:28.846000+00:00\",\n",
      "    \"GenerateCandidateDefinitionsOnly\": false,\n",
      "    \"InputDataConfig\": [\n",
      "        {\n",
      "            \"ChannelType\": \"training\",\n",
      "            \"ContentType\": \"text/csv;header=present\",\n",
      "            \"DataSource\": {\n",
      "                \"S3DataSource\": {\n",
      "                    \"S3DataType\": \"S3Prefix\",\n",
      "                    \"S3Uri\": \"s3://sagemaker-us-east-1-857283526476/data/amazon_reviews_us_Digital_Software_v1_00_autopilot.csv\"\n",
      "                }\n",
      "            },\n",
      "            \"TargetAttributeName\": \"star_rating\"\n",
      "        }\n",
      "    ],\n",
      "    \"LastModifiedTime\": \"2023-03-30 04:23:28.881000+00:00\",\n",
      "    \"OutputDataConfig\": {\n",
      "        \"S3OutputPath\": \"s3://sagemaker-us-east-1-857283526476/models/autopilot\"\n",
      "    },\n",
      "    \"ResolvedAttributes\": {\n",
      "        \"AutoMLJobObjective\": {\n",
      "            \"MetricName\": \"Accuracy\"\n",
      "        },\n",
      "        \"CompletionCriteria\": {\n",
      "            \"MaxAutoMLJobRuntimeInSeconds\": 5400,\n",
      "            \"MaxCandidates\": 3,\n",
      "            \"MaxRuntimePerTrainingJobInSeconds\": 900\n",
      "        },\n",
      "        \"ProblemType\": \"MulticlassClassification\"\n",
      "    },\n",
      "    \"ResponseMetadata\": {\n",
      "        \"HTTPHeaders\": {\n",
      "            \"content-length\": \"5948\",\n",
      "            \"content-type\": \"application/x-amz-json-1.1\",\n",
      "            \"date\": \"Thu, 30 Mar 2023 04:33:29 GMT\",\n",
      "            \"x-amzn-requestid\": \"26b18747-4d07-4712-9953-d3248e2d5fb6\"\n",
      "        },\n",
      "        \"HTTPStatusCode\": 200,\n",
      "        \"RequestId\": \"26b18747-4d07-4712-9953-d3248e2d5fb6\",\n",
      "        \"RetryAttempts\": 0\n",
      "    },\n",
      "    \"RoleArn\": \"arn:aws:iam::857283526476:role/LabRole\"\n",
      "}\n",
      "CPU times: user 5.53 ms, sys: 0 ns, total: 5.53 ms\n",
      "Wall time: 105 ms\n"
     ]
    }
   ],
   "source": [
    "%%time\n",
    "\n",
    "job_description_response = sm.describe_auto_ml_job(AutoMLJobName=auto_ml_job_name)\n",
    "job_status = job_description_response[\"AutoMLJobStatus\"]\n",
    "job_sec_status = job_description_response[\"AutoMLJobSecondaryStatus\"]\n",
    "print(job_status)\n",
    "print(job_sec_status)\n",
    "if job_status not in (\"Stopped\", \"Failed\"):\n",
    "    while job_status in (\"InProgress\") and job_sec_status in (\"ModelTuning\"):\n",
    "        job_description_response = sm.describe_auto_ml_job(AutoMLJobName=auto_ml_job_name)\n",
    "        job_status = job_description_response[\"AutoMLJobStatus\"]\n",
    "        job_sec_status = job_description_response[\"AutoMLJobSecondaryStatus\"]\n",
    "        print(job_status, job_sec_status)\n",
    "        sleep(15)\n",
    "    print(\"[OK] Model tuning phase completed.\\n\")\n",
    "\n",
    "print(json.dumps(job_description_response, indent=4, sort_keys=True, default=str))"
   ]
  },
  {
   "cell_type": "markdown",
   "id": "80206d3f-b800-4e92-89e8-2ac1dd7ae670",
   "metadata": {},
   "source": [
    "# Status for completion"
   ]
  },
  {
   "cell_type": "code",
   "execution_count": 114,
   "id": "eb3a73ee-bd65-46e7-b914-cfa77917cb2a",
   "metadata": {},
   "outputs": [
    {
     "name": "stdout",
     "output_type": "stream",
     "text": [
      "Completed\n",
      "[OK] Autopilot Job completed.\n",
      "\n",
      "CPU times: user 5.06 ms, sys: 192 µs, total: 5.25 ms\n",
      "Wall time: 204 ms\n"
     ]
    }
   ],
   "source": [
    "%%time\n",
    "\n",
    "job_description_response = sm.describe_auto_ml_job(AutoMLJobName=auto_ml_job_name)\n",
    "job_status = job_description_response[\"AutoMLJobStatus\"]\n",
    "print(job_status)\n",
    "if job_status not in (\"Stopped\", \"Failed\"):\n",
    "    while job_status not in (\"Completed\"):\n",
    "        job_description_response = sm.describe_auto_ml_job(AutoMLJobName=auto_ml_job_name)\n",
    "        job_status = job_description_response[\"AutoMLJobStatus\"]\n",
    "        print(job_status)\n",
    "        sleep(10)\n",
    "    print(\"[OK] Autopilot Job completed.\\n\")\n",
    "else:\n",
    "    print(job_status)"
   ]
  },
  {
   "cell_type": "markdown",
   "id": "5d7cbc9a-c447-49a1-98cd-a56440af31d4",
   "metadata": {},
   "source": [
    "# View All Candidates "
   ]
  },
  {
   "cell_type": "code",
   "execution_count": 115,
   "id": "9456e6c6-2ffe-474d-a314-0cee2d98d141",
   "metadata": {},
   "outputs": [],
   "source": [
    "candidates_response = sm.list_candidates_for_auto_ml_job(\n",
    "    AutoMLJobName=auto_ml_job_name, SortBy=\"FinalObjectiveMetricValue\"\n",
    ")"
   ]
  },
  {
   "cell_type": "code",
   "execution_count": 116,
   "id": "eb4d34eb-41b5-40e7-8fcf-e3ecd299027c",
   "metadata": {},
   "outputs": [
    {
     "name": "stdout",
     "output_type": "stream",
     "text": [
      "dict_keys(['Candidates', 'ResponseMetadata'])\n"
     ]
    }
   ],
   "source": [
    "print(candidates_response.keys())"
   ]
  },
  {
   "cell_type": "code",
   "execution_count": 117,
   "id": "933d4536-c9a2-419d-915c-68bb01a2e37a",
   "metadata": {},
   "outputs": [
    {
     "name": "stdout",
     "output_type": "stream",
     "text": [
      "[OK] Candidates generated.\n"
     ]
    }
   ],
   "source": [
    "while \"Candidates\" not in candidates_response.keys():\n",
    "    candidates_response = sm.list_candidates_for_auto_ml_job(\n",
    "        AutoMLJobName=auto_ml_job_name, SortBy=\"FinalObjectiveMetricValue\"\n",
    "    )\n",
    "    print(\"[INFO] Autopilot Job is generating the Candidates. Please wait.\")\n",
    "    print(json.dumps(candidates_response, indent=4, sort_keys=True, default=str))\n",
    "    sleep(10)\n",
    "\n",
    "candidates = candidates_response[\"Candidates\"]\n",
    "print(\"[OK] Candidates generated.\")"
   ]
  },
  {
   "cell_type": "code",
   "execution_count": 118,
   "id": "bf55f5fd-e768-4b31-9f2b-8a2bce89e957",
   "metadata": {},
   "outputs": [
    {
     "name": "stdout",
     "output_type": "stream",
     "text": [
      "dict_keys(['CandidateName', 'FinalAutoMLJobObjectiveMetric', 'ObjectiveStatus', 'CandidateSteps', 'CandidateStatus', 'InferenceContainers', 'CreationTime', 'EndTime', 'LastModifiedTime', 'CandidateProperties'])\n"
     ]
    }
   ],
   "source": [
    "print(candidates[0].keys())"
   ]
  },
  {
   "cell_type": "code",
   "execution_count": 119,
   "id": "96cd8202-4836-4846-bd23-1eff90c2204a",
   "metadata": {},
   "outputs": [
    {
     "name": "stdout",
     "output_type": "stream",
     "text": [
      "[OK] CandidateName generated.\n"
     ]
    }
   ],
   "source": [
    "while \"CandidateName\" not in candidates[0]:\n",
    "    candidates_response = sm.list_candidates_for_auto_ml_job(\n",
    "        AutoMLJobName=auto_ml_job_name, SortBy=\"FinalObjectiveMetricValue\"\n",
    "    )\n",
    "    candidates = candidates_response[\"Candidates\"]\n",
    "    print(\"[INFO] Autopilot Job is generating CandidateName. Please wait. \")\n",
    "    print(json.dumps(candidates, indent=4, sort_keys=True, default=str))\n",
    "    sleep(10)\n",
    "\n",
    "print(\"[OK] CandidateName generated.\")"
   ]
  },
  {
   "cell_type": "code",
   "execution_count": 120,
   "id": "2c37b7a6-e783-49ac-aacd-ba3e5d779148",
   "metadata": {},
   "outputs": [
    {
     "name": "stdout",
     "output_type": "stream",
     "text": [
      "[OK] FinalAutoMLJobObjectiveMetric generated.\n"
     ]
    }
   ],
   "source": [
    "while \"FinalAutoMLJobObjectiveMetric\" not in candidates[0]:\n",
    "    candidates_response = sm.list_candidates_for_auto_ml_job(\n",
    "        AutoMLJobName=auto_ml_job_name, SortBy=\"FinalObjectiveMetricValue\"\n",
    "    )\n",
    "    candidates = candidates_response[\"Candidates\"]\n",
    "    print(\"[INFO] Autopilot Job is generating FinalAutoMLJobObjectiveMetric. Please wait. \")\n",
    "    print(json.dumps(candidates, indent=4, sort_keys=True, default=str))\n",
    "    sleep(10)\n",
    "\n",
    "print(\"[OK] FinalAutoMLJobObjectiveMetric generated.\")"
   ]
  },
  {
   "cell_type": "code",
   "execution_count": 121,
   "id": "05bfc247-3847-474b-ba66-d432e072b261",
   "metadata": {},
   "outputs": [
    {
     "name": "stdout",
     "output_type": "stream",
     "text": [
      "[\n",
      "    {\n",
      "        \"CandidateName\": \"automl-dm-30-03-35-206UAvnGVe6yJ-002-c9d4bccc\",\n",
      "        \"CandidateProperties\": {\n",
      "            \"CandidateArtifactLocations\": {\n",
      "                \"Explainability\": \"s3://sagemaker-us-east-1-857283526476/models/autopilot/automl-dm-30-03-35-20/documentation/explainability/output\",\n",
      "                \"ModelInsights\": \"s3://sagemaker-us-east-1-857283526476/models/autopilot/automl-dm-30-03-35-20/documentation/model_monitor/output\"\n",
      "            },\n",
      "            \"CandidateMetrics\": [\n",
      "                {\n",
      "                    \"MetricName\": \"F1macro\",\n",
      "                    \"Set\": \"Validation\",\n",
      "                    \"StandardMetricName\": \"F1macro\",\n",
      "                    \"Value\": 0.47442999482154846\n",
      "                },\n",
      "                {\n",
      "                    \"MetricName\": \"PrecisionMacro\",\n",
      "                    \"Set\": \"Validation\",\n",
      "                    \"StandardMetricName\": \"PrecisionMacro\",\n",
      "                    \"Value\": 0.4722200036048889\n",
      "                },\n",
      "                {\n",
      "                    \"MetricName\": \"Accuracy\",\n",
      "                    \"Set\": \"Validation\",\n",
      "                    \"StandardMetricName\": \"Accuracy\",\n",
      "                    \"Value\": 0.4800800085067749\n",
      "                },\n",
      "                {\n",
      "                    \"MetricName\": \"BalancedAccuracy\",\n",
      "                    \"Set\": \"Validation\",\n",
      "                    \"StandardMetricName\": \"BalancedAccuracy\",\n",
      "                    \"Value\": 0.4800800085067749\n",
      "                },\n",
      "                {\n",
      "                    \"MetricName\": \"LogLoss\",\n",
      "                    \"Set\": \"Validation\",\n",
      "                    \"StandardMetricName\": \"LogLoss\",\n",
      "                    \"Value\": 1.2205599546432495\n",
      "                },\n",
      "                {\n",
      "                    \"MetricName\": \"RecallMacro\",\n",
      "                    \"Set\": \"Validation\",\n",
      "                    \"StandardMetricName\": \"RecallMacro\",\n",
      "                    \"Value\": 0.4800800085067749\n",
      "                }\n",
      "            ]\n",
      "        },\n",
      "        \"CandidateStatus\": \"Completed\",\n",
      "        \"CandidateSteps\": [\n",
      "            {\n",
      "                \"CandidateStepArn\": \"arn:aws:sagemaker:us-east-1:857283526476:processing-job/automl-dm-30-03-35-20-db-1-48e7c029b9654b7a86c2751744ab05e66250\",\n",
      "                \"CandidateStepName\": \"automl-dm-30-03-35-20-db-1-48e7c029b9654b7a86c2751744ab05e66250\",\n",
      "                \"CandidateStepType\": \"AWS::SageMaker::ProcessingJob\"\n",
      "            },\n",
      "            {\n",
      "                \"CandidateStepArn\": \"arn:aws:sagemaker:us-east-1:857283526476:training-job/automl-dm-30-03-35-20-dpp2-1-a02febbbfa594f91ac431e0ddec9d523d9\",\n",
      "                \"CandidateStepName\": \"automl-dm-30-03-35-20-dpp2-1-a02febbbfa594f91ac431e0ddec9d523d9\",\n",
      "                \"CandidateStepType\": \"AWS::SageMaker::TrainingJob\"\n",
      "            },\n",
      "            {\n",
      "                \"CandidateStepArn\": \"arn:aws:sagemaker:us-east-1:857283526476:transform-job/automl-dm-30-03-35-20-dpp2-rpb-1-b8add5e432b44f23a438a85a513d26\",\n",
      "                \"CandidateStepName\": \"automl-dm-30-03-35-20-dpp2-rpb-1-b8add5e432b44f23a438a85a513d26\",\n",
      "                \"CandidateStepType\": \"AWS::SageMaker::TransformJob\"\n",
      "            },\n",
      "            {\n",
      "                \"CandidateStepArn\": \"arn:aws:sagemaker:us-east-1:857283526476:training-job/automl-dm-30-03-35-206UAvnGVe6yJ-002-c9d4bccc\",\n",
      "                \"CandidateStepName\": \"automl-dm-30-03-35-206UAvnGVe6yJ-002-c9d4bccc\",\n",
      "                \"CandidateStepType\": \"AWS::SageMaker::TrainingJob\"\n",
      "            }\n",
      "        ],\n",
      "        \"CreationTime\": \"2023-03-30 03:54:42+00:00\",\n",
      "        \"EndTime\": \"2023-03-30 04:07:27+00:00\",\n",
      "        \"FinalAutoMLJobObjectiveMetric\": {\n",
      "            \"MetricName\": \"validation:accuracy\",\n",
      "            \"StandardMetricName\": \"Accuracy\",\n",
      "            \"Value\": 0.4800800085067749\n",
      "        },\n",
      "        \"InferenceContainers\": [\n",
      "            {\n",
      "                \"Environment\": {\n",
      "                    \"AUTOML_SPARSE_ENCODE_RECORDIO_PROTOBUF\": \"1\",\n",
      "                    \"AUTOML_TRANSFORM_MODE\": \"feature-transform\",\n",
      "                    \"SAGEMAKER_DEFAULT_INVOCATIONS_ACCEPT\": \"application/x-recordio-protobuf\",\n",
      "                    \"SAGEMAKER_PROGRAM\": \"sagemaker_serve\",\n",
      "                    \"SAGEMAKER_SUBMIT_DIRECTORY\": \"/opt/ml/model/code\"\n",
      "                },\n",
      "                \"Image\": \"683313688378.dkr.ecr.us-east-1.amazonaws.com/sagemaker-sklearn-automl:2.5-1-cpu-py3\",\n",
      "                \"ModelDataUrl\": \"s3://sagemaker-us-east-1-857283526476/models/autopilot/automl-dm-30-03-35-20/data-processor-models/automl-dm-30-03-35-20-dpp2-1-a02febbbfa594f91ac431e0ddec9d523d9/output/model.tar.gz\"\n",
      "            },\n",
      "            {\n",
      "                \"Environment\": {\n",
      "                    \"MAX_CONTENT_LENGTH\": \"20971520\",\n",
      "                    \"SAGEMAKER_DEFAULT_INVOCATIONS_ACCEPT\": \"text/csv\",\n",
      "                    \"SAGEMAKER_INFERENCE_OUTPUT\": \"predicted_label\",\n",
      "                    \"SAGEMAKER_INFERENCE_SUPPORTED\": \"predicted_label,probability,probabilities\"\n",
      "                },\n",
      "                \"Image\": \"683313688378.dkr.ecr.us-east-1.amazonaws.com/sagemaker-xgboost:1.3-1-cpu-py3\",\n",
      "                \"ModelDataUrl\": \"s3://sagemaker-us-east-1-857283526476/models/autopilot/automl-dm-30-03-35-20/tuning/automl-dm--dpp2-xgb/automl-dm-30-03-35-206UAvnGVe6yJ-002-c9d4bccc/output/model.tar.gz\"\n",
      "            },\n",
      "            {\n",
      "                \"Environment\": {\n",
      "                    \"AUTOML_TRANSFORM_MODE\": \"inverse-label-transform\",\n",
      "                    \"SAGEMAKER_DEFAULT_INVOCATIONS_ACCEPT\": \"text/csv\",\n",
      "                    \"SAGEMAKER_INFERENCE_INPUT\": \"predicted_label\",\n",
      "                    \"SAGEMAKER_INFERENCE_OUTPUT\": \"predicted_label\",\n",
      "                    \"SAGEMAKER_INFERENCE_SUPPORTED\": \"predicted_label,probability,labels,probabilities\",\n",
      "                    \"SAGEMAKER_PROGRAM\": \"sagemaker_serve\",\n",
      "                    \"SAGEMAKER_SUBMIT_DIRECTORY\": \"/opt/ml/model/code\"\n",
      "                },\n",
      "                \"Image\": \"683313688378.dkr.ecr.us-east-1.amazonaws.com/sagemaker-sklearn-automl:2.5-1-cpu-py3\",\n",
      "                \"ModelDataUrl\": \"s3://sagemaker-us-east-1-857283526476/models/autopilot/automl-dm-30-03-35-20/data-processor-models/automl-dm-30-03-35-20-dpp2-1-a02febbbfa594f91ac431e0ddec9d523d9/output/model.tar.gz\"\n",
      "            }\n",
      "        ],\n",
      "        \"LastModifiedTime\": \"2023-03-30 04:14:37.482000+00:00\",\n",
      "        \"ObjectiveStatus\": \"Succeeded\"\n",
      "    },\n",
      "    {\n",
      "        \"CandidateName\": \"automl-dm-30-03-35-206UAvnGVe6yJ-003-90c9bfc1\",\n",
      "        \"CandidateProperties\": {\n",
      "            \"CandidateMetrics\": [\n",
      "                {\n",
      "                    \"MetricName\": \"F1macro\",\n",
      "                    \"Set\": \"Validation\",\n",
      "                    \"StandardMetricName\": \"F1macro\",\n",
      "                    \"Value\": 0.2716299891471863\n",
      "                },\n",
      "                {\n",
      "                    \"MetricName\": \"PrecisionMacro\",\n",
      "                    \"Set\": \"Validation\",\n",
      "                    \"StandardMetricName\": \"PrecisionMacro\",\n",
      "                    \"Value\": 0.2823899984359741\n",
      "                },\n",
      "                {\n",
      "                    \"MetricName\": \"Accuracy\",\n",
      "                    \"Set\": \"Validation\",\n",
      "                    \"StandardMetricName\": \"Accuracy\",\n",
      "                    \"Value\": 0.28891998529434204\n",
      "                },\n",
      "                {\n",
      "                    \"MetricName\": \"BalancedAccuracy\",\n",
      "                    \"Set\": \"Validation\",\n",
      "                    \"StandardMetricName\": \"BalancedAccuracy\",\n",
      "                    \"Value\": 0.28891998529434204\n",
      "                },\n",
      "                {\n",
      "                    \"MetricName\": \"LogLoss\",\n",
      "                    \"Set\": \"Validation\",\n",
      "                    \"StandardMetricName\": \"LogLoss\",\n",
      "                    \"Value\": 1.58024001121521\n",
      "                },\n",
      "                {\n",
      "                    \"MetricName\": \"RecallMacro\",\n",
      "                    \"Set\": \"Validation\",\n",
      "                    \"StandardMetricName\": \"RecallMacro\",\n",
      "                    \"Value\": 0.28891998529434204\n",
      "                }\n",
      "            ]\n",
      "        },\n",
      "        \"CandidateStatus\": \"Completed\",\n",
      "        \"CandidateSteps\": [\n",
      "            {\n",
      "                \"CandidateStepArn\": \"arn:aws:sagemaker:us-east-1:857283526476:processing-job/automl-dm-30-03-35-20-db-1-48e7c029b9654b7a86c2751744ab05e66250\",\n",
      "                \"CandidateStepName\": \"automl-dm-30-03-35-20-db-1-48e7c029b9654b7a86c2751744ab05e66250\",\n",
      "                \"CandidateStepType\": \"AWS::SageMaker::ProcessingJob\"\n",
      "            },\n",
      "            {\n",
      "                \"CandidateStepArn\": \"arn:aws:sagemaker:us-east-1:857283526476:training-job/automl-dm-30-03-35-20-dpp1-1-e53e30ad081f4f4e9f50fa6a8514f2b87b\",\n",
      "                \"CandidateStepName\": \"automl-dm-30-03-35-20-dpp1-1-e53e30ad081f4f4e9f50fa6a8514f2b87b\",\n",
      "                \"CandidateStepType\": \"AWS::SageMaker::TrainingJob\"\n",
      "            },\n",
      "            {\n",
      "                \"CandidateStepArn\": \"arn:aws:sagemaker:us-east-1:857283526476:transform-job/automl-dm-30-03-35-20-dpp1-csv-1-421e5439dce54316a06d117fd1ac51\",\n",
      "                \"CandidateStepName\": \"automl-dm-30-03-35-20-dpp1-csv-1-421e5439dce54316a06d117fd1ac51\",\n",
      "                \"CandidateStepType\": \"AWS::SageMaker::TransformJob\"\n",
      "            },\n",
      "            {\n",
      "                \"CandidateStepArn\": \"arn:aws:sagemaker:us-east-1:857283526476:training-job/automl-dm-30-03-35-206UAvnGVe6yJ-003-90c9bfc1\",\n",
      "                \"CandidateStepName\": \"automl-dm-30-03-35-206UAvnGVe6yJ-003-90c9bfc1\",\n",
      "                \"CandidateStepType\": \"AWS::SageMaker::TrainingJob\"\n",
      "            }\n",
      "        ],\n",
      "        \"CreationTime\": \"2023-03-30 03:54:53+00:00\",\n",
      "        \"EndTime\": \"2023-03-30 04:03:57+00:00\",\n",
      "        \"FinalAutoMLJobObjectiveMetric\": {\n",
      "            \"MetricName\": \"validation:accuracy\",\n",
      "            \"StandardMetricName\": \"Accuracy\",\n",
      "            \"Value\": 0.28891998529434204\n",
      "        },\n",
      "        \"InferenceContainers\": [\n",
      "            {\n",
      "                \"Environment\": {\n",
      "                    \"AUTOML_TRANSFORM_MODE\": \"feature-transform\",\n",
      "                    \"SAGEMAKER_DEFAULT_INVOCATIONS_ACCEPT\": \"application/x-recordio-protobuf\",\n",
      "                    \"SAGEMAKER_PROGRAM\": \"sagemaker_serve\",\n",
      "                    \"SAGEMAKER_SUBMIT_DIRECTORY\": \"/opt/ml/model/code\"\n",
      "                },\n",
      "                \"Image\": \"683313688378.dkr.ecr.us-east-1.amazonaws.com/sagemaker-sklearn-automl:2.5-1-cpu-py3\",\n",
      "                \"ModelDataUrl\": \"s3://sagemaker-us-east-1-857283526476/models/autopilot/automl-dm-30-03-35-20/data-processor-models/automl-dm-30-03-35-20-dpp1-1-e53e30ad081f4f4e9f50fa6a8514f2b87b/output/model.tar.gz\"\n",
      "            },\n",
      "            {\n",
      "                \"Environment\": {\n",
      "                    \"MAX_CONTENT_LENGTH\": \"20971520\",\n",
      "                    \"SAGEMAKER_DEFAULT_INVOCATIONS_ACCEPT\": \"text/csv\",\n",
      "                    \"SAGEMAKER_INFERENCE_OUTPUT\": \"predicted_label\",\n",
      "                    \"SAGEMAKER_INFERENCE_SUPPORTED\": \"predicted_label,probability,probabilities\"\n",
      "                },\n",
      "                \"Image\": \"683313688378.dkr.ecr.us-east-1.amazonaws.com/sagemaker-xgboost:1.3-1-cpu-py3\",\n",
      "                \"ModelDataUrl\": \"s3://sagemaker-us-east-1-857283526476/models/autopilot/automl-dm-30-03-35-20/tuning/automl-dm--dpp1-xgb/automl-dm-30-03-35-206UAvnGVe6yJ-003-90c9bfc1/output/model.tar.gz\"\n",
      "            },\n",
      "            {\n",
      "                \"Environment\": {\n",
      "                    \"AUTOML_TRANSFORM_MODE\": \"inverse-label-transform\",\n",
      "                    \"SAGEMAKER_DEFAULT_INVOCATIONS_ACCEPT\": \"text/csv\",\n",
      "                    \"SAGEMAKER_INFERENCE_INPUT\": \"predicted_label\",\n",
      "                    \"SAGEMAKER_INFERENCE_OUTPUT\": \"predicted_label\",\n",
      "                    \"SAGEMAKER_INFERENCE_SUPPORTED\": \"predicted_label,probability,labels,probabilities\",\n",
      "                    \"SAGEMAKER_PROGRAM\": \"sagemaker_serve\",\n",
      "                    \"SAGEMAKER_SUBMIT_DIRECTORY\": \"/opt/ml/model/code\"\n",
      "                },\n",
      "                \"Image\": \"683313688378.dkr.ecr.us-east-1.amazonaws.com/sagemaker-sklearn-automl:2.5-1-cpu-py3\",\n",
      "                \"ModelDataUrl\": \"s3://sagemaker-us-east-1-857283526476/models/autopilot/automl-dm-30-03-35-20/data-processor-models/automl-dm-30-03-35-20-dpp1-1-e53e30ad081f4f4e9f50fa6a8514f2b87b/output/model.tar.gz\"\n",
      "            }\n",
      "        ],\n",
      "        \"LastModifiedTime\": \"2023-03-30 04:14:37.415000+00:00\",\n",
      "        \"ObjectiveStatus\": \"Succeeded\"\n",
      "    },\n",
      "    {\n",
      "        \"CandidateName\": \"automl-dm-30-03-35-206UAvnGVe6yJ-001-c232ef5d\",\n",
      "        \"CandidateProperties\": {\n",
      "            \"CandidateMetrics\": [\n",
      "                {\n",
      "                    \"MetricName\": \"F1macro\",\n",
      "                    \"Set\": \"Validation\",\n",
      "                    \"StandardMetricName\": \"F1macro\",\n",
      "                    \"Value\": 0.2778500020503998\n",
      "                },\n",
      "                {\n",
      "                    \"MetricName\": \"PrecisionMacro\",\n",
      "                    \"Set\": \"Validation\",\n",
      "                    \"StandardMetricName\": \"PrecisionMacro\",\n",
      "                    \"Value\": 0.27959001064300537\n",
      "                },\n",
      "                {\n",
      "                    \"MetricName\": \"Accuracy\",\n",
      "                    \"Set\": \"Validation\",\n",
      "                    \"StandardMetricName\": \"Accuracy\",\n",
      "                    \"Value\": 0.28641000390052795\n",
      "                },\n",
      "                {\n",
      "                    \"MetricName\": \"BalancedAccuracy\",\n",
      "                    \"Set\": \"Validation\",\n",
      "                    \"StandardMetricName\": \"BalancedAccuracy\",\n",
      "                    \"Value\": 0.28641998767852783\n",
      "                },\n",
      "                {\n",
      "                    \"MetricName\": \"LogLoss\",\n",
      "                    \"Set\": \"Validation\",\n",
      "                    \"StandardMetricName\": \"LogLoss\",\n",
      "                    \"Value\": 1.5442500114440918\n",
      "                },\n",
      "                {\n",
      "                    \"MetricName\": \"RecallMacro\",\n",
      "                    \"Set\": \"Validation\",\n",
      "                    \"StandardMetricName\": \"RecallMacro\",\n",
      "                    \"Value\": 0.28641998767852783\n",
      "                }\n",
      "            ]\n",
      "        },\n",
      "        \"CandidateStatus\": \"Stopped\",\n",
      "        \"CandidateSteps\": [\n",
      "            {\n",
      "                \"CandidateStepArn\": \"arn:aws:sagemaker:us-east-1:857283526476:processing-job/automl-dm-30-03-35-20-db-1-48e7c029b9654b7a86c2751744ab05e66250\",\n",
      "                \"CandidateStepName\": \"automl-dm-30-03-35-20-db-1-48e7c029b9654b7a86c2751744ab05e66250\",\n",
      "                \"CandidateStepType\": \"AWS::SageMaker::ProcessingJob\"\n",
      "            },\n",
      "            {\n",
      "                \"CandidateStepArn\": \"arn:aws:sagemaker:us-east-1:857283526476:training-job/automl-dm-30-03-35-20-dpp1-1-e53e30ad081f4f4e9f50fa6a8514f2b87b\",\n",
      "                \"CandidateStepName\": \"automl-dm-30-03-35-20-dpp1-1-e53e30ad081f4f4e9f50fa6a8514f2b87b\",\n",
      "                \"CandidateStepType\": \"AWS::SageMaker::TrainingJob\"\n",
      "            },\n",
      "            {\n",
      "                \"CandidateStepArn\": \"arn:aws:sagemaker:us-east-1:857283526476:transform-job/automl-dm-30-03-35-20-dpp1-csv-1-421e5439dce54316a06d117fd1ac51\",\n",
      "                \"CandidateStepName\": \"automl-dm-30-03-35-20-dpp1-csv-1-421e5439dce54316a06d117fd1ac51\",\n",
      "                \"CandidateStepType\": \"AWS::SageMaker::TransformJob\"\n",
      "            },\n",
      "            {\n",
      "                \"CandidateStepArn\": \"arn:aws:sagemaker:us-east-1:857283526476:training-job/automl-dm-30-03-35-206UAvnGVe6yJ-001-c232ef5d\",\n",
      "                \"CandidateStepName\": \"automl-dm-30-03-35-206UAvnGVe6yJ-001-c232ef5d\",\n",
      "                \"CandidateStepType\": \"AWS::SageMaker::TrainingJob\"\n",
      "            }\n",
      "        ],\n",
      "        \"CreationTime\": \"2023-03-30 03:54:45+00:00\",\n",
      "        \"EndTime\": \"2023-03-30 04:12:28+00:00\",\n",
      "        \"FinalAutoMLJobObjectiveMetric\": {\n",
      "            \"MetricName\": \"validation:accuracy\",\n",
      "            \"StandardMetricName\": \"Accuracy\",\n",
      "            \"Value\": 0.28641000390052795\n",
      "        },\n",
      "        \"InferenceContainers\": [\n",
      "            {\n",
      "                \"Environment\": {\n",
      "                    \"AUTOML_TRANSFORM_MODE\": \"feature-transform\",\n",
      "                    \"SAGEMAKER_DEFAULT_INVOCATIONS_ACCEPT\": \"application/x-recordio-protobuf\",\n",
      "                    \"SAGEMAKER_PROGRAM\": \"sagemaker_serve\",\n",
      "                    \"SAGEMAKER_SUBMIT_DIRECTORY\": \"/opt/ml/model/code\"\n",
      "                },\n",
      "                \"Image\": \"683313688378.dkr.ecr.us-east-1.amazonaws.com/sagemaker-sklearn-automl:2.5-1-cpu-py3\",\n",
      "                \"ModelDataUrl\": \"s3://sagemaker-us-east-1-857283526476/models/autopilot/automl-dm-30-03-35-20/data-processor-models/automl-dm-30-03-35-20-dpp1-1-e53e30ad081f4f4e9f50fa6a8514f2b87b/output/model.tar.gz\"\n",
      "            },\n",
      "            {\n",
      "                \"Environment\": {\n",
      "                    \"MAX_CONTENT_LENGTH\": \"20971520\",\n",
      "                    \"SAGEMAKER_DEFAULT_INVOCATIONS_ACCEPT\": \"text/csv\",\n",
      "                    \"SAGEMAKER_INFERENCE_OUTPUT\": \"predicted_label\",\n",
      "                    \"SAGEMAKER_INFERENCE_SUPPORTED\": \"predicted_label,probability,probabilities\"\n",
      "                },\n",
      "                \"Image\": \"683313688378.dkr.ecr.us-east-1.amazonaws.com/sagemaker-xgboost:1.3-1-cpu-py3\",\n",
      "                \"ModelDataUrl\": \"s3://sagemaker-us-east-1-857283526476/models/autopilot/automl-dm-30-03-35-20/tuning/automl-dm--dpp1-xgb/automl-dm-30-03-35-206UAvnGVe6yJ-001-c232ef5d/output/model.tar.gz\"\n",
      "            },\n",
      "            {\n",
      "                \"Environment\": {\n",
      "                    \"AUTOML_TRANSFORM_MODE\": \"inverse-label-transform\",\n",
      "                    \"SAGEMAKER_DEFAULT_INVOCATIONS_ACCEPT\": \"text/csv\",\n",
      "                    \"SAGEMAKER_INFERENCE_INPUT\": \"predicted_label\",\n",
      "                    \"SAGEMAKER_INFERENCE_OUTPUT\": \"predicted_label\",\n",
      "                    \"SAGEMAKER_INFERENCE_SUPPORTED\": \"predicted_label,probability,labels,probabilities\",\n",
      "                    \"SAGEMAKER_PROGRAM\": \"sagemaker_serve\",\n",
      "                    \"SAGEMAKER_SUBMIT_DIRECTORY\": \"/opt/ml/model/code\"\n",
      "                },\n",
      "                \"Image\": \"683313688378.dkr.ecr.us-east-1.amazonaws.com/sagemaker-sklearn-automl:2.5-1-cpu-py3\",\n",
      "                \"ModelDataUrl\": \"s3://sagemaker-us-east-1-857283526476/models/autopilot/automl-dm-30-03-35-20/data-processor-models/automl-dm-30-03-35-20-dpp1-1-e53e30ad081f4f4e9f50fa6a8514f2b87b/output/model.tar.gz\"\n",
      "            }\n",
      "        ],\n",
      "        \"LastModifiedTime\": \"2023-03-30 04:14:37.416000+00:00\",\n",
      "        \"ObjectiveStatus\": \"Succeeded\"\n",
      "    }\n",
      "]\n"
     ]
    }
   ],
   "source": [
    "print(json.dumps(candidates, indent=4, sort_keys=True, default=str))"
   ]
  },
  {
   "cell_type": "code",
   "execution_count": 122,
   "id": "34a7a7e8-eedd-4559-a525-403b442a8215",
   "metadata": {},
   "outputs": [
    {
     "name": "stdout",
     "output_type": "stream",
     "text": [
      "0  automl-dm-30-03-35-206UAvnGVe6yJ-002-c9d4bccc  0.4800800085067749\n",
      "1  automl-dm-30-03-35-206UAvnGVe6yJ-003-90c9bfc1  0.28891998529434204\n",
      "2  automl-dm-30-03-35-206UAvnGVe6yJ-001-c232ef5d  0.28641000390052795\n"
     ]
    }
   ],
   "source": [
    "for index, candidate in enumerate(candidates):\n",
    "    print(\n",
    "        str(index)\n",
    "        + \"  \"\n",
    "        + candidate[\"CandidateName\"]\n",
    "        + \"  \"\n",
    "        + str(candidate[\"FinalAutoMLJobObjectiveMetric\"][\"Value\"])\n",
    "    )"
   ]
  },
  {
   "cell_type": "markdown",
   "id": "254948ab-2762-4627-838b-62ebb09f6b16",
   "metadata": {},
   "source": [
    "# Inspect Trials using Experiments API"
   ]
  },
  {
   "cell_type": "code",
   "execution_count": 123,
   "id": "9b0ec73c-c613-49eb-bb32-952516313c44",
   "metadata": {},
   "outputs": [
    {
     "name": "stdout",
     "output_type": "stream",
     "text": [
      "                                  TrialComponentName  \\\n",
      "0  automl-dm-30-03-35-206UAvnGVe6yJ-001-c232ef5d-...   \n",
      "1  automl-dm-30-03-35-206UAvnGVe6yJ-002-c9d4bccc-...   \n",
      "2  automl-dm-30-03-35-206UAvnGVe6yJ-003-90c9bfc1-...   \n",
      "3  automl-dm-30-03-35-20-dpp1-csv-1-421e5439dce54...   \n",
      "4  automl-dm-30-03-35-20-dpp2-rpb-1-b8add5e432b44...   \n",
      "5  automl-dm-30-03-35-20-dpp1-1-e53e30ad081f4f4e9...   \n",
      "6  automl-dm-30-03-35-20-dpp2-1-a02febbbfa594f91a...   \n",
      "7  automl-dm-30-03-35-20-db-1-48e7c029b9654b7a86c...   \n",
      "\n",
      "                                         DisplayName  \\\n",
      "0  automl-dm-30-03-35-206UAvnGVe6yJ-001-c232ef5d-...   \n",
      "1  automl-dm-30-03-35-206UAvnGVe6yJ-002-c9d4bccc-...   \n",
      "2  automl-dm-30-03-35-206UAvnGVe6yJ-003-90c9bfc1-...   \n",
      "3  automl-dm-30-03-35-20-dpp1-csv-1-421e5439dce54...   \n",
      "4  automl-dm-30-03-35-20-dpp2-rpb-1-b8add5e432b44...   \n",
      "5  automl-dm-30-03-35-20-dpp1-1-e53e30ad081f4f4e9...   \n",
      "6  automl-dm-30-03-35-20-dpp2-1-a02febbbfa594f91a...   \n",
      "7  automl-dm-30-03-35-20-db-1-48e7c029b9654b7a86c...   \n",
      "\n",
      "                                           SourceArn  \\\n",
      "0  arn:aws:sagemaker:us-east-1:857283526476:train...   \n",
      "1  arn:aws:sagemaker:us-east-1:857283526476:train...   \n",
      "2  arn:aws:sagemaker:us-east-1:857283526476:train...   \n",
      "3  arn:aws:sagemaker:us-east-1:857283526476:trans...   \n",
      "4  arn:aws:sagemaker:us-east-1:857283526476:trans...   \n",
      "5  arn:aws:sagemaker:us-east-1:857283526476:train...   \n",
      "6  arn:aws:sagemaker:us-east-1:857283526476:train...   \n",
      "7  arn:aws:sagemaker:us-east-1:857283526476:proce...   \n",
      "\n",
      "                                  SageMaker.ImageUri  SageMaker.InstanceCount  \\\n",
      "0  683313688378.dkr.ecr.us-east-1.amazonaws.com/s...                      1.0   \n",
      "1  683313688378.dkr.ecr.us-east-1.amazonaws.com/s...                      1.0   \n",
      "2  683313688378.dkr.ecr.us-east-1.amazonaws.com/s...                      1.0   \n",
      "3                                                NaN                      1.0   \n",
      "4                                                NaN                      1.0   \n",
      "5  683313688378.dkr.ecr.us-east-1.amazonaws.com/s...                      1.0   \n",
      "6  683313688378.dkr.ecr.us-east-1.amazonaws.com/s...                      1.0   \n",
      "7                                                NaN                      1.0   \n",
      "\n",
      "  SageMaker.InstanceType  SageMaker.VolumeSizeInGB  _kfold  _num_cv_round  \\\n",
      "0         ml.m5.12xlarge                      50.0     5.0            3.0   \n",
      "1         ml.m5.12xlarge                      50.0     5.0            NaN   \n",
      "2         ml.m5.12xlarge                      50.0     5.0            3.0   \n",
      "3          ml.m5.4xlarge                       NaN     NaN            NaN   \n",
      "4          ml.m5.4xlarge                       NaN     NaN            NaN   \n",
      "5         ml.m5.12xlarge                      50.0     NaN            NaN   \n",
      "6         ml.m5.12xlarge                      50.0     NaN            NaN   \n",
      "7          ml.m5.2xlarge                     250.0     NaN            NaN   \n",
      "\n",
      "  _tuning_objective_metric  ...  enable_validation_split  input_channel_mode  \\\n",
      "0      validation:accuracy  ...                      NaN                 NaN   \n",
      "1      validation:accuracy  ...                      NaN                 NaN   \n",
      "2      validation:accuracy  ...                      NaN                 NaN   \n",
      "3                      NaN  ...                      NaN                 NaN   \n",
      "4                      NaN  ...                      NaN                 NaN   \n",
      "5                      NaN  ...                      NaN                 NaN   \n",
      "6                      NaN  ...                      NaN                 NaN   \n",
      "7                      NaN  ...                     true                Pipe   \n",
      "\n",
      "                job_name    label_col  max_dataset_size  \\\n",
      "0                    NaN          NaN               NaN   \n",
      "1                    NaN          NaN               NaN   \n",
      "2                    NaN          NaN               NaN   \n",
      "3                    NaN          NaN               NaN   \n",
      "4                    NaN          NaN               NaN   \n",
      "5                    NaN          NaN               NaN   \n",
      "6                    NaN          NaN               NaN   \n",
      "7  automl-dm-30-03-35-20  star_rating               100   \n",
      "\n",
      "   max_subsampled_dataset_size  SageMaker.ImageUri - MediaType  \\\n",
      "0                          NaN                             NaN   \n",
      "1                          NaN                             NaN   \n",
      "2                          NaN                             NaN   \n",
      "3                          NaN                             NaN   \n",
      "4                          NaN                             NaN   \n",
      "5                          NaN                             NaN   \n",
      "6                          NaN                             NaN   \n",
      "7                            5                             NaN   \n",
      "\n",
      "                          SageMaker.ImageUri - Value  ds - MediaType  \\\n",
      "0                                                NaN             NaN   \n",
      "1                                                NaN             NaN   \n",
      "2                                                NaN             NaN   \n",
      "3                                                NaN             NaN   \n",
      "4                                                NaN             NaN   \n",
      "5                                                NaN             NaN   \n",
      "6                                                NaN             NaN   \n",
      "7  120479346908.dkr.ecr.us-east-1.amazonaws.com/d...             NaN   \n",
      "\n",
      "                                          ds - Value  \n",
      "0                                                NaN  \n",
      "1                                                NaN  \n",
      "2                                                NaN  \n",
      "3                                                NaN  \n",
      "4                                                NaN  \n",
      "5                                                NaN  \n",
      "6                                                NaN  \n",
      "7  s3://sagemaker-us-east-1-857283526476/models/a...  \n",
      "\n",
      "[8 rows x 127 columns]\n"
     ]
    }
   ],
   "source": [
    "from sagemaker.analytics import ExperimentAnalytics, TrainingJobAnalytics\n",
    "\n",
    "exp = ExperimentAnalytics(\n",
    "    sagemaker_session=sess,\n",
    "    experiment_name=auto_ml_job_name + \"-aws-auto-ml-job\",\n",
    ")\n",
    "\n",
    "df = exp.dataframe()\n",
    "print(df)"
   ]
  },
  {
   "cell_type": "markdown",
   "id": "890527f0-e28c-468c-a7ea-be146ed3f9ea",
   "metadata": {},
   "source": [
    "# Explore Best Candidate"
   ]
  },
  {
   "cell_type": "code",
   "execution_count": 124,
   "id": "d43a1ba4-0728-47eb-9e4a-d2bbfc7f4164",
   "metadata": {},
   "outputs": [],
   "source": [
    "best_candidate_response = sm.describe_auto_ml_job(AutoMLJobName=auto_ml_job_name)"
   ]
  },
  {
   "cell_type": "code",
   "execution_count": 125,
   "id": "17cd3e29-bd65-4f05-9ae9-6e6b57f14c94",
   "metadata": {},
   "outputs": [
    {
     "name": "stdout",
     "output_type": "stream",
     "text": [
      "dict_keys(['AutoMLJobName', 'AutoMLJobArn', 'InputDataConfig', 'OutputDataConfig', 'RoleArn', 'AutoMLJobConfig', 'CreationTime', 'EndTime', 'LastModifiedTime', 'BestCandidate', 'AutoMLJobStatus', 'AutoMLJobSecondaryStatus', 'GenerateCandidateDefinitionsOnly', 'AutoMLJobArtifacts', 'ResolvedAttributes', 'ResponseMetadata'])\n"
     ]
    }
   ],
   "source": [
    "print(best_candidate_response.keys())"
   ]
  },
  {
   "cell_type": "code",
   "execution_count": 126,
   "id": "8524093c-66b6-4afe-9a88-80c862095618",
   "metadata": {},
   "outputs": [
    {
     "name": "stdout",
     "output_type": "stream",
     "text": [
      "[OK] BestCandidate generated.\n"
     ]
    }
   ],
   "source": [
    "while \"BestCandidate\" not in best_candidate_response:\n",
    "    best_candidate_response = sm.describe_auto_ml_job(AutoMLJobName=auto_ml_job_name)\n",
    "    print(\"[INFO] Autopilot Job is generating BestCandidate. Please wait. \")\n",
    "    print(json.dumps(best_candidate_response, indent=4, sort_keys=True, default=str))\n",
    "    sleep(10)\n",
    "\n",
    "best_candidate = best_candidate_response[\"BestCandidate\"]\n",
    "print(\"[OK] BestCandidate generated.\")"
   ]
  },
  {
   "cell_type": "code",
   "execution_count": 127,
   "id": "dca05370-3c94-4def-90ff-faada5ebb1fc",
   "metadata": {},
   "outputs": [
    {
     "name": "stdout",
     "output_type": "stream",
     "text": [
      "{\n",
      "    \"AutoMLJobArn\": \"arn:aws:sagemaker:us-east-1:857283526476:automl-job/automl-dm-30-03-35-20\",\n",
      "    \"AutoMLJobArtifacts\": {\n",
      "        \"CandidateDefinitionNotebookLocation\": \"s3://sagemaker-us-east-1-857283526476/models/autopilot/automl-dm-30-03-35-20/sagemaker-automl-candidates/automl-dm-30-03-35-20-pr-1-927b84ee7c1b45949841948ad84488aa7395/notebooks/SageMakerAutopilotCandidateDefinitionNotebook.ipynb\",\n",
      "        \"DataExplorationNotebookLocation\": \"s3://sagemaker-us-east-1-857283526476/models/autopilot/automl-dm-30-03-35-20/sagemaker-automl-candidates/automl-dm-30-03-35-20-pr-1-927b84ee7c1b45949841948ad84488aa7395/notebooks/SageMakerAutopilotDataExplorationNotebook.ipynb\"\n",
      "    },\n",
      "    \"AutoMLJobConfig\": {\n",
      "        \"CompletionCriteria\": {\n",
      "            \"MaxAutoMLJobRuntimeInSeconds\": 5400,\n",
      "            \"MaxCandidates\": 3,\n",
      "            \"MaxRuntimePerTrainingJobInSeconds\": 900\n",
      "        }\n",
      "    },\n",
      "    \"AutoMLJobName\": \"automl-dm-30-03-35-20\",\n",
      "    \"AutoMLJobSecondaryStatus\": \"Completed\",\n",
      "    \"AutoMLJobStatus\": \"Completed\",\n",
      "    \"BestCandidate\": {\n",
      "        \"CandidateName\": \"automl-dm-30-03-35-206UAvnGVe6yJ-002-c9d4bccc\",\n",
      "        \"CandidateProperties\": {\n",
      "            \"CandidateArtifactLocations\": {\n",
      "                \"Explainability\": \"s3://sagemaker-us-east-1-857283526476/models/autopilot/automl-dm-30-03-35-20/documentation/explainability/output\",\n",
      "                \"ModelInsights\": \"s3://sagemaker-us-east-1-857283526476/models/autopilot/automl-dm-30-03-35-20/documentation/model_monitor/output\"\n",
      "            },\n",
      "            \"CandidateMetrics\": [\n",
      "                {\n",
      "                    \"MetricName\": \"F1macro\",\n",
      "                    \"Set\": \"Validation\",\n",
      "                    \"StandardMetricName\": \"F1macro\",\n",
      "                    \"Value\": 0.47442999482154846\n",
      "                },\n",
      "                {\n",
      "                    \"MetricName\": \"PrecisionMacro\",\n",
      "                    \"Set\": \"Validation\",\n",
      "                    \"StandardMetricName\": \"PrecisionMacro\",\n",
      "                    \"Value\": 0.4722200036048889\n",
      "                },\n",
      "                {\n",
      "                    \"MetricName\": \"Accuracy\",\n",
      "                    \"Set\": \"Validation\",\n",
      "                    \"StandardMetricName\": \"Accuracy\",\n",
      "                    \"Value\": 0.4800800085067749\n",
      "                },\n",
      "                {\n",
      "                    \"MetricName\": \"BalancedAccuracy\",\n",
      "                    \"Set\": \"Validation\",\n",
      "                    \"StandardMetricName\": \"BalancedAccuracy\",\n",
      "                    \"Value\": 0.4800800085067749\n",
      "                },\n",
      "                {\n",
      "                    \"MetricName\": \"LogLoss\",\n",
      "                    \"Set\": \"Validation\",\n",
      "                    \"StandardMetricName\": \"LogLoss\",\n",
      "                    \"Value\": 1.2205599546432495\n",
      "                },\n",
      "                {\n",
      "                    \"MetricName\": \"RecallMacro\",\n",
      "                    \"Set\": \"Validation\",\n",
      "                    \"StandardMetricName\": \"RecallMacro\",\n",
      "                    \"Value\": 0.4800800085067749\n",
      "                }\n",
      "            ]\n",
      "        },\n",
      "        \"CandidateStatus\": \"Completed\",\n",
      "        \"CandidateSteps\": [\n",
      "            {\n",
      "                \"CandidateStepArn\": \"arn:aws:sagemaker:us-east-1:857283526476:processing-job/automl-dm-30-03-35-20-db-1-48e7c029b9654b7a86c2751744ab05e66250\",\n",
      "                \"CandidateStepName\": \"automl-dm-30-03-35-20-db-1-48e7c029b9654b7a86c2751744ab05e66250\",\n",
      "                \"CandidateStepType\": \"AWS::SageMaker::ProcessingJob\"\n",
      "            },\n",
      "            {\n",
      "                \"CandidateStepArn\": \"arn:aws:sagemaker:us-east-1:857283526476:training-job/automl-dm-30-03-35-20-dpp2-1-a02febbbfa594f91ac431e0ddec9d523d9\",\n",
      "                \"CandidateStepName\": \"automl-dm-30-03-35-20-dpp2-1-a02febbbfa594f91ac431e0ddec9d523d9\",\n",
      "                \"CandidateStepType\": \"AWS::SageMaker::TrainingJob\"\n",
      "            },\n",
      "            {\n",
      "                \"CandidateStepArn\": \"arn:aws:sagemaker:us-east-1:857283526476:transform-job/automl-dm-30-03-35-20-dpp2-rpb-1-b8add5e432b44f23a438a85a513d26\",\n",
      "                \"CandidateStepName\": \"automl-dm-30-03-35-20-dpp2-rpb-1-b8add5e432b44f23a438a85a513d26\",\n",
      "                \"CandidateStepType\": \"AWS::SageMaker::TransformJob\"\n",
      "            },\n",
      "            {\n",
      "                \"CandidateStepArn\": \"arn:aws:sagemaker:us-east-1:857283526476:training-job/automl-dm-30-03-35-206UAvnGVe6yJ-002-c9d4bccc\",\n",
      "                \"CandidateStepName\": \"automl-dm-30-03-35-206UAvnGVe6yJ-002-c9d4bccc\",\n",
      "                \"CandidateStepType\": \"AWS::SageMaker::TrainingJob\"\n",
      "            }\n",
      "        ],\n",
      "        \"CreationTime\": \"2023-03-30 03:54:42+00:00\",\n",
      "        \"EndTime\": \"2023-03-30 04:07:27+00:00\",\n",
      "        \"FinalAutoMLJobObjectiveMetric\": {\n",
      "            \"MetricName\": \"validation:accuracy\",\n",
      "            \"StandardMetricName\": \"Accuracy\",\n",
      "            \"Value\": 0.4800800085067749\n",
      "        },\n",
      "        \"InferenceContainers\": [\n",
      "            {\n",
      "                \"Environment\": {\n",
      "                    \"AUTOML_SPARSE_ENCODE_RECORDIO_PROTOBUF\": \"1\",\n",
      "                    \"AUTOML_TRANSFORM_MODE\": \"feature-transform\",\n",
      "                    \"SAGEMAKER_DEFAULT_INVOCATIONS_ACCEPT\": \"application/x-recordio-protobuf\",\n",
      "                    \"SAGEMAKER_PROGRAM\": \"sagemaker_serve\",\n",
      "                    \"SAGEMAKER_SUBMIT_DIRECTORY\": \"/opt/ml/model/code\"\n",
      "                },\n",
      "                \"Image\": \"683313688378.dkr.ecr.us-east-1.amazonaws.com/sagemaker-sklearn-automl:2.5-1-cpu-py3\",\n",
      "                \"ModelDataUrl\": \"s3://sagemaker-us-east-1-857283526476/models/autopilot/automl-dm-30-03-35-20/data-processor-models/automl-dm-30-03-35-20-dpp2-1-a02febbbfa594f91ac431e0ddec9d523d9/output/model.tar.gz\"\n",
      "            },\n",
      "            {\n",
      "                \"Environment\": {\n",
      "                    \"MAX_CONTENT_LENGTH\": \"20971520\",\n",
      "                    \"SAGEMAKER_DEFAULT_INVOCATIONS_ACCEPT\": \"text/csv\",\n",
      "                    \"SAGEMAKER_INFERENCE_OUTPUT\": \"predicted_label\",\n",
      "                    \"SAGEMAKER_INFERENCE_SUPPORTED\": \"predicted_label,probability,probabilities\"\n",
      "                },\n",
      "                \"Image\": \"683313688378.dkr.ecr.us-east-1.amazonaws.com/sagemaker-xgboost:1.3-1-cpu-py3\",\n",
      "                \"ModelDataUrl\": \"s3://sagemaker-us-east-1-857283526476/models/autopilot/automl-dm-30-03-35-20/tuning/automl-dm--dpp2-xgb/automl-dm-30-03-35-206UAvnGVe6yJ-002-c9d4bccc/output/model.tar.gz\"\n",
      "            },\n",
      "            {\n",
      "                \"Environment\": {\n",
      "                    \"AUTOML_TRANSFORM_MODE\": \"inverse-label-transform\",\n",
      "                    \"SAGEMAKER_DEFAULT_INVOCATIONS_ACCEPT\": \"text/csv\",\n",
      "                    \"SAGEMAKER_INFERENCE_INPUT\": \"predicted_label\",\n",
      "                    \"SAGEMAKER_INFERENCE_OUTPUT\": \"predicted_label\",\n",
      "                    \"SAGEMAKER_INFERENCE_SUPPORTED\": \"predicted_label,probability,labels,probabilities\",\n",
      "                    \"SAGEMAKER_PROGRAM\": \"sagemaker_serve\",\n",
      "                    \"SAGEMAKER_SUBMIT_DIRECTORY\": \"/opt/ml/model/code\"\n",
      "                },\n",
      "                \"Image\": \"683313688378.dkr.ecr.us-east-1.amazonaws.com/sagemaker-sklearn-automl:2.5-1-cpu-py3\",\n",
      "                \"ModelDataUrl\": \"s3://sagemaker-us-east-1-857283526476/models/autopilot/automl-dm-30-03-35-20/data-processor-models/automl-dm-30-03-35-20-dpp2-1-a02febbbfa594f91ac431e0ddec9d523d9/output/model.tar.gz\"\n",
      "            }\n",
      "        ],\n",
      "        \"LastModifiedTime\": \"2023-03-30 04:14:37.482000+00:00\",\n",
      "        \"ObjectiveStatus\": \"Succeeded\"\n",
      "    },\n",
      "    \"CreationTime\": \"2023-03-30 03:35:21.288000+00:00\",\n",
      "    \"EndTime\": \"2023-03-30 04:23:28.846000+00:00\",\n",
      "    \"GenerateCandidateDefinitionsOnly\": false,\n",
      "    \"InputDataConfig\": [\n",
      "        {\n",
      "            \"ChannelType\": \"training\",\n",
      "            \"ContentType\": \"text/csv;header=present\",\n",
      "            \"DataSource\": {\n",
      "                \"S3DataSource\": {\n",
      "                    \"S3DataType\": \"S3Prefix\",\n",
      "                    \"S3Uri\": \"s3://sagemaker-us-east-1-857283526476/data/amazon_reviews_us_Digital_Software_v1_00_autopilot.csv\"\n",
      "                }\n",
      "            },\n",
      "            \"TargetAttributeName\": \"star_rating\"\n",
      "        }\n",
      "    ],\n",
      "    \"LastModifiedTime\": \"2023-03-30 04:23:28.881000+00:00\",\n",
      "    \"OutputDataConfig\": {\n",
      "        \"S3OutputPath\": \"s3://sagemaker-us-east-1-857283526476/models/autopilot\"\n",
      "    },\n",
      "    \"ResolvedAttributes\": {\n",
      "        \"AutoMLJobObjective\": {\n",
      "            \"MetricName\": \"Accuracy\"\n",
      "        },\n",
      "        \"CompletionCriteria\": {\n",
      "            \"MaxAutoMLJobRuntimeInSeconds\": 5400,\n",
      "            \"MaxCandidates\": 3,\n",
      "            \"MaxRuntimePerTrainingJobInSeconds\": 900\n",
      "        },\n",
      "        \"ProblemType\": \"MulticlassClassification\"\n",
      "    },\n",
      "    \"ResponseMetadata\": {\n",
      "        \"HTTPHeaders\": {\n",
      "            \"content-length\": \"5948\",\n",
      "            \"content-type\": \"application/x-amz-json-1.1\",\n",
      "            \"date\": \"Thu, 30 Mar 2023 04:33:30 GMT\",\n",
      "            \"x-amzn-requestid\": \"f28f41f2-b4c1-4711-8887-5b17fde8827b\"\n",
      "        },\n",
      "        \"HTTPStatusCode\": 200,\n",
      "        \"RequestId\": \"f28f41f2-b4c1-4711-8887-5b17fde8827b\",\n",
      "        \"RetryAttempts\": 0\n",
      "    },\n",
      "    \"RoleArn\": \"arn:aws:iam::857283526476:role/LabRole\"\n",
      "}\n"
     ]
    }
   ],
   "source": [
    "print(json.dumps(best_candidate_response, indent=4, sort_keys=True, default=str))"
   ]
  },
  {
   "cell_type": "code",
   "execution_count": 128,
   "id": "4da77b34-c299-4a96-a19f-e4c5cf8715f0",
   "metadata": {},
   "outputs": [
    {
     "name": "stdout",
     "output_type": "stream",
     "text": [
      "dict_keys(['CandidateName', 'FinalAutoMLJobObjectiveMetric', 'ObjectiveStatus', 'CandidateSteps', 'CandidateStatus', 'InferenceContainers', 'CreationTime', 'EndTime', 'LastModifiedTime', 'CandidateProperties'])\n"
     ]
    }
   ],
   "source": [
    "print(best_candidate.keys())"
   ]
  },
  {
   "cell_type": "code",
   "execution_count": 129,
   "id": "08ad0b6a-5399-4d4e-b8d8-924d090bf65f",
   "metadata": {},
   "outputs": [
    {
     "name": "stdout",
     "output_type": "stream",
     "text": [
      "[OK] BestCandidate CandidateName generated.\n"
     ]
    }
   ],
   "source": [
    "while \"CandidateName\" not in best_candidate:\n",
    "    best_candidate_response = sm.describe_auto_ml_job(AutoMLJobName=auto_ml_job_name)\n",
    "    best_candidate = best_candidate_response[\"BestCandidate\"]\n",
    "    print(\"[INFO] Autopilot Job is generating BestCandidate CandidateName. Please wait. \")\n",
    "    print(json.dumps(best_candidate, indent=4, sort_keys=True, default=str))\n",
    "    sleep(10)\n",
    "\n",
    "print(\"[OK] BestCandidate CandidateName generated.\")"
   ]
  },
  {
   "cell_type": "code",
   "execution_count": 130,
   "id": "851d6c46-9add-4a35-b9a0-2ac57fa6e368",
   "metadata": {},
   "outputs": [
    {
     "name": "stdout",
     "output_type": "stream",
     "text": [
      "[OK] BestCandidate FinalAutoMLJobObjectiveMetric generated.\n"
     ]
    }
   ],
   "source": [
    "while \"FinalAutoMLJobObjectiveMetric\" not in best_candidate:\n",
    "    best_candidate_response = sm.describe_auto_ml_job(AutoMLJobName=auto_ml_job_name)\n",
    "    best_candidate = best_candidate_response[\"BestCandidate\"]\n",
    "    print(\"[INFO] Autopilot Job is generating BestCandidate FinalAutoMLJobObjectiveMetric. Please wait. \")\n",
    "    print(json.dumps(best_candidate, indent=4, sort_keys=True, default=str))\n",
    "    sleep(10)\n",
    "\n",
    "print(\"[OK] BestCandidate FinalAutoMLJobObjectiveMetric generated.\")"
   ]
  },
  {
   "cell_type": "code",
   "execution_count": 131,
   "id": "1139d8cc-cad7-4baf-b896-745b835adbe1",
   "metadata": {},
   "outputs": [
    {
     "name": "stdout",
     "output_type": "stream",
     "text": [
      "Candidate name: automl-dm-30-03-35-206UAvnGVe6yJ-002-c9d4bccc\n",
      "Metric name: validation:accuracy\n",
      "Metric value: 0.4800800085067749\n"
     ]
    }
   ],
   "source": [
    "best_candidate_identifier = best_candidate[\"CandidateName\"]\n",
    "print(\"Candidate name: \" + best_candidate_identifier)\n",
    "print(\"Metric name: \" + best_candidate[\"FinalAutoMLJobObjectiveMetric\"][\"MetricName\"])\n",
    "print(\"Metric value: \" + str(best_candidate[\"FinalAutoMLJobObjectiveMetric\"][\"Value\"]))"
   ]
  },
  {
   "cell_type": "code",
   "execution_count": 132,
   "id": "77a4e50d-cbb6-413c-9b42-b3d6ad692611",
   "metadata": {},
   "outputs": [
    {
     "name": "stdout",
     "output_type": "stream",
     "text": [
      "{\n",
      "    \"CandidateName\": \"automl-dm-30-03-35-206UAvnGVe6yJ-002-c9d4bccc\",\n",
      "    \"CandidateProperties\": {\n",
      "        \"CandidateArtifactLocations\": {\n",
      "            \"Explainability\": \"s3://sagemaker-us-east-1-857283526476/models/autopilot/automl-dm-30-03-35-20/documentation/explainability/output\",\n",
      "            \"ModelInsights\": \"s3://sagemaker-us-east-1-857283526476/models/autopilot/automl-dm-30-03-35-20/documentation/model_monitor/output\"\n",
      "        },\n",
      "        \"CandidateMetrics\": [\n",
      "            {\n",
      "                \"MetricName\": \"F1macro\",\n",
      "                \"Set\": \"Validation\",\n",
      "                \"StandardMetricName\": \"F1macro\",\n",
      "                \"Value\": 0.47442999482154846\n",
      "            },\n",
      "            {\n",
      "                \"MetricName\": \"PrecisionMacro\",\n",
      "                \"Set\": \"Validation\",\n",
      "                \"StandardMetricName\": \"PrecisionMacro\",\n",
      "                \"Value\": 0.4722200036048889\n",
      "            },\n",
      "            {\n",
      "                \"MetricName\": \"Accuracy\",\n",
      "                \"Set\": \"Validation\",\n",
      "                \"StandardMetricName\": \"Accuracy\",\n",
      "                \"Value\": 0.4800800085067749\n",
      "            },\n",
      "            {\n",
      "                \"MetricName\": \"BalancedAccuracy\",\n",
      "                \"Set\": \"Validation\",\n",
      "                \"StandardMetricName\": \"BalancedAccuracy\",\n",
      "                \"Value\": 0.4800800085067749\n",
      "            },\n",
      "            {\n",
      "                \"MetricName\": \"LogLoss\",\n",
      "                \"Set\": \"Validation\",\n",
      "                \"StandardMetricName\": \"LogLoss\",\n",
      "                \"Value\": 1.2205599546432495\n",
      "            },\n",
      "            {\n",
      "                \"MetricName\": \"RecallMacro\",\n",
      "                \"Set\": \"Validation\",\n",
      "                \"StandardMetricName\": \"RecallMacro\",\n",
      "                \"Value\": 0.4800800085067749\n",
      "            }\n",
      "        ]\n",
      "    },\n",
      "    \"CandidateStatus\": \"Completed\",\n",
      "    \"CandidateSteps\": [\n",
      "        {\n",
      "            \"CandidateStepArn\": \"arn:aws:sagemaker:us-east-1:857283526476:processing-job/automl-dm-30-03-35-20-db-1-48e7c029b9654b7a86c2751744ab05e66250\",\n",
      "            \"CandidateStepName\": \"automl-dm-30-03-35-20-db-1-48e7c029b9654b7a86c2751744ab05e66250\",\n",
      "            \"CandidateStepType\": \"AWS::SageMaker::ProcessingJob\"\n",
      "        },\n",
      "        {\n",
      "            \"CandidateStepArn\": \"arn:aws:sagemaker:us-east-1:857283526476:training-job/automl-dm-30-03-35-20-dpp2-1-a02febbbfa594f91ac431e0ddec9d523d9\",\n",
      "            \"CandidateStepName\": \"automl-dm-30-03-35-20-dpp2-1-a02febbbfa594f91ac431e0ddec9d523d9\",\n",
      "            \"CandidateStepType\": \"AWS::SageMaker::TrainingJob\"\n",
      "        },\n",
      "        {\n",
      "            \"CandidateStepArn\": \"arn:aws:sagemaker:us-east-1:857283526476:transform-job/automl-dm-30-03-35-20-dpp2-rpb-1-b8add5e432b44f23a438a85a513d26\",\n",
      "            \"CandidateStepName\": \"automl-dm-30-03-35-20-dpp2-rpb-1-b8add5e432b44f23a438a85a513d26\",\n",
      "            \"CandidateStepType\": \"AWS::SageMaker::TransformJob\"\n",
      "        },\n",
      "        {\n",
      "            \"CandidateStepArn\": \"arn:aws:sagemaker:us-east-1:857283526476:training-job/automl-dm-30-03-35-206UAvnGVe6yJ-002-c9d4bccc\",\n",
      "            \"CandidateStepName\": \"automl-dm-30-03-35-206UAvnGVe6yJ-002-c9d4bccc\",\n",
      "            \"CandidateStepType\": \"AWS::SageMaker::TrainingJob\"\n",
      "        }\n",
      "    ],\n",
      "    \"CreationTime\": \"2023-03-30 03:54:42+00:00\",\n",
      "    \"EndTime\": \"2023-03-30 04:07:27+00:00\",\n",
      "    \"FinalAutoMLJobObjectiveMetric\": {\n",
      "        \"MetricName\": \"validation:accuracy\",\n",
      "        \"StandardMetricName\": \"Accuracy\",\n",
      "        \"Value\": 0.4800800085067749\n",
      "    },\n",
      "    \"InferenceContainers\": [\n",
      "        {\n",
      "            \"Environment\": {\n",
      "                \"AUTOML_SPARSE_ENCODE_RECORDIO_PROTOBUF\": \"1\",\n",
      "                \"AUTOML_TRANSFORM_MODE\": \"feature-transform\",\n",
      "                \"SAGEMAKER_DEFAULT_INVOCATIONS_ACCEPT\": \"application/x-recordio-protobuf\",\n",
      "                \"SAGEMAKER_PROGRAM\": \"sagemaker_serve\",\n",
      "                \"SAGEMAKER_SUBMIT_DIRECTORY\": \"/opt/ml/model/code\"\n",
      "            },\n",
      "            \"Image\": \"683313688378.dkr.ecr.us-east-1.amazonaws.com/sagemaker-sklearn-automl:2.5-1-cpu-py3\",\n",
      "            \"ModelDataUrl\": \"s3://sagemaker-us-east-1-857283526476/models/autopilot/automl-dm-30-03-35-20/data-processor-models/automl-dm-30-03-35-20-dpp2-1-a02febbbfa594f91ac431e0ddec9d523d9/output/model.tar.gz\"\n",
      "        },\n",
      "        {\n",
      "            \"Environment\": {\n",
      "                \"MAX_CONTENT_LENGTH\": \"20971520\",\n",
      "                \"SAGEMAKER_DEFAULT_INVOCATIONS_ACCEPT\": \"text/csv\",\n",
      "                \"SAGEMAKER_INFERENCE_OUTPUT\": \"predicted_label\",\n",
      "                \"SAGEMAKER_INFERENCE_SUPPORTED\": \"predicted_label,probability,probabilities\"\n",
      "            },\n",
      "            \"Image\": \"683313688378.dkr.ecr.us-east-1.amazonaws.com/sagemaker-xgboost:1.3-1-cpu-py3\",\n",
      "            \"ModelDataUrl\": \"s3://sagemaker-us-east-1-857283526476/models/autopilot/automl-dm-30-03-35-20/tuning/automl-dm--dpp2-xgb/automl-dm-30-03-35-206UAvnGVe6yJ-002-c9d4bccc/output/model.tar.gz\"\n",
      "        },\n",
      "        {\n",
      "            \"Environment\": {\n",
      "                \"AUTOML_TRANSFORM_MODE\": \"inverse-label-transform\",\n",
      "                \"SAGEMAKER_DEFAULT_INVOCATIONS_ACCEPT\": \"text/csv\",\n",
      "                \"SAGEMAKER_INFERENCE_INPUT\": \"predicted_label\",\n",
      "                \"SAGEMAKER_INFERENCE_OUTPUT\": \"predicted_label\",\n",
      "                \"SAGEMAKER_INFERENCE_SUPPORTED\": \"predicted_label,probability,labels,probabilities\",\n",
      "                \"SAGEMAKER_PROGRAM\": \"sagemaker_serve\",\n",
      "                \"SAGEMAKER_SUBMIT_DIRECTORY\": \"/opt/ml/model/code\"\n",
      "            },\n",
      "            \"Image\": \"683313688378.dkr.ecr.us-east-1.amazonaws.com/sagemaker-sklearn-automl:2.5-1-cpu-py3\",\n",
      "            \"ModelDataUrl\": \"s3://sagemaker-us-east-1-857283526476/models/autopilot/automl-dm-30-03-35-20/data-processor-models/automl-dm-30-03-35-20-dpp2-1-a02febbbfa594f91ac431e0ddec9d523d9/output/model.tar.gz\"\n",
      "        }\n",
      "    ],\n",
      "    \"LastModifiedTime\": \"2023-03-30 04:14:37.482000+00:00\",\n",
      "    \"ObjectiveStatus\": \"Succeeded\"\n",
      "}\n"
     ]
    }
   ],
   "source": [
    "print(json.dumps(best_candidate, indent=4, sort_keys=True, default=str))"
   ]
  },
  {
   "cell_type": "markdown",
   "id": "959fe233-9f60-49a9-9d5e-05c18c976fc7",
   "metadata": {},
   "source": [
    "# Autopilot Jobs"
   ]
  },
  {
   "cell_type": "code",
   "execution_count": 133,
   "id": "ce43a3ce-a045-49ed-8b55-07a2c501f425",
   "metadata": {},
   "outputs": [
    {
     "name": "stdout",
     "output_type": "stream",
     "text": [
      "[OK] BestCandidate CandidateSteps generated.\n"
     ]
    }
   ],
   "source": [
    "while \"CandidateSteps\" not in best_candidate:\n",
    "    best_candidate_response = sm.describe_auto_ml_job(AutoMLJobName=auto_ml_job_name)\n",
    "    best_candidate = best_candidate_response[\"BestCandidate\"]\n",
    "    print(\"[INFO] Autopilot Job is generating BestCandidate CandidateSteps. Please wait. \")\n",
    "    print(json.dumps(best_candidate, indent=4, sort_keys=True, default=str))\n",
    "    sleep(10)\n",
    "\n",
    "best_candidate = best_candidate_response[\"BestCandidate\"]\n",
    "print(\"[OK] BestCandidate CandidateSteps generated.\")"
   ]
  },
  {
   "cell_type": "code",
   "execution_count": 134,
   "id": "215caa86-7a47-44fb-9d48-fd8594db1d8b",
   "metadata": {},
   "outputs": [
    {
     "name": "stdout",
     "output_type": "stream",
     "text": [
      "[OK] BestCandidate CandidateSteps CandidateStepType generated.\n"
     ]
    }
   ],
   "source": [
    "while \"CandidateStepType\" not in best_candidate[\"CandidateSteps\"][0]:\n",
    "    best_candidate_response = sm.describe_auto_ml_job(AutoMLJobName=auto_ml_job_name)\n",
    "    best_candidate = best_candidate_response[\"BestCandidate\"]\n",
    "    print(\"[INFO] Autopilot Job is generating BestCandidate CandidateSteps CandidateStepType. Please wait. \")\n",
    "    print(json.dumps(best_candidate, indent=4, sort_keys=True, default=str))\n",
    "    sleep(10)\n",
    "\n",
    "best_candidate = best_candidate_response[\"BestCandidate\"]\n",
    "print(\"[OK] BestCandidate CandidateSteps CandidateStepType generated.\")"
   ]
  },
  {
   "cell_type": "code",
   "execution_count": 135,
   "id": "acc11d8f-58aa-4845-8574-3fc705796a59",
   "metadata": {},
   "outputs": [
    {
     "name": "stdout",
     "output_type": "stream",
     "text": [
      "[OK] BestCandidate CandidateSteps CandidateStepName generated.\n"
     ]
    }
   ],
   "source": [
    "while \"CandidateStepName\" not in best_candidate[\"CandidateSteps\"][0]:\n",
    "    best_candidate_response = sm.describe_auto_ml_job(AutoMLJobName=auto_ml_job_name)\n",
    "    best_candidate = best_candidate_response[\"BestCandidate\"]\n",
    "    print(\"[INFO] Autopilot Job is generating BestCandidate CandidateSteps CandidateStepName. Please wait. \")\n",
    "    print(json.dumps(best_candidate, indent=4, sort_keys=True, default=str))\n",
    "    sleep(10)\n",
    "\n",
    "best_candidate = best_candidate_response[\"BestCandidate\"]\n",
    "print(\"[OK] BestCandidate CandidateSteps CandidateStepName generated.\")"
   ]
  },
  {
   "cell_type": "code",
   "execution_count": 136,
   "id": "3ae0bdc3-c1e2-4365-a260-36c4fd0fe066",
   "metadata": {},
   "outputs": [
    {
     "data": {
      "text/plain": [
       "{'CandidateName': 'automl-dm-30-03-35-206UAvnGVe6yJ-002-c9d4bccc',\n",
       " 'FinalAutoMLJobObjectiveMetric': {'MetricName': 'validation:accuracy',\n",
       "  'Value': 0.4800800085067749,\n",
       "  'StandardMetricName': 'Accuracy'},\n",
       " 'ObjectiveStatus': 'Succeeded',\n",
       " 'CandidateSteps': [{'CandidateStepType': 'AWS::SageMaker::ProcessingJob',\n",
       "   'CandidateStepArn': 'arn:aws:sagemaker:us-east-1:857283526476:processing-job/automl-dm-30-03-35-20-db-1-48e7c029b9654b7a86c2751744ab05e66250',\n",
       "   'CandidateStepName': 'automl-dm-30-03-35-20-db-1-48e7c029b9654b7a86c2751744ab05e66250'},\n",
       "  {'CandidateStepType': 'AWS::SageMaker::TrainingJob',\n",
       "   'CandidateStepArn': 'arn:aws:sagemaker:us-east-1:857283526476:training-job/automl-dm-30-03-35-20-dpp2-1-a02febbbfa594f91ac431e0ddec9d523d9',\n",
       "   'CandidateStepName': 'automl-dm-30-03-35-20-dpp2-1-a02febbbfa594f91ac431e0ddec9d523d9'},\n",
       "  {'CandidateStepType': 'AWS::SageMaker::TransformJob',\n",
       "   'CandidateStepArn': 'arn:aws:sagemaker:us-east-1:857283526476:transform-job/automl-dm-30-03-35-20-dpp2-rpb-1-b8add5e432b44f23a438a85a513d26',\n",
       "   'CandidateStepName': 'automl-dm-30-03-35-20-dpp2-rpb-1-b8add5e432b44f23a438a85a513d26'},\n",
       "  {'CandidateStepType': 'AWS::SageMaker::TrainingJob',\n",
       "   'CandidateStepArn': 'arn:aws:sagemaker:us-east-1:857283526476:training-job/automl-dm-30-03-35-206UAvnGVe6yJ-002-c9d4bccc',\n",
       "   'CandidateStepName': 'automl-dm-30-03-35-206UAvnGVe6yJ-002-c9d4bccc'}],\n",
       " 'CandidateStatus': 'Completed',\n",
       " 'InferenceContainers': [{'Image': '683313688378.dkr.ecr.us-east-1.amazonaws.com/sagemaker-sklearn-automl:2.5-1-cpu-py3',\n",
       "   'ModelDataUrl': 's3://sagemaker-us-east-1-857283526476/models/autopilot/automl-dm-30-03-35-20/data-processor-models/automl-dm-30-03-35-20-dpp2-1-a02febbbfa594f91ac431e0ddec9d523d9/output/model.tar.gz',\n",
       "   'Environment': {'AUTOML_SPARSE_ENCODE_RECORDIO_PROTOBUF': '1',\n",
       "    'AUTOML_TRANSFORM_MODE': 'feature-transform',\n",
       "    'SAGEMAKER_DEFAULT_INVOCATIONS_ACCEPT': 'application/x-recordio-protobuf',\n",
       "    'SAGEMAKER_PROGRAM': 'sagemaker_serve',\n",
       "    'SAGEMAKER_SUBMIT_DIRECTORY': '/opt/ml/model/code'}},\n",
       "  {'Image': '683313688378.dkr.ecr.us-east-1.amazonaws.com/sagemaker-xgboost:1.3-1-cpu-py3',\n",
       "   'ModelDataUrl': 's3://sagemaker-us-east-1-857283526476/models/autopilot/automl-dm-30-03-35-20/tuning/automl-dm--dpp2-xgb/automl-dm-30-03-35-206UAvnGVe6yJ-002-c9d4bccc/output/model.tar.gz',\n",
       "   'Environment': {'MAX_CONTENT_LENGTH': '20971520',\n",
       "    'SAGEMAKER_DEFAULT_INVOCATIONS_ACCEPT': 'text/csv',\n",
       "    'SAGEMAKER_INFERENCE_OUTPUT': 'predicted_label',\n",
       "    'SAGEMAKER_INFERENCE_SUPPORTED': 'predicted_label,probability,probabilities'}},\n",
       "  {'Image': '683313688378.dkr.ecr.us-east-1.amazonaws.com/sagemaker-sklearn-automl:2.5-1-cpu-py3',\n",
       "   'ModelDataUrl': 's3://sagemaker-us-east-1-857283526476/models/autopilot/automl-dm-30-03-35-20/data-processor-models/automl-dm-30-03-35-20-dpp2-1-a02febbbfa594f91ac431e0ddec9d523d9/output/model.tar.gz',\n",
       "   'Environment': {'AUTOML_TRANSFORM_MODE': 'inverse-label-transform',\n",
       "    'SAGEMAKER_DEFAULT_INVOCATIONS_ACCEPT': 'text/csv',\n",
       "    'SAGEMAKER_INFERENCE_INPUT': 'predicted_label',\n",
       "    'SAGEMAKER_INFERENCE_OUTPUT': 'predicted_label',\n",
       "    'SAGEMAKER_INFERENCE_SUPPORTED': 'predicted_label,probability,labels,probabilities',\n",
       "    'SAGEMAKER_PROGRAM': 'sagemaker_serve',\n",
       "    'SAGEMAKER_SUBMIT_DIRECTORY': '/opt/ml/model/code'}}],\n",
       " 'CreationTime': datetime.datetime(2023, 3, 30, 3, 54, 42, tzinfo=tzlocal()),\n",
       " 'EndTime': datetime.datetime(2023, 3, 30, 4, 7, 27, tzinfo=tzlocal()),\n",
       " 'LastModifiedTime': datetime.datetime(2023, 3, 30, 4, 14, 37, 482000, tzinfo=tzlocal()),\n",
       " 'CandidateProperties': {'CandidateArtifactLocations': {'Explainability': 's3://sagemaker-us-east-1-857283526476/models/autopilot/automl-dm-30-03-35-20/documentation/explainability/output',\n",
       "   'ModelInsights': 's3://sagemaker-us-east-1-857283526476/models/autopilot/automl-dm-30-03-35-20/documentation/model_monitor/output'},\n",
       "  'CandidateMetrics': [{'MetricName': 'F1macro',\n",
       "    'Value': 0.47442999482154846,\n",
       "    'Set': 'Validation',\n",
       "    'StandardMetricName': 'F1macro'},\n",
       "   {'MetricName': 'PrecisionMacro',\n",
       "    'Value': 0.4722200036048889,\n",
       "    'Set': 'Validation',\n",
       "    'StandardMetricName': 'PrecisionMacro'},\n",
       "   {'MetricName': 'Accuracy',\n",
       "    'Value': 0.4800800085067749,\n",
       "    'Set': 'Validation',\n",
       "    'StandardMetricName': 'Accuracy'},\n",
       "   {'MetricName': 'BalancedAccuracy',\n",
       "    'Value': 0.4800800085067749,\n",
       "    'Set': 'Validation',\n",
       "    'StandardMetricName': 'BalancedAccuracy'},\n",
       "   {'MetricName': 'LogLoss',\n",
       "    'Value': 1.2205599546432495,\n",
       "    'Set': 'Validation',\n",
       "    'StandardMetricName': 'LogLoss'},\n",
       "   {'MetricName': 'RecallMacro',\n",
       "    'Value': 0.4800800085067749,\n",
       "    'Set': 'Validation',\n",
       "    'StandardMetricName': 'RecallMacro'}]}}"
      ]
     },
     "execution_count": 136,
     "metadata": {},
     "output_type": "execute_result"
    }
   ],
   "source": [
    "best_candidate"
   ]
  },
  {
   "cell_type": "code",
   "execution_count": 137,
   "id": "c90ead13-7f65-46bb-a7ad-e8d7238f20cd",
   "metadata": {},
   "outputs": [
    {
     "name": "stdout",
     "output_type": "stream",
     "text": [
      "Candidate Step Type: AWS::SageMaker::ProcessingJob\n",
      "Candidate Step Name: automl-dm-30-03-35-20-db-1-48e7c029b9654b7a86c2751744ab05e66250\n",
      "Candidate Step Type: AWS::SageMaker::TrainingJob\n",
      "Candidate Step Name: automl-dm-30-03-35-20-dpp2-1-a02febbbfa594f91ac431e0ddec9d523d9\n",
      "Candidate Step Type: AWS::SageMaker::TransformJob\n",
      "Candidate Step Name: automl-dm-30-03-35-20-dpp2-rpb-1-b8add5e432b44f23a438a85a513d26\n",
      "Candidate Step Type: AWS::SageMaker::TrainingJob\n",
      "Candidate Step Name: automl-dm-30-03-35-206UAvnGVe6yJ-002-c9d4bccc\n"
     ]
    }
   ],
   "source": [
    "steps = []\n",
    "for step in best_candidate[\"CandidateSteps\"]:\n",
    "    print(\"Candidate Step Type: {}\".format(step[\"CandidateStepType\"]))\n",
    "    print(\"Candidate Step Name: {}\".format(step[\"CandidateStepName\"]))\n",
    "    steps.append(step[\"CandidateStepName\"])"
   ]
  },
  {
   "cell_type": "code",
   "execution_count": 138,
   "id": "45d44b58-38b5-48fc-b68e-4d9c05e51f4a",
   "metadata": {},
   "outputs": [
    {
     "data": {
      "text/html": [
       "<b>Review Best Candidate <a target=\"blank\" href=\"https://console.aws.amazon.com/sagemaker/home?region=us-east-1#/processing-jobs/automl-dm-30-03-35-20-db-1-48e7c029b9654b7a86c2751744ab05e66250\">Processing Job</a></b>"
      ],
      "text/plain": [
       "<IPython.core.display.HTML object>"
      ]
     },
     "metadata": {},
     "output_type": "display_data"
    }
   ],
   "source": [
    "from IPython.core.display import display, HTML\n",
    "\n",
    "display(\n",
    "    HTML(\n",
    "        '<b>Review Best Candidate <a target=\"blank\" href=\"https://console.aws.amazon.com/sagemaker/home?region={}#/processing-jobs/{}\">Processing Job</a></b>'.format(\n",
    "            region, steps[0]\n",
    "        )\n",
    "    )\n",
    ")"
   ]
  },
  {
   "cell_type": "code",
   "execution_count": 139,
   "id": "4b74b23e-d73c-489e-ae8e-f8718ba13e51",
   "metadata": {},
   "outputs": [
    {
     "data": {
      "text/html": [
       "<b>Review Best Candidate <a target=\"blank\" href=\"https://console.aws.amazon.com/sagemaker/home?region=us-east-1#/jobs/automl-dm-30-03-35-20-dpp2-1-a02febbbfa594f91ac431e0ddec9d523d9\">Training Job</a></b>"
      ],
      "text/plain": [
       "<IPython.core.display.HTML object>"
      ]
     },
     "metadata": {},
     "output_type": "display_data"
    }
   ],
   "source": [
    "from IPython.core.display import display, HTML\n",
    "\n",
    "display(\n",
    "    HTML(\n",
    "        '<b>Review Best Candidate <a target=\"blank\" href=\"https://console.aws.amazon.com/sagemaker/home?region={}#/jobs/{}\">Training Job</a></b>'.format(\n",
    "            region, steps[1]\n",
    "        )\n",
    "    )\n",
    ")"
   ]
  },
  {
   "cell_type": "code",
   "execution_count": 140,
   "id": "53b122bd-76bb-402f-8201-8b074f669236",
   "metadata": {},
   "outputs": [
    {
     "data": {
      "text/html": [
       "<b>Review Best Candidate <a target=\"blank\" href=\"https://console.aws.amazon.com/sagemaker/home?region=us-east-1#/transform-jobs/automl-dm-30-03-35-20-dpp2-rpb-1-b8add5e432b44f23a438a85a513d26\">Transform Job</a></b>"
      ],
      "text/plain": [
       "<IPython.core.display.HTML object>"
      ]
     },
     "metadata": {},
     "output_type": "display_data"
    }
   ],
   "source": [
    "from IPython.core.display import display, HTML\n",
    "\n",
    "display(\n",
    "    HTML(\n",
    "        '<b>Review Best Candidate <a target=\"blank\" href=\"https://console.aws.amazon.com/sagemaker/home?region={}#/transform-jobs/{}\">Transform Job</a></b>'.format(\n",
    "            region, steps[2]\n",
    "        )\n",
    "    )\n",
    ")"
   ]
  },
  {
   "cell_type": "code",
   "execution_count": 141,
   "id": "1e5a7248-2636-492f-a7d6-f4649ef0bd5c",
   "metadata": {},
   "outputs": [
    {
     "data": {
      "text/html": [
       "<b>Review Best Candidate <a target=\"blank\" href=\"https://console.aws.amazon.com/sagemaker/home?region=us-east-1#/jobs/automl-dm-30-03-35-206UAvnGVe6yJ-002-c9d4bccc\">Training Job (Tuning)</a></b>"
      ],
      "text/plain": [
       "<IPython.core.display.HTML object>"
      ]
     },
     "metadata": {},
     "output_type": "display_data"
    }
   ],
   "source": [
    "from IPython.core.display import display, HTML\n",
    "\n",
    "display(\n",
    "    HTML(\n",
    "        '<b>Review Best Candidate <a target=\"blank\" href=\"https://console.aws.amazon.com/sagemaker/home?region={}#/jobs/{}\">Training Job (Tuning)</a></b>'.format(\n",
    "            region, steps[3]\n",
    "        )\n",
    "    )\n",
    ")"
   ]
  },
  {
   "cell_type": "code",
   "execution_count": 142,
   "id": "c5c14133-d31b-4a0e-967b-120a951e7a98",
   "metadata": {},
   "outputs": [
    {
     "data": {
      "text/html": [
       "<b>Review All <a target=\"blank\" href=\"https://console.aws.amazon.com/sagemaker/home?region=us-east-1#/processing-jobs/\">Processing Jobs</a></b>"
      ],
      "text/plain": [
       "<IPython.core.display.HTML object>"
      ]
     },
     "metadata": {},
     "output_type": "display_data"
    }
   ],
   "source": [
    "from IPython.core.display import display, HTML\n",
    "\n",
    "display(\n",
    "    HTML(\n",
    "        '<b>Review All <a target=\"blank\" href=\"https://console.aws.amazon.com/sagemaker/home?region={}#/processing-jobs/\">Processing Jobs</a></b>'.format(\n",
    "            region\n",
    "        )\n",
    "    )\n",
    ")"
   ]
  },
  {
   "cell_type": "markdown",
   "id": "38430c14-455e-4d9e-a8d8-c0775e36f401",
   "metadata": {},
   "source": [
    "# See Containers and Models Within Inference Pipeline"
   ]
  },
  {
   "cell_type": "code",
   "execution_count": 143,
   "id": "5c26b815-f0af-4b06-a1c7-b95833b4787c",
   "metadata": {},
   "outputs": [
    {
     "name": "stdout",
     "output_type": "stream",
     "text": [
      "[OK] BestCandidate InferenceContainers generated.\n"
     ]
    }
   ],
   "source": [
    "while \"InferenceContainers\" not in best_candidate:\n",
    "    best_candidate_response = sm.describe_auto_ml_job(AutoMLJobName=auto_ml_job_name)\n",
    "    best_candidate = best_candidate_response[\"BestCandidate\"]\n",
    "    print(\"[INFO] Autopilot Job is generating BestCandidate InferenceContainers. Please wait. \")\n",
    "    print(json.dumps(best_candidate, indent=4, sort_keys=True, default=str))\n",
    "    sleep(10)\n",
    "\n",
    "print(\"[OK] BestCandidate InferenceContainers generated.\")"
   ]
  },
  {
   "cell_type": "code",
   "execution_count": 144,
   "id": "c94ba9c8-07f8-4df7-a0b5-fe701e3919b7",
   "metadata": {},
   "outputs": [],
   "source": [
    "best_candidate_containers = best_candidate[\"InferenceContainers\"]"
   ]
  },
  {
   "cell_type": "code",
   "execution_count": 145,
   "id": "f1c9af4d-8146-44b8-a5c4-1aecb823e283",
   "metadata": {},
   "outputs": [
    {
     "name": "stdout",
     "output_type": "stream",
     "text": [
      "683313688378.dkr.ecr.us-east-1.amazonaws.com/sagemaker-sklearn-automl:2.5-1-cpu-py3\n",
      "s3://sagemaker-us-east-1-857283526476/models/autopilot/automl-dm-30-03-35-20/data-processor-models/automl-dm-30-03-35-20-dpp2-1-a02febbbfa594f91ac431e0ddec9d523d9/output/model.tar.gz\n",
      "======================\n",
      "683313688378.dkr.ecr.us-east-1.amazonaws.com/sagemaker-xgboost:1.3-1-cpu-py3\n",
      "s3://sagemaker-us-east-1-857283526476/models/autopilot/automl-dm-30-03-35-20/tuning/automl-dm--dpp2-xgb/automl-dm-30-03-35-206UAvnGVe6yJ-002-c9d4bccc/output/model.tar.gz\n",
      "======================\n",
      "683313688378.dkr.ecr.us-east-1.amazonaws.com/sagemaker-sklearn-automl:2.5-1-cpu-py3\n",
      "s3://sagemaker-us-east-1-857283526476/models/autopilot/automl-dm-30-03-35-20/data-processor-models/automl-dm-30-03-35-20-dpp2-1-a02febbbfa594f91ac431e0ddec9d523d9/output/model.tar.gz\n",
      "======================\n"
     ]
    }
   ],
   "source": [
    "for container in best_candidate_containers:\n",
    "    print(container[\"Image\"])\n",
    "    print(container[\"ModelDataUrl\"])\n",
    "    print(\"======================\")"
   ]
  },
  {
   "cell_type": "markdown",
   "id": "89cfc7ae-274e-4d8c-8300-c87e0a2bb9e7",
   "metadata": {},
   "source": [
    "# Update Containers To Show Predicted Label and Confidence Score"
   ]
  },
  {
   "cell_type": "code",
   "execution_count": 146,
   "id": "90f88770-32db-46fe-9614-2b297226586f",
   "metadata": {},
   "outputs": [
    {
     "name": "stdout",
     "output_type": "stream",
     "text": [
      "{'AUTOML_SPARSE_ENCODE_RECORDIO_PROTOBUF': '1', 'AUTOML_TRANSFORM_MODE': 'feature-transform', 'SAGEMAKER_DEFAULT_INVOCATIONS_ACCEPT': 'application/x-recordio-protobuf', 'SAGEMAKER_PROGRAM': 'sagemaker_serve', 'SAGEMAKER_SUBMIT_DIRECTORY': '/opt/ml/model/code'}\n",
      "======================\n",
      "{'MAX_CONTENT_LENGTH': '20971520', 'SAGEMAKER_DEFAULT_INVOCATIONS_ACCEPT': 'text/csv', 'SAGEMAKER_INFERENCE_OUTPUT': 'predicted_label', 'SAGEMAKER_INFERENCE_SUPPORTED': 'predicted_label,probability,probabilities'}\n",
      "======================\n",
      "{'AUTOML_TRANSFORM_MODE': 'inverse-label-transform', 'SAGEMAKER_DEFAULT_INVOCATIONS_ACCEPT': 'text/csv', 'SAGEMAKER_INFERENCE_INPUT': 'predicted_label', 'SAGEMAKER_INFERENCE_OUTPUT': 'predicted_label', 'SAGEMAKER_INFERENCE_SUPPORTED': 'predicted_label,probability,labels,probabilities', 'SAGEMAKER_PROGRAM': 'sagemaker_serve', 'SAGEMAKER_SUBMIT_DIRECTORY': '/opt/ml/model/code'}\n",
      "======================\n"
     ]
    }
   ],
   "source": [
    "for container in best_candidate_containers:\n",
    "    print(container[\"Environment\"])\n",
    "    print(\"======================\")"
   ]
  },
  {
   "cell_type": "code",
   "execution_count": 147,
   "id": "7fa97f3e-f346-4853-8414-ca971d8e4f49",
   "metadata": {},
   "outputs": [],
   "source": [
    "best_candidate_containers[1][\"Environment\"].update({\"SAGEMAKER_INFERENCE_OUTPUT\": \"predicted_label, probability\"})\n",
    "best_candidate_containers[2][\"Environment\"].update({\"SAGEMAKER_INFERENCE_INPUT\": \"predicted_label, probability\"})\n",
    "best_candidate_containers[2][\"Environment\"].update({\"SAGEMAKER_INFERENCE_OUTPUT\": \"predicted_label, probability\"})"
   ]
  },
  {
   "cell_type": "code",
   "execution_count": 148,
   "id": "17547748-1de9-45c6-b6ef-fb4abb1781c1",
   "metadata": {},
   "outputs": [
    {
     "name": "stdout",
     "output_type": "stream",
     "text": [
      "{'AUTOML_SPARSE_ENCODE_RECORDIO_PROTOBUF': '1', 'AUTOML_TRANSFORM_MODE': 'feature-transform', 'SAGEMAKER_DEFAULT_INVOCATIONS_ACCEPT': 'application/x-recordio-protobuf', 'SAGEMAKER_PROGRAM': 'sagemaker_serve', 'SAGEMAKER_SUBMIT_DIRECTORY': '/opt/ml/model/code'}\n",
      "======================\n",
      "{'MAX_CONTENT_LENGTH': '20971520', 'SAGEMAKER_DEFAULT_INVOCATIONS_ACCEPT': 'text/csv', 'SAGEMAKER_INFERENCE_OUTPUT': 'predicted_label, probability', 'SAGEMAKER_INFERENCE_SUPPORTED': 'predicted_label,probability,probabilities'}\n",
      "======================\n",
      "{'AUTOML_TRANSFORM_MODE': 'inverse-label-transform', 'SAGEMAKER_DEFAULT_INVOCATIONS_ACCEPT': 'text/csv', 'SAGEMAKER_INFERENCE_INPUT': 'predicted_label, probability', 'SAGEMAKER_INFERENCE_OUTPUT': 'predicted_label, probability', 'SAGEMAKER_INFERENCE_SUPPORTED': 'predicted_label,probability,labels,probabilities', 'SAGEMAKER_PROGRAM': 'sagemaker_serve', 'SAGEMAKER_SUBMIT_DIRECTORY': '/opt/ml/model/code'}\n",
      "======================\n"
     ]
    }
   ],
   "source": [
    "for container in best_candidate_containers:\n",
    "    print(container[\"Environment\"])\n",
    "    print(\"======================\")"
   ]
  },
  {
   "cell_type": "code",
   "execution_count": 149,
   "id": "333bc242-b7a7-4ccd-8a8b-6d6c900f6739",
   "metadata": {
    "tags": []
   },
   "outputs": [
    {
     "name": "stdout",
     "output_type": "stream",
     "text": [
      "[{'Image': '683313688378.dkr.ecr.us-east-1.amazonaws.com/sagemaker-sklearn-automl:2.5-1-cpu-py3', 'ModelDataUrl': 's3://sagemaker-us-east-1-857283526476/models/autopilot/automl-dm-30-03-35-20/data-processor-models/automl-dm-30-03-35-20-dpp2-1-a02febbbfa594f91ac431e0ddec9d523d9/output/model.tar.gz', 'Environment': {'AUTOML_SPARSE_ENCODE_RECORDIO_PROTOBUF': '1', 'AUTOML_TRANSFORM_MODE': 'feature-transform', 'SAGEMAKER_DEFAULT_INVOCATIONS_ACCEPT': 'application/x-recordio-protobuf', 'SAGEMAKER_PROGRAM': 'sagemaker_serve', 'SAGEMAKER_SUBMIT_DIRECTORY': '/opt/ml/model/code'}}, {'Image': '683313688378.dkr.ecr.us-east-1.amazonaws.com/sagemaker-xgboost:1.3-1-cpu-py3', 'ModelDataUrl': 's3://sagemaker-us-east-1-857283526476/models/autopilot/automl-dm-30-03-35-20/tuning/automl-dm--dpp2-xgb/automl-dm-30-03-35-206UAvnGVe6yJ-002-c9d4bccc/output/model.tar.gz', 'Environment': {'MAX_CONTENT_LENGTH': '20971520', 'SAGEMAKER_DEFAULT_INVOCATIONS_ACCEPT': 'text/csv', 'SAGEMAKER_INFERENCE_OUTPUT': 'predicted_label, probability', 'SAGEMAKER_INFERENCE_SUPPORTED': 'predicted_label,probability,probabilities'}}, {'Image': '683313688378.dkr.ecr.us-east-1.amazonaws.com/sagemaker-sklearn-automl:2.5-1-cpu-py3', 'ModelDataUrl': 's3://sagemaker-us-east-1-857283526476/models/autopilot/automl-dm-30-03-35-20/data-processor-models/automl-dm-30-03-35-20-dpp2-1-a02febbbfa594f91ac431e0ddec9d523d9/output/model.tar.gz', 'Environment': {'AUTOML_TRANSFORM_MODE': 'inverse-label-transform', 'SAGEMAKER_DEFAULT_INVOCATIONS_ACCEPT': 'text/csv', 'SAGEMAKER_INFERENCE_INPUT': 'predicted_label, probability', 'SAGEMAKER_INFERENCE_OUTPUT': 'predicted_label, probability', 'SAGEMAKER_INFERENCE_SUPPORTED': 'predicted_label,probability,labels,probabilities', 'SAGEMAKER_PROGRAM': 'sagemaker_serve', 'SAGEMAKER_SUBMIT_DIRECTORY': '/opt/ml/model/code'}}]\n"
     ]
    }
   ],
   "source": [
    "print(best_candidate[\"InferenceContainers\"])"
   ]
  },
  {
   "cell_type": "markdown",
   "id": "6adb46ba-f855-464f-b7f4-9ff49a43a672",
   "metadata": {},
   "source": [
    "# Deploy the Model as a REST Endpoint\n",
    "Batch transformations are also supported, but for now, we will use a REST Endpoint."
   ]
  },
  {
   "cell_type": "code",
   "execution_count": 150,
   "id": "a2a3ae15-0c3a-459b-a9eb-6b24ce81e22e",
   "metadata": {},
   "outputs": [
    {
     "name": "stdout",
     "output_type": "stream",
     "text": [
      "no stored variable or alias autopilot_model_wf\n"
     ]
    }
   ],
   "source": [
    "%store -r autopilot_model_wf"
   ]
  },
  {
   "cell_type": "code",
   "execution_count": 151,
   "id": "39ced2aa-b1bd-4068-8d32-9789ce25fb4b",
   "metadata": {},
   "outputs": [
    {
     "name": "stdout",
     "output_type": "stream",
     "text": [
      "[OK] Created Autopilot Model Name: automl-dm-model-30-04-47-47\n"
     ]
    }
   ],
   "source": [
    "try:\n",
    "    autopilot_model_wf\n",
    "except NameError:\n",
    "    timestamp_suffix = strftime(\"%d-%H-%M-%S\", gmtime())\n",
    "    autopilot_model_wf = \"automl-dm-model-\" + timestamp_suffix\n",
    "    print(\"[OK] Created Autopilot Model Name: \" + autopilot_model_wf)"
   ]
  },
  {
   "cell_type": "code",
   "execution_count": 152,
   "id": "e36cc67a-8322-4cfa-bd27-bd7e5758ef0a",
   "metadata": {},
   "outputs": [
    {
     "name": "stdout",
     "output_type": "stream",
     "text": [
      "Stored 'autopilot_model_wf' (str)\n"
     ]
    }
   ],
   "source": [
    "%store autopilot_model_wf"
   ]
  },
  {
   "cell_type": "code",
   "execution_count": 153,
   "id": "3c8cdc2e-c52a-4bfe-a663-c537c2f37103",
   "metadata": {},
   "outputs": [
    {
     "name": "stdout",
     "output_type": "stream",
     "text": [
      "no stored variable or alias autopilot_model_arn_wf\n"
     ]
    }
   ],
   "source": [
    "%store -r autopilot_model_arn_wf"
   ]
  },
  {
   "cell_type": "code",
   "execution_count": 154,
   "id": "587e0b4c-6c80-4d6d-aacc-61f1f34f7841",
   "metadata": {},
   "outputs": [
    {
     "name": "stdout",
     "output_type": "stream",
     "text": [
      "[OK] Created Autopilot Model: arn:aws:sagemaker:us-east-1:857283526476:model/automl-dm-model-30-04-47-47\n"
     ]
    }
   ],
   "source": [
    "try:\n",
    "    autopilot_model_arn_wf\n",
    "except NameError:\n",
    "    create_model_response = sm.create_model(\n",
    "        Containers=best_candidate[\"InferenceContainers\"], ModelName=autopilot_model_wf, ExecutionRoleArn=role\n",
    "    )\n",
    "    autopilot_model_arn_wf = create_model_response[\"ModelArn\"]\n",
    "    print(\"[OK] Created Autopilot Model: {}\".format(autopilot_model_arn_wf))"
   ]
  },
  {
   "cell_type": "code",
   "execution_count": 155,
   "id": "33ed8103-debe-44d5-a163-0ed32ba5c282",
   "metadata": {},
   "outputs": [
    {
     "name": "stdout",
     "output_type": "stream",
     "text": [
      "Stored 'autopilot_model_arn_wf' (str)\n"
     ]
    }
   ],
   "source": [
    "%store autopilot_model_arn_wf"
   ]
  },
  {
   "cell_type": "markdown",
   "id": "cb67da16-1e90-4d32-acd6-2addccd9947b",
   "metadata": {},
   "source": [
    "# Define EndpointConfig Name"
   ]
  },
  {
   "cell_type": "code",
   "execution_count": 156,
   "id": "0d98e680-b0d1-40d6-aa09-91d0a81c2cff",
   "metadata": {},
   "outputs": [
    {
     "name": "stdout",
     "output_type": "stream",
     "text": [
      "automl-dm-epc-30-04-47-49\n"
     ]
    }
   ],
   "source": [
    "timestamp_suffix = strftime(\"%d-%H-%M-%S\", gmtime())\n",
    "epc_name = \"automl-dm-epc-\" + timestamp_suffix\n",
    "\n",
    "print(epc_name)"
   ]
  },
  {
   "cell_type": "markdown",
   "id": "f455c892-c28c-47b5-9bb2-49b012d7ed3d",
   "metadata": {},
   "source": [
    "# Define REST Endpoint Name for Autopilot Model"
   ]
  },
  {
   "cell_type": "code",
   "execution_count": 157,
   "id": "51793468-3dc3-4950-9fc2-145fac873c73",
   "metadata": {},
   "outputs": [
    {
     "name": "stdout",
     "output_type": "stream",
     "text": [
      "no stored variable or alias autopilot_endpoint_wf\n"
     ]
    }
   ],
   "source": [
    "%store -r autopilot_endpoint_wf"
   ]
  },
  {
   "cell_type": "code",
   "execution_count": 161,
   "id": "2b96dcb0-ee5d-4234-9935-3676e689617a",
   "metadata": {},
   "outputs": [],
   "source": [
    "timestamp_suffix = strftime(\"%d-%H-%M-%S\", gmtime())\n",
    "\n",
    "try:\n",
    "    autopilot_endpoint_wf\n",
    "except NameError:\n",
    "    autopilot_endpoint_wf = \"automl-dm-ep-\" + timestamp_suffix\n",
    "    print(\"[OK] Created Autopilot Endpoint Name {}: \".format(autopilot_endpoint_wf))"
   ]
  },
  {
   "cell_type": "code",
   "execution_count": 162,
   "id": "4dfdf5c9-0a3f-4154-b7aa-fd873409e60f",
   "metadata": {
    "tags": []
   },
   "outputs": [
    {
     "name": "stdout",
     "output_type": "stream",
     "text": [
      "[OK] Created Endpoint Variant Name automl-dm-variant-30-04-48-18: \n"
     ]
    }
   ],
   "source": [
    "variant_name = \"automl-dm-variant-\" + timestamp_suffix\n",
    "print(\"[OK] Created Endpoint Variant Name {}: \".format(variant_name))"
   ]
  },
  {
   "cell_type": "code",
   "execution_count": 163,
   "id": "6ed898cd-1d46-4faa-8b1d-0b7c4ecd649f",
   "metadata": {},
   "outputs": [
    {
     "name": "stdout",
     "output_type": "stream",
     "text": [
      "Stored 'autopilot_endpoint_wf' (str)\n"
     ]
    }
   ],
   "source": [
    "%store autopilot_endpoint_wf"
   ]
  },
  {
   "cell_type": "code",
   "execution_count": 164,
   "id": "dbfa5e6c-7b1e-4af5-af95-24bf13000942",
   "metadata": {},
   "outputs": [],
   "source": [
    "ep_config = sm.create_endpoint_config(\n",
    "    EndpointConfigName=epc_name,\n",
    "    ProductionVariants=[\n",
    "        {\n",
    "            \"InstanceType\": \"ml.m5.large\",\n",
    "            \"InitialInstanceCount\": 1,\n",
    "            \"ModelName\": autopilot_model_wf,\n",
    "            \"VariantName\": variant_name,\n",
    "        }\n",
    "    ],\n",
    ")"
   ]
  },
  {
   "cell_type": "code",
   "execution_count": 165,
   "id": "80773066-9b0b-4166-8778-3f46beeca9ed",
   "metadata": {},
   "outputs": [
    {
     "name": "stdout",
     "output_type": "stream",
     "text": [
      "no stored variable or alias autopilot_endpoint_arn\n"
     ]
    }
   ],
   "source": [
    "%store -r autopilot_endpoint_arn"
   ]
  },
  {
   "cell_type": "code",
   "execution_count": 167,
   "id": "78c13e0d-673d-4687-9676-c99b2aaba8dc",
   "metadata": {},
   "outputs": [
    {
     "name": "stdout",
     "output_type": "stream",
     "text": [
      "arn:aws:sagemaker:us-east-1:857283526476:endpoint/automl-dm-ep-30-04-47-49\n"
     ]
    }
   ],
   "source": [
    "try:\n",
    "    autopilot_endpoint_arn\n",
    "except NameError:\n",
    "    create_endpoint_response = sm.create_endpoint(EndpointName=autopilot_endpoint_wf, EndpointConfigName=epc_name)\n",
    "    autopilot_endpoint_arn = create_endpoint_response[\"EndpointArn\"]\n",
    "    print(autopilot_endpoint_arn)"
   ]
  },
  {
   "cell_type": "code",
   "execution_count": 168,
   "id": "2f9f5246-4924-48df-8670-4ac062dc79d7",
   "metadata": {},
   "outputs": [
    {
     "name": "stdout",
     "output_type": "stream",
     "text": [
      "Stored 'autopilot_endpoint_arn' (str)\n"
     ]
    }
   ],
   "source": [
    "%store autopilot_endpoint_arn"
   ]
  },
  {
   "cell_type": "code",
   "execution_count": 170,
   "id": "478644e5-8789-4fba-808c-6ec94fa80608",
   "metadata": {},
   "outputs": [
    {
     "data": {
      "text/html": [
       "<b>Review <a target=\"blank\" href=\"https://console.aws.amazon.com/sagemaker/home?region=us-east-1#/endpoints/automl-dm-ep-30-04-47-49\">SageMaker REST Endpoint</a></b>"
      ],
      "text/plain": [
       "<IPython.core.display.HTML object>"
      ]
     },
     "metadata": {},
     "output_type": "display_data"
    }
   ],
   "source": [
    "from IPython.core.display import display, HTML\n",
    "\n",
    "display(\n",
    "    HTML(\n",
    "        '<b>Review <a target=\"blank\" href=\"https://console.aws.amazon.com/sagemaker/home?region={}#/endpoints/{}\">SageMaker REST Endpoint</a></b>'.format(\n",
    "            region, autopilot_endpoint_wf\n",
    "        )\n",
    "    )\n",
    ")"
   ]
  },
  {
   "cell_type": "markdown",
   "id": "6f41c282-db3a-41ea-88fc-ab6a416a017d",
   "metadata": {},
   "source": [
    "# Store Variables"
   ]
  },
  {
   "cell_type": "code",
   "execution_count": 171,
   "id": "2c33ecf5-467f-4cd6-9366-42bf021052be",
   "metadata": {},
   "outputs": [
    {
     "name": "stdout",
     "output_type": "stream",
     "text": [
      "Stored variables and their in-db values:\n",
      "auto_ml_job_name                                      -> 'automl-dm-30-03-35-20'\n",
      "autopilot_endpoint_arn                                -> 'arn:aws:sagemaker:us-east-1:857283526476:endpoint\n",
      "autopilot_endpoint_wf                                 -> 'automl-dm-ep-30-04-47-49'\n",
      "autopilot_model_arn_wf                                -> 'arn:aws:sagemaker:us-east-1:857283526476:model/au\n",
      "autopilot_model_wf                                    -> 'automl-dm-model-30-04-47-47'\n",
      "autopilot_train_s3_uri                                -> 's3://sagemaker-us-east-1-857283526476/data/amazon\n",
      "autopilot_train_s3_wf                                 -> 's3://sagemaker-us-east-1-857283526476/data/wildfi\n",
      "balanced_bias_data_jsonlines_s3_uri                   -> 's3://sagemaker-us-east-1-857283526476/bias-detect\n",
      "balanced_bias_data_s3_uri                             -> 's3://sagemaker-us-east-1-857283526476/bias-detect\n",
      "bias_data_s3_uri                                      -> 's3://sagemaker-us-east-1-857283526476/bias-detect\n",
      "ingest_create_athena_db_passed                        -> True\n",
      "ingest_create_athena_table_parquet_passed             -> True\n",
      "ingest_create_athena_table_passed                     -> True\n",
      "ingest_create_athena_table_tsv_passed                 -> True\n",
      "s3_private_path                                       -> 's3://sagemaker-us-east-1-857283526476/widfire-ris\n",
      "s3_private_path_tsv                                   -> 's3://sagemaker-us-east-1-857283526476/amazon-revi\n",
      "s3_public_path                                        -> 's3://wildfire-risk/'\n",
      "s3_public_path_tsv                                    -> 's3://amazon-reviews-pds/tsv'\n",
      "setup_dependencies_passed                             -> True\n",
      "setup_iam_roles_passed                                -> True\n",
      "setup_instance_check_passed                           -> True\n",
      "setup_s3_bucket_passed                                -> True\n"
     ]
    }
   ],
   "source": [
    "%store"
   ]
  },
  {
   "cell_type": "markdown",
   "id": "c226c4d1-e711-437d-bc97-000cf5ed59ac",
   "metadata": {},
   "source": [
    "# Release"
   ]
  },
  {
   "cell_type": "code",
   "execution_count": 172,
   "id": "61209e1b-0fae-42a3-b298-711f0bfe2e5b",
   "metadata": {},
   "outputs": [
    {
     "data": {
      "text/html": [
       "\n",
       "<p><b>Shutting down your kernel for this notebook to release resources.</b></p>\n",
       "<button class=\"sm-command-button\" data-commandlinker-command=\"kernelmenu:shutdown\" style=\"display:none;\">Shutdown Kernel</button>\n",
       "        \n",
       "<script>\n",
       "try {\n",
       "    els = document.getElementsByClassName(\"sm-command-button\");\n",
       "    els[0].click();\n",
       "}\n",
       "catch(err) {\n",
       "    // NoOp\n",
       "}    \n",
       "</script>\n"
      ],
      "text/plain": [
       "<IPython.core.display.HTML object>"
      ]
     },
     "metadata": {},
     "output_type": "display_data"
    }
   ],
   "source": [
    "%%html\n",
    "\n",
    "<p><b>Shutting down your kernel for this notebook to release resources.</b></p>\n",
    "<button class=\"sm-command-button\" data-commandlinker-command=\"kernelmenu:shutdown\" style=\"display:none;\">Shutdown Kernel</button>\n",
    "        \n",
    "<script>\n",
    "try {\n",
    "    els = document.getElementsByClassName(\"sm-command-button\");\n",
    "    els[0].click();\n",
    "}\n",
    "catch(err) {\n",
    "    // NoOp\n",
    "}    \n",
    "</script>"
   ]
  },
  {
   "cell_type": "code",
   "execution_count": 173,
   "id": "2343f280-e161-4090-afa6-47f1f2e28dc5",
   "metadata": {
    "tags": []
   },
   "outputs": [
    {
     "data": {
      "application/javascript": [
       "\n",
       "try {\n",
       "    Jupyter.notebook.save_checkpoint();\n",
       "    Jupyter.notebook.session.delete();\n",
       "}\n",
       "catch(err) {\n",
       "    // NoOp\n",
       "}\n"
      ],
      "text/plain": [
       "<IPython.core.display.Javascript object>"
      ]
     },
     "metadata": {},
     "output_type": "display_data"
    }
   ],
   "source": [
    "%%javascript\n",
    "\n",
    "try {\n",
    "    Jupyter.notebook.save_checkpoint();\n",
    "    Jupyter.notebook.session.delete();\n",
    "}\n",
    "catch(err) {\n",
    "    // NoOp\n",
    "}"
   ]
  }
 ],
 "metadata": {
  "availableInstances": [
   {
    "_defaultOrder": 0,
    "_isFastLaunch": true,
    "category": "General purpose",
    "gpuNum": 0,
    "hideHardwareSpecs": false,
    "memoryGiB": 4,
    "name": "ml.t3.medium",
    "vcpuNum": 2
   },
   {
    "_defaultOrder": 1,
    "_isFastLaunch": false,
    "category": "General purpose",
    "gpuNum": 0,
    "hideHardwareSpecs": false,
    "memoryGiB": 8,
    "name": "ml.t3.large",
    "vcpuNum": 2
   },
   {
    "_defaultOrder": 2,
    "_isFastLaunch": false,
    "category": "General purpose",
    "gpuNum": 0,
    "hideHardwareSpecs": false,
    "memoryGiB": 16,
    "name": "ml.t3.xlarge",
    "vcpuNum": 4
   },
   {
    "_defaultOrder": 3,
    "_isFastLaunch": false,
    "category": "General purpose",
    "gpuNum": 0,
    "hideHardwareSpecs": false,
    "memoryGiB": 32,
    "name": "ml.t3.2xlarge",
    "vcpuNum": 8
   },
   {
    "_defaultOrder": 4,
    "_isFastLaunch": true,
    "category": "General purpose",
    "gpuNum": 0,
    "hideHardwareSpecs": false,
    "memoryGiB": 8,
    "name": "ml.m5.large",
    "vcpuNum": 2
   },
   {
    "_defaultOrder": 5,
    "_isFastLaunch": false,
    "category": "General purpose",
    "gpuNum": 0,
    "hideHardwareSpecs": false,
    "memoryGiB": 16,
    "name": "ml.m5.xlarge",
    "vcpuNum": 4
   },
   {
    "_defaultOrder": 6,
    "_isFastLaunch": false,
    "category": "General purpose",
    "gpuNum": 0,
    "hideHardwareSpecs": false,
    "memoryGiB": 32,
    "name": "ml.m5.2xlarge",
    "vcpuNum": 8
   },
   {
    "_defaultOrder": 7,
    "_isFastLaunch": false,
    "category": "General purpose",
    "gpuNum": 0,
    "hideHardwareSpecs": false,
    "memoryGiB": 64,
    "name": "ml.m5.4xlarge",
    "vcpuNum": 16
   },
   {
    "_defaultOrder": 8,
    "_isFastLaunch": false,
    "category": "General purpose",
    "gpuNum": 0,
    "hideHardwareSpecs": false,
    "memoryGiB": 128,
    "name": "ml.m5.8xlarge",
    "vcpuNum": 32
   },
   {
    "_defaultOrder": 9,
    "_isFastLaunch": false,
    "category": "General purpose",
    "gpuNum": 0,
    "hideHardwareSpecs": false,
    "memoryGiB": 192,
    "name": "ml.m5.12xlarge",
    "vcpuNum": 48
   },
   {
    "_defaultOrder": 10,
    "_isFastLaunch": false,
    "category": "General purpose",
    "gpuNum": 0,
    "hideHardwareSpecs": false,
    "memoryGiB": 256,
    "name": "ml.m5.16xlarge",
    "vcpuNum": 64
   },
   {
    "_defaultOrder": 11,
    "_isFastLaunch": false,
    "category": "General purpose",
    "gpuNum": 0,
    "hideHardwareSpecs": false,
    "memoryGiB": 384,
    "name": "ml.m5.24xlarge",
    "vcpuNum": 96
   },
   {
    "_defaultOrder": 12,
    "_isFastLaunch": false,
    "category": "General purpose",
    "gpuNum": 0,
    "hideHardwareSpecs": false,
    "memoryGiB": 8,
    "name": "ml.m5d.large",
    "vcpuNum": 2
   },
   {
    "_defaultOrder": 13,
    "_isFastLaunch": false,
    "category": "General purpose",
    "gpuNum": 0,
    "hideHardwareSpecs": false,
    "memoryGiB": 16,
    "name": "ml.m5d.xlarge",
    "vcpuNum": 4
   },
   {
    "_defaultOrder": 14,
    "_isFastLaunch": false,
    "category": "General purpose",
    "gpuNum": 0,
    "hideHardwareSpecs": false,
    "memoryGiB": 32,
    "name": "ml.m5d.2xlarge",
    "vcpuNum": 8
   },
   {
    "_defaultOrder": 15,
    "_isFastLaunch": false,
    "category": "General purpose",
    "gpuNum": 0,
    "hideHardwareSpecs": false,
    "memoryGiB": 64,
    "name": "ml.m5d.4xlarge",
    "vcpuNum": 16
   },
   {
    "_defaultOrder": 16,
    "_isFastLaunch": false,
    "category": "General purpose",
    "gpuNum": 0,
    "hideHardwareSpecs": false,
    "memoryGiB": 128,
    "name": "ml.m5d.8xlarge",
    "vcpuNum": 32
   },
   {
    "_defaultOrder": 17,
    "_isFastLaunch": false,
    "category": "General purpose",
    "gpuNum": 0,
    "hideHardwareSpecs": false,
    "memoryGiB": 192,
    "name": "ml.m5d.12xlarge",
    "vcpuNum": 48
   },
   {
    "_defaultOrder": 18,
    "_isFastLaunch": false,
    "category": "General purpose",
    "gpuNum": 0,
    "hideHardwareSpecs": false,
    "memoryGiB": 256,
    "name": "ml.m5d.16xlarge",
    "vcpuNum": 64
   },
   {
    "_defaultOrder": 19,
    "_isFastLaunch": false,
    "category": "General purpose",
    "gpuNum": 0,
    "hideHardwareSpecs": false,
    "memoryGiB": 384,
    "name": "ml.m5d.24xlarge",
    "vcpuNum": 96
   },
   {
    "_defaultOrder": 20,
    "_isFastLaunch": false,
    "category": "General purpose",
    "gpuNum": 0,
    "hideHardwareSpecs": true,
    "memoryGiB": 0,
    "name": "ml.geospatial.interactive",
    "supportedImageNames": [
     "sagemaker-geospatial-v1-0"
    ],
    "vcpuNum": 0
   },
   {
    "_defaultOrder": 21,
    "_isFastLaunch": true,
    "category": "Compute optimized",
    "gpuNum": 0,
    "hideHardwareSpecs": false,
    "memoryGiB": 4,
    "name": "ml.c5.large",
    "vcpuNum": 2
   },
   {
    "_defaultOrder": 22,
    "_isFastLaunch": false,
    "category": "Compute optimized",
    "gpuNum": 0,
    "hideHardwareSpecs": false,
    "memoryGiB": 8,
    "name": "ml.c5.xlarge",
    "vcpuNum": 4
   },
   {
    "_defaultOrder": 23,
    "_isFastLaunch": false,
    "category": "Compute optimized",
    "gpuNum": 0,
    "hideHardwareSpecs": false,
    "memoryGiB": 16,
    "name": "ml.c5.2xlarge",
    "vcpuNum": 8
   },
   {
    "_defaultOrder": 24,
    "_isFastLaunch": false,
    "category": "Compute optimized",
    "gpuNum": 0,
    "hideHardwareSpecs": false,
    "memoryGiB": 32,
    "name": "ml.c5.4xlarge",
    "vcpuNum": 16
   },
   {
    "_defaultOrder": 25,
    "_isFastLaunch": false,
    "category": "Compute optimized",
    "gpuNum": 0,
    "hideHardwareSpecs": false,
    "memoryGiB": 72,
    "name": "ml.c5.9xlarge",
    "vcpuNum": 36
   },
   {
    "_defaultOrder": 26,
    "_isFastLaunch": false,
    "category": "Compute optimized",
    "gpuNum": 0,
    "hideHardwareSpecs": false,
    "memoryGiB": 96,
    "name": "ml.c5.12xlarge",
    "vcpuNum": 48
   },
   {
    "_defaultOrder": 27,
    "_isFastLaunch": false,
    "category": "Compute optimized",
    "gpuNum": 0,
    "hideHardwareSpecs": false,
    "memoryGiB": 144,
    "name": "ml.c5.18xlarge",
    "vcpuNum": 72
   },
   {
    "_defaultOrder": 28,
    "_isFastLaunch": false,
    "category": "Compute optimized",
    "gpuNum": 0,
    "hideHardwareSpecs": false,
    "memoryGiB": 192,
    "name": "ml.c5.24xlarge",
    "vcpuNum": 96
   },
   {
    "_defaultOrder": 29,
    "_isFastLaunch": true,
    "category": "Accelerated computing",
    "gpuNum": 1,
    "hideHardwareSpecs": false,
    "memoryGiB": 16,
    "name": "ml.g4dn.xlarge",
    "vcpuNum": 4
   },
   {
    "_defaultOrder": 30,
    "_isFastLaunch": false,
    "category": "Accelerated computing",
    "gpuNum": 1,
    "hideHardwareSpecs": false,
    "memoryGiB": 32,
    "name": "ml.g4dn.2xlarge",
    "vcpuNum": 8
   },
   {
    "_defaultOrder": 31,
    "_isFastLaunch": false,
    "category": "Accelerated computing",
    "gpuNum": 1,
    "hideHardwareSpecs": false,
    "memoryGiB": 64,
    "name": "ml.g4dn.4xlarge",
    "vcpuNum": 16
   },
   {
    "_defaultOrder": 32,
    "_isFastLaunch": false,
    "category": "Accelerated computing",
    "gpuNum": 1,
    "hideHardwareSpecs": false,
    "memoryGiB": 128,
    "name": "ml.g4dn.8xlarge",
    "vcpuNum": 32
   },
   {
    "_defaultOrder": 33,
    "_isFastLaunch": false,
    "category": "Accelerated computing",
    "gpuNum": 4,
    "hideHardwareSpecs": false,
    "memoryGiB": 192,
    "name": "ml.g4dn.12xlarge",
    "vcpuNum": 48
   },
   {
    "_defaultOrder": 34,
    "_isFastLaunch": false,
    "category": "Accelerated computing",
    "gpuNum": 1,
    "hideHardwareSpecs": false,
    "memoryGiB": 256,
    "name": "ml.g4dn.16xlarge",
    "vcpuNum": 64
   },
   {
    "_defaultOrder": 35,
    "_isFastLaunch": false,
    "category": "Accelerated computing",
    "gpuNum": 1,
    "hideHardwareSpecs": false,
    "memoryGiB": 61,
    "name": "ml.p3.2xlarge",
    "vcpuNum": 8
   },
   {
    "_defaultOrder": 36,
    "_isFastLaunch": false,
    "category": "Accelerated computing",
    "gpuNum": 4,
    "hideHardwareSpecs": false,
    "memoryGiB": 244,
    "name": "ml.p3.8xlarge",
    "vcpuNum": 32
   },
   {
    "_defaultOrder": 37,
    "_isFastLaunch": false,
    "category": "Accelerated computing",
    "gpuNum": 8,
    "hideHardwareSpecs": false,
    "memoryGiB": 488,
    "name": "ml.p3.16xlarge",
    "vcpuNum": 64
   },
   {
    "_defaultOrder": 38,
    "_isFastLaunch": false,
    "category": "Accelerated computing",
    "gpuNum": 8,
    "hideHardwareSpecs": false,
    "memoryGiB": 768,
    "name": "ml.p3dn.24xlarge",
    "vcpuNum": 96
   },
   {
    "_defaultOrder": 39,
    "_isFastLaunch": false,
    "category": "Memory Optimized",
    "gpuNum": 0,
    "hideHardwareSpecs": false,
    "memoryGiB": 16,
    "name": "ml.r5.large",
    "vcpuNum": 2
   },
   {
    "_defaultOrder": 40,
    "_isFastLaunch": false,
    "category": "Memory Optimized",
    "gpuNum": 0,
    "hideHardwareSpecs": false,
    "memoryGiB": 32,
    "name": "ml.r5.xlarge",
    "vcpuNum": 4
   },
   {
    "_defaultOrder": 41,
    "_isFastLaunch": false,
    "category": "Memory Optimized",
    "gpuNum": 0,
    "hideHardwareSpecs": false,
    "memoryGiB": 64,
    "name": "ml.r5.2xlarge",
    "vcpuNum": 8
   },
   {
    "_defaultOrder": 42,
    "_isFastLaunch": false,
    "category": "Memory Optimized",
    "gpuNum": 0,
    "hideHardwareSpecs": false,
    "memoryGiB": 128,
    "name": "ml.r5.4xlarge",
    "vcpuNum": 16
   },
   {
    "_defaultOrder": 43,
    "_isFastLaunch": false,
    "category": "Memory Optimized",
    "gpuNum": 0,
    "hideHardwareSpecs": false,
    "memoryGiB": 256,
    "name": "ml.r5.8xlarge",
    "vcpuNum": 32
   },
   {
    "_defaultOrder": 44,
    "_isFastLaunch": false,
    "category": "Memory Optimized",
    "gpuNum": 0,
    "hideHardwareSpecs": false,
    "memoryGiB": 384,
    "name": "ml.r5.12xlarge",
    "vcpuNum": 48
   },
   {
    "_defaultOrder": 45,
    "_isFastLaunch": false,
    "category": "Memory Optimized",
    "gpuNum": 0,
    "hideHardwareSpecs": false,
    "memoryGiB": 512,
    "name": "ml.r5.16xlarge",
    "vcpuNum": 64
   },
   {
    "_defaultOrder": 46,
    "_isFastLaunch": false,
    "category": "Memory Optimized",
    "gpuNum": 0,
    "hideHardwareSpecs": false,
    "memoryGiB": 768,
    "name": "ml.r5.24xlarge",
    "vcpuNum": 96
   },
   {
    "_defaultOrder": 47,
    "_isFastLaunch": false,
    "category": "Accelerated computing",
    "gpuNum": 1,
    "hideHardwareSpecs": false,
    "memoryGiB": 16,
    "name": "ml.g5.xlarge",
    "vcpuNum": 4
   },
   {
    "_defaultOrder": 48,
    "_isFastLaunch": false,
    "category": "Accelerated computing",
    "gpuNum": 1,
    "hideHardwareSpecs": false,
    "memoryGiB": 32,
    "name": "ml.g5.2xlarge",
    "vcpuNum": 8
   },
   {
    "_defaultOrder": 49,
    "_isFastLaunch": false,
    "category": "Accelerated computing",
    "gpuNum": 1,
    "hideHardwareSpecs": false,
    "memoryGiB": 64,
    "name": "ml.g5.4xlarge",
    "vcpuNum": 16
   },
   {
    "_defaultOrder": 50,
    "_isFastLaunch": false,
    "category": "Accelerated computing",
    "gpuNum": 1,
    "hideHardwareSpecs": false,
    "memoryGiB": 128,
    "name": "ml.g5.8xlarge",
    "vcpuNum": 32
   },
   {
    "_defaultOrder": 51,
    "_isFastLaunch": false,
    "category": "Accelerated computing",
    "gpuNum": 1,
    "hideHardwareSpecs": false,
    "memoryGiB": 256,
    "name": "ml.g5.16xlarge",
    "vcpuNum": 64
   },
   {
    "_defaultOrder": 52,
    "_isFastLaunch": false,
    "category": "Accelerated computing",
    "gpuNum": 4,
    "hideHardwareSpecs": false,
    "memoryGiB": 192,
    "name": "ml.g5.12xlarge",
    "vcpuNum": 48
   },
   {
    "_defaultOrder": 53,
    "_isFastLaunch": false,
    "category": "Accelerated computing",
    "gpuNum": 4,
    "hideHardwareSpecs": false,
    "memoryGiB": 384,
    "name": "ml.g5.24xlarge",
    "vcpuNum": 96
   },
   {
    "_defaultOrder": 54,
    "_isFastLaunch": false,
    "category": "Accelerated computing",
    "gpuNum": 8,
    "hideHardwareSpecs": false,
    "memoryGiB": 768,
    "name": "ml.g5.48xlarge",
    "vcpuNum": 192
   }
  ],
  "instance_type": "ml.t3.medium",
  "kernelspec": {
   "display_name": "Python 3 (Data Science)",
   "language": "python",
   "name": "python3__SAGEMAKER_INTERNAL__arn:aws:sagemaker:us-east-1:081325390199:image/datascience-1.0"
  },
  "language_info": {
   "codemirror_mode": {
    "name": "ipython",
    "version": 3
   },
   "file_extension": ".py",
   "mimetype": "text/x-python",
   "name": "python",
   "nbconvert_exporter": "python",
   "pygments_lexer": "ipython3",
   "version": "3.7.10"
  }
 },
 "nbformat": 4,
 "nbformat_minor": 5
}
