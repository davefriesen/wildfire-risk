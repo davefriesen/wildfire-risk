{
 "cells": [
  {
   "cell_type": "markdown",
   "id": "4bf3faca-e0fa-457e-b6dd-5c7133f02b56",
   "metadata": {},
   "source": [
    "# Wildfire Risk - Explore & Prepare the Data\n",
    "__Team 3 - Dave Friesen, John Chen, and Kyle Dalope__<br>\n",
    "__ADS-508-02-SP23__<br><br>\n",
    "__GitHub link: https://github.com/davefriesen/wildfire-risk__"
   ]
  },
  {
   "cell_type": "code",
   "execution_count": 2,
   "id": "c3f869c0-f75e-4389-b455-44536e0b9502",
   "metadata": {
    "tags": []
   },
   "outputs": [],
   "source": [
    "__authors__ = ['Dave Friesen', 'John Chen', 'Kyle Dalope']\n",
    "__contact__ = ['dfriesen@sandiego.edu', 'johnchen@sandiego.edu', 'kdalope@sandiego.edu']\n",
    "__date__ = '2023-03-20'\n",
    "__license__ = 'MIT'\n",
    "__version__ = '1.0.1'"
   ]
  },
  {
   "cell_type": "markdown",
   "id": "7df48cd4-5cfb-43d2-b92b-abb34f387531",
   "metadata": {},
   "source": [
    "# Setup Basics"
   ]
  },
  {
   "cell_type": "code",
   "execution_count": 3,
   "id": "f9fa443f",
   "metadata": {
    "tags": []
   },
   "outputs": [
    {
     "name": "stdout",
     "output_type": "stream",
     "text": [
      "\u001b[33mWARNING: Running pip as the 'root' user can result in broken permissions and conflicting behaviour with the system package manager. It is recommended to use a virtual environment instead: https://pip.pypa.io/warnings/venv\u001b[0m\u001b[33m\n",
      "\u001b[0m\u001b[33mWARNING: Running pip as the 'root' user can result in broken permissions and conflicting behaviour with the system package manager. It is recommended to use a virtual environment instead: https://pip.pypa.io/warnings/venv\u001b[0m\u001b[33m\n",
      "\u001b[0m"
     ]
    }
   ],
   "source": [
    "#Install\n",
    "!pip install -q smclarify==0.1\n",
    "!pip install --disable-pip-version-check -q PyAthena==2.1.0\n",
    "\n",
    "# Import basic libraries\n",
    "import boto3\n",
    "import sagemaker\n",
    "\n",
    "# Import data access libraries\n",
    "from pyathena import connect\n",
    "from smclarify.bias import report\n",
    "from typing import Dict\n",
    "from collections import defaultdict\n",
    "import pandas as pd\n",
    "import seaborn as sns\n",
    "import matplotlib.pyplot as plt\n",
    "import sagemaker"
   ]
  },
  {
   "cell_type": "code",
   "execution_count": 4,
   "id": "dd3b5205-aac7-4c94-b790-c5065f27d82c",
   "metadata": {
    "tags": []
   },
   "outputs": [],
   "source": [
    "# Establish session fundamentals\n",
    "sess = sagemaker.Session()\n",
    "bucket = sess.default_bucket()\n",
    "role = sagemaker.get_execution_role()\n",
    "region = boto3.Session().region_name\n",
    "#account_id = boto3.Session().client(service_name='sagemaker', region_name=region)"
   ]
  },
  {
   "cell_type": "code",
   "execution_count": 5,
   "id": "366d017e-8c7c-4239-a649-b020a10607ea",
   "metadata": {
    "tags": []
   },
   "outputs": [
    {
     "name": "stdout",
     "output_type": "stream",
     "text": [
      "Stored variables and their in-db values:\n",
      "auto_ml_job_name                                      -> 'automl-dm-30-03-35-20'\n",
      "auto_ml_job_name_wf                                   -> 'automl-fire-03-05-42-40'\n",
      "autopilot_endpoint_arn                                -> 'arn:aws:sagemaker:us-east-1:857283526476:endpoint\n",
      "autopilot_endpoint_wf                                 -> 'automl-dm-ep-30-04-47-49'\n",
      "autopilot_model_arn_wf                                -> 'arn:aws:sagemaker:us-east-1:857283526476:model/au\n",
      "autopilot_model_wf                                    -> 'automl-dm-model-30-04-47-47'\n",
      "autopilot_train_s3_uri                                -> 's3://sagemaker-us-east-1-857283526476/data/amazon\n",
      "autopilot_train_s3_wf                                 -> 's3://sagemaker-us-east-1-857283526476/data/wildfi\n",
      "balanced_bias_data_jsonlines_s3_uri                   -> 's3://sagemaker-us-east-1-857283526476/bias-detect\n",
      "balanced_bias_data_s3_uri                             -> 's3://sagemaker-us-east-1-857283526476/bias-detect\n",
      "bias_data_s3_uri                                      -> 's3://sagemaker-us-east-1-857283526476/bias-detect\n",
      "ingest_create_athena_db_passed                        -> True\n",
      "ingest_create_athena_table_parquet_passed             -> True\n",
      "ingest_create_athena_table_passed                     -> True\n",
      "ingest_create_athena_table_tsv_passed                 -> True\n",
      "s3_private_path                                       -> 's3://sagemaker-us-east-1-857283526476/widfire-ris\n",
      "s3_private_path_tsv                                   -> 's3://sagemaker-us-east-1-857283526476/amazon-revi\n",
      "s3_public_path                                        -> 's3://wildfire-risk/'\n",
      "s3_public_path_tsv                                    -> 's3://amazon-reviews-pds/tsv'\n",
      "setup_dependencies_passed                             -> True\n",
      "setup_iam_roles_passed                                -> True\n",
      "setup_instance_check_passed                           -> True\n",
      "setup_s3_bucket_passed                                -> True\n"
     ]
    }
   ],
   "source": [
    "%store"
   ]
  },
  {
   "cell_type": "markdown",
   "id": "79fb48da-3fe2-41a2-8265-83c3478ab274",
   "metadata": {},
   "source": [
    "# Get Data from S3"
   ]
  },
  {
   "cell_type": "code",
   "execution_count": 6,
   "id": "e42ce858-3005-45f9-9e3d-82c6145dfb9d",
   "metadata": {
    "tags": []
   },
   "outputs": [
    {
     "data": {
      "text/html": [
       "<div>\n",
       "<style scoped>\n",
       "    .dataframe tbody tr th:only-of-type {\n",
       "        vertical-align: middle;\n",
       "    }\n",
       "\n",
       "    .dataframe tbody tr th {\n",
       "        vertical-align: top;\n",
       "    }\n",
       "\n",
       "    .dataframe thead th {\n",
       "        text-align: right;\n",
       "    }\n",
       "</style>\n",
       "<table border=\"1\" class=\"dataframe\">\n",
       "  <thead>\n",
       "    <tr style=\"text-align: right;\">\n",
       "      <th></th>\n",
       "      <th>STATION</th>\n",
       "      <th>LATITUDE</th>\n",
       "      <th>LONGITUDE</th>\n",
       "      <th>ELEVATION</th>\n",
       "      <th>NAME</th>\n",
       "      <th>CDSD</th>\n",
       "      <th>CDSD_ATTRIBUTES</th>\n",
       "      <th>CLDD</th>\n",
       "      <th>CLDD_ATTRIBUTES</th>\n",
       "      <th>DT00</th>\n",
       "      <th>...</th>\n",
       "      <th>InitialLatitude</th>\n",
       "      <th>InitialLongitude</th>\n",
       "      <th>IsFireCauseInvestigated</th>\n",
       "      <th>IsTrespass</th>\n",
       "      <th>POOCity</th>\n",
       "      <th>POOState</th>\n",
       "      <th>PredominantFuelModel</th>\n",
       "      <th>PrimaryFuelModel</th>\n",
       "      <th>ym_date</th>\n",
       "      <th>fire</th>\n",
       "    </tr>\n",
       "  </thead>\n",
       "  <tbody>\n",
       "    <tr>\n",
       "      <th>0</th>\n",
       "      <td>USR0000CABS</td>\n",
       "      <td>40.3983</td>\n",
       "      <td>-122.8333</td>\n",
       "      <td>579.1</td>\n",
       "      <td>ARBUCKLE BASIN CALIFORNIA, CA US</td>\n",
       "      <td>0.0</td>\n",
       "      <td>NaN</td>\n",
       "      <td>0.0</td>\n",
       "      <td>,U</td>\n",
       "      <td>0.0</td>\n",
       "      <td>...</td>\n",
       "      <td>NaN</td>\n",
       "      <td>NaN</td>\n",
       "      <td>NaN</td>\n",
       "      <td>NaN</td>\n",
       "      <td>NaN</td>\n",
       "      <td>NaN</td>\n",
       "      <td>NaN</td>\n",
       "      <td>NaN</td>\n",
       "      <td>NaN</td>\n",
       "      <td>0.0</td>\n",
       "    </tr>\n",
       "    <tr>\n",
       "      <th>1</th>\n",
       "      <td>USR0000CABS</td>\n",
       "      <td>40.3983</td>\n",
       "      <td>-122.8333</td>\n",
       "      <td>579.1</td>\n",
       "      <td>ARBUCKLE BASIN CALIFORNIA, CA US</td>\n",
       "      <td>0.0</td>\n",
       "      <td>NaN</td>\n",
       "      <td>0.0</td>\n",
       "      <td>,U</td>\n",
       "      <td>0.0</td>\n",
       "      <td>...</td>\n",
       "      <td>NaN</td>\n",
       "      <td>NaN</td>\n",
       "      <td>NaN</td>\n",
       "      <td>NaN</td>\n",
       "      <td>NaN</td>\n",
       "      <td>NaN</td>\n",
       "      <td>NaN</td>\n",
       "      <td>NaN</td>\n",
       "      <td>NaN</td>\n",
       "      <td>0.0</td>\n",
       "    </tr>\n",
       "    <tr>\n",
       "      <th>2</th>\n",
       "      <td>USR0000CABS</td>\n",
       "      <td>40.3983</td>\n",
       "      <td>-122.8333</td>\n",
       "      <td>579.1</td>\n",
       "      <td>ARBUCKLE BASIN CALIFORNIA, CA US</td>\n",
       "      <td>0.0</td>\n",
       "      <td>NaN</td>\n",
       "      <td>0.0</td>\n",
       "      <td>,U</td>\n",
       "      <td>0.0</td>\n",
       "      <td>...</td>\n",
       "      <td>NaN</td>\n",
       "      <td>NaN</td>\n",
       "      <td>NaN</td>\n",
       "      <td>NaN</td>\n",
       "      <td>NaN</td>\n",
       "      <td>NaN</td>\n",
       "      <td>NaN</td>\n",
       "      <td>NaN</td>\n",
       "      <td>NaN</td>\n",
       "      <td>0.0</td>\n",
       "    </tr>\n",
       "    <tr>\n",
       "      <th>3</th>\n",
       "      <td>USR0000CABS</td>\n",
       "      <td>40.3983</td>\n",
       "      <td>-122.8333</td>\n",
       "      <td>579.1</td>\n",
       "      <td>ARBUCKLE BASIN CALIFORNIA, CA US</td>\n",
       "      <td>0.0</td>\n",
       "      <td>NaN</td>\n",
       "      <td>0.0</td>\n",
       "      <td>,U</td>\n",
       "      <td>0.0</td>\n",
       "      <td>...</td>\n",
       "      <td>NaN</td>\n",
       "      <td>NaN</td>\n",
       "      <td>NaN</td>\n",
       "      <td>NaN</td>\n",
       "      <td>NaN</td>\n",
       "      <td>NaN</td>\n",
       "      <td>NaN</td>\n",
       "      <td>NaN</td>\n",
       "      <td>NaN</td>\n",
       "      <td>0.0</td>\n",
       "    </tr>\n",
       "    <tr>\n",
       "      <th>4</th>\n",
       "      <td>USR0000CABS</td>\n",
       "      <td>40.3983</td>\n",
       "      <td>-122.8333</td>\n",
       "      <td>579.1</td>\n",
       "      <td>ARBUCKLE BASIN CALIFORNIA, CA US</td>\n",
       "      <td>0.0</td>\n",
       "      <td>NaN</td>\n",
       "      <td>0.0</td>\n",
       "      <td>,U</td>\n",
       "      <td>0.0</td>\n",
       "      <td>...</td>\n",
       "      <td>NaN</td>\n",
       "      <td>NaN</td>\n",
       "      <td>NaN</td>\n",
       "      <td>NaN</td>\n",
       "      <td>NaN</td>\n",
       "      <td>NaN</td>\n",
       "      <td>NaN</td>\n",
       "      <td>NaN</td>\n",
       "      <td>NaN</td>\n",
       "      <td>0.0</td>\n",
       "    </tr>\n",
       "  </tbody>\n",
       "</table>\n",
       "<p>5 rows × 89 columns</p>\n",
       "</div>"
      ],
      "text/plain": [
       "       STATION  LATITUDE  LONGITUDE  ELEVATION  \\\n",
       "0  USR0000CABS   40.3983  -122.8333      579.1   \n",
       "1  USR0000CABS   40.3983  -122.8333      579.1   \n",
       "2  USR0000CABS   40.3983  -122.8333      579.1   \n",
       "3  USR0000CABS   40.3983  -122.8333      579.1   \n",
       "4  USR0000CABS   40.3983  -122.8333      579.1   \n",
       "\n",
       "                               NAME  CDSD CDSD_ATTRIBUTES  CLDD  \\\n",
       "0  ARBUCKLE BASIN CALIFORNIA, CA US   0.0             NaN   0.0   \n",
       "1  ARBUCKLE BASIN CALIFORNIA, CA US   0.0             NaN   0.0   \n",
       "2  ARBUCKLE BASIN CALIFORNIA, CA US   0.0             NaN   0.0   \n",
       "3  ARBUCKLE BASIN CALIFORNIA, CA US   0.0             NaN   0.0   \n",
       "4  ARBUCKLE BASIN CALIFORNIA, CA US   0.0             NaN   0.0   \n",
       "\n",
       "  CLDD_ATTRIBUTES  DT00  ... InitialLatitude  InitialLongitude  \\\n",
       "0              ,U   0.0  ...             NaN               NaN   \n",
       "1              ,U   0.0  ...             NaN               NaN   \n",
       "2              ,U   0.0  ...             NaN               NaN   \n",
       "3              ,U   0.0  ...             NaN               NaN   \n",
       "4              ,U   0.0  ...             NaN               NaN   \n",
       "\n",
       "  IsFireCauseInvestigated  IsTrespass POOCity  POOState PredominantFuelModel  \\\n",
       "0                     NaN         NaN     NaN       NaN                  NaN   \n",
       "1                     NaN         NaN     NaN       NaN                  NaN   \n",
       "2                     NaN         NaN     NaN       NaN                  NaN   \n",
       "3                     NaN         NaN     NaN       NaN                  NaN   \n",
       "4                     NaN         NaN     NaN       NaN                  NaN   \n",
       "\n",
       "   PrimaryFuelModel ym_date  fire  \n",
       "0               NaN     NaN   0.0  \n",
       "1               NaN     NaN   0.0  \n",
       "2               NaN     NaN   0.0  \n",
       "3               NaN     NaN   0.0  \n",
       "4               NaN     NaN   0.0  \n",
       "\n",
       "[5 rows x 89 columns]"
      ]
     },
     "execution_count": 6,
     "metadata": {},
     "output_type": "execute_result"
    }
   ],
   "source": [
    "import pandas as pd\n",
    "\n",
    "data = pd.read_csv(\"../data/merged.csv\", low_memory=False)\n",
    "data.head()"
   ]
  },
  {
   "cell_type": "code",
   "execution_count": 7,
   "id": "6569bc48-d8f2-4a2c-aed8-c78fe03d4980",
   "metadata": {
    "tags": []
   },
   "outputs": [
    {
     "name": "stdout",
     "output_type": "stream",
     "text": [
      "<class 'pandas.core.frame.DataFrame'>\n",
      "RangeIndex: 42289 entries, 0 to 42288\n",
      "Data columns (total 89 columns):\n",
      " #   Column                    Non-Null Count  Dtype  \n",
      "---  ------                    --------------  -----  \n",
      " 0   STATION                   42289 non-null  object \n",
      " 1   LATITUDE                  42289 non-null  float64\n",
      " 2   LONGITUDE                 42289 non-null  float64\n",
      " 3   ELEVATION                 42289 non-null  float64\n",
      " 4   NAME                      42289 non-null  object \n",
      " 5   CDSD                      39981 non-null  float64\n",
      " 6   CDSD_ATTRIBUTES           39577 non-null  object \n",
      " 7   CLDD                      42241 non-null  float64\n",
      " 8   CLDD_ATTRIBUTES           42241 non-null  object \n",
      " 9   DT00                      42279 non-null  float64\n",
      " 10  DT00_ATTRIBUTES           42279 non-null  object \n",
      " 11  DT32                      42279 non-null  float64\n",
      " 12  DT32_ATTRIBUTES           42279 non-null  object \n",
      " 13  DX32                      42270 non-null  float64\n",
      " 14  DX32_ATTRIBUTES           42270 non-null  object \n",
      " 15  DX70                      42270 non-null  float64\n",
      " 16  DX70_ATTRIBUTES           42270 non-null  object \n",
      " 17  DX90                      42270 non-null  float64\n",
      " 18  DX90_ATTRIBUTES           42270 non-null  object \n",
      " 19  EMNT                      42279 non-null  float64\n",
      " 20  EMNT_ATTRIBUTES           42279 non-null  object \n",
      " 21  EMXT                      42270 non-null  float64\n",
      " 22  EMXT_ATTRIBUTES           42270 non-null  object \n",
      " 23  HDSD                      40494 non-null  float64\n",
      " 24  HDSD_ATTRIBUTES           40083 non-null  object \n",
      " 25  HTDD                      42241 non-null  float64\n",
      " 26  HTDD_ATTRIBUTES           42241 non-null  object \n",
      " 27  TAVG                      42260 non-null  float64\n",
      " 28  TAVG_ATTRIBUTES           42260 non-null  object \n",
      " 29  TMAX                      42270 non-null  float64\n",
      " 30  TMAX_ATTRIBUTES           42270 non-null  object \n",
      " 31  TMIN                      42279 non-null  float64\n",
      " 32  TMIN_ATTRIBUTES           42279 non-null  object \n",
      " 33  geohash                   42289 non-null  object \n",
      " 34  year                      42289 non-null  int64  \n",
      " 35  month                     42289 non-null  int64  \n",
      " 36  PLT_CN                    42289 non-null  int64  \n",
      " 37  COND_STATUS_CD            42289 non-null  int64  \n",
      " 38  MAPDEN                    23608 non-null  float64\n",
      " 39  STDAGE                    21400 non-null  float64\n",
      " 40  STDSZCD                   23608 non-null  float64\n",
      " 41  FLDSZCD                   23608 non-null  float64\n",
      " 42  SITECLCD                  23608 non-null  float64\n",
      " 43  SICOND                    21549 non-null  float64\n",
      " 44  STDORGCD                  23608 non-null  float64\n",
      " 45  SLOPE                     23608 non-null  float64\n",
      " 46  PHYSCLCD                  26600 non-null  float64\n",
      " 47  GSSTKCD                   23608 non-null  float64\n",
      " 48  DSTRBCD1                  26600 non-null  float64\n",
      " 49  TRTCD1                    23608 non-null  float64\n",
      " 50  PRESNFCD                  14696 non-null  float64\n",
      " 51  FLDAGE                    23608 non-null  float64\n",
      " 52  CARBON_DOWN_DEAD          23608 non-null  float64\n",
      " 53  CARBON_LITTER             23608 non-null  float64\n",
      " 54  CARBON_SOIL_ORG           23608 non-null  float64\n",
      " 55  CARBON_STANDING_DEAD      23608 non-null  float64\n",
      " 56  CARBON_UNDERSTORY_AG      23608 non-null  float64\n",
      " 57  CARBON_UNDERSTORY_BG      23608 non-null  float64\n",
      " 58  STATE                     42289 non-null  object \n",
      " 59  WATERCD                   30631 non-null  float64\n",
      " 60  LAT                       42289 non-null  float64\n",
      " 61  LON                       42289 non-null  float64\n",
      " 62  ContainmentDateTime       4630 non-null   object \n",
      " 63  ControlDateTime           4695 non-null   object \n",
      " 64  DiscoveryAcres            9041 non-null   float64\n",
      " 65  EstimatedCostToDate       181 non-null    float64\n",
      " 66  FinalAcres                4 non-null      float64\n",
      " 67  FireBehaviorGeneral       164 non-null    object \n",
      " 68  FireBehaviorGeneral1      148 non-null    object \n",
      " 69  FireBehaviorGeneral2      136 non-null    object \n",
      " 70  FireBehaviorGeneral3      113 non-null    object \n",
      " 71  FireCause                 9730 non-null   object \n",
      " 72  FireCauseGeneral          43 non-null     object \n",
      " 73  FireCauseSpecific         2 non-null      object \n",
      " 74  FireDiscoveryDateTime     9730 non-null   object \n",
      " 75  FireOutDateTime           5328 non-null   object \n",
      " 76  GACC                      9728 non-null   object \n",
      " 77  IncidentName              9730 non-null   object \n",
      " 78  IncidentShortDescription  139 non-null    object \n",
      " 79  InitialLatitude           9730 non-null   float64\n",
      " 80  InitialLongitude          9730 non-null   float64\n",
      " 81  IsFireCauseInvestigated   0 non-null      float64\n",
      " 82  IsTrespass                6885 non-null   float64\n",
      " 83  POOCity                   111 non-null    object \n",
      " 84  POOState                  9730 non-null   object \n",
      " 85  PredominantFuelModel      28 non-null     object \n",
      " 86  PrimaryFuelModel          164 non-null    object \n",
      " 87  ym_date                   9730 non-null   object \n",
      " 88  fire                      42289 non-null  float64\n",
      "dtypes: float64(48), int64(4), object(37)\n",
      "memory usage: 28.7+ MB\n"
     ]
    }
   ],
   "source": [
    "data.info() #See columns "
   ]
  },
  {
   "cell_type": "code",
   "execution_count": 8,
   "id": "889f8ede-f953-4e79-a593-14e3ea7b0b62",
   "metadata": {
    "tags": []
   },
   "outputs": [
    {
     "data": {
      "image/png": "[encoded data removed]",
      "text/plain": [
       "<Figure size 640x480 with 1 Axes>"
      ]
     },
     "metadata": {},
     "output_type": "display_data"
    }
   ],
   "source": [
    "import seaborn as sns\n",
    "sns.countplot(data=data, x=\"fire\", hue=\"STATE\")\n",
    "plt.show()\n",
    "\n",
    "#sns.boxplot(x = \"fire\", y = \"geohash\", data = data)\n",
    "#plt.show()"
   ]
  },
  {
   "cell_type": "markdown",
   "id": "23d15576-c320-4433-9f6e-c0213bbf68de",
   "metadata": {},
   "source": [
    "# Detecting Bias with Amazon SageMaker Clarify\n",
    "\n",
    "SageMaker Clarify helps you detect possible pre- and post-training biases using a variety of metrics."
   ]
  },
  {
   "cell_type": "code",
   "execution_count": 9,
   "id": "21dde33d-1950-416b-96b4-8789f6a4ae61",
   "metadata": {
    "tags": []
   },
   "outputs": [],
   "source": [
    "from sagemaker import clarify\n",
    "\n",
    "clarify_processor = clarify.SageMakerClarifyProcessor(\n",
    "    role=role, \n",
    "    instance_count=1, \n",
    "    instance_type=\"ml.c5.xlarge\", \n",
    "    sagemaker_session=sess\n",
    ")"
   ]
  },
  {
   "cell_type": "markdown",
   "id": "eacd79f8-66ef-42b8-b9c0-882dfd8e6abe",
   "metadata": {},
   "source": [
    "# Writing DataConfig\n",
    "A DataConfig object communicates some basic information about data I/O to Clarify. We specify where to find the input dataset, where to store the output, the target column (label), the header names, and the dataset type."
   ]
  },
  {
   "cell_type": "code",
   "execution_count": 10,
   "id": "55ef36bf-e3ab-443e-bfb1-1c08c6f38c20",
   "metadata": {
    "tags": []
   },
   "outputs": [],
   "source": [
    "bias_report_output_path = \"s3://{}/data\".format(bucket)\n",
    "\n",
    "bias_data_config = clarify.DataConfig(\n",
    "    s3_data_input_path='../data/merged.csv',\n",
    "    s3_output_path=bias_report_output_path,\n",
    "    label=\"fire\",\n",
    "    headers=data.columns.to_list(),\n",
    "    dataset_type=\"text/csv\",\n",
    ")"
   ]
  },
  {
   "cell_type": "markdown",
   "id": "181ffdfd-31d5-4360-9742-42077c057ef5",
   "metadata": {},
   "source": [
    "## Writing BiasConfig and Defining \n",
    "SageMaker Clarify also needs information on what the sensitive columns (`facets`) are, what the sensitive features (`facet_values_or_threshold`) may be, and what the desirable outcomes are (`label_values_or_threshold`).\n",
    "Clarify can handle both categorical and continuous data for `facet_values_or_threshold` and for `label_values_or_threshold`. In this case we are using categorical data.\n",
    "\n",
    "We specify this information in the `BiasConfig` API. Here that the positive outcome is `fire==0`, `STATE` is the sensitive column, and `CA` is the sensitive value.\n",
    "* desirable outcome = fire [1] or no fire [0]\n",
    "* sensitive column = STATE\n",
    "* sensitive value = CA\n",
    "\n",
    "label_column = LabelColumn('target', df['target'], [1])"
   ]
  },
  {
   "cell_type": "code",
   "execution_count": 11,
   "id": "4f0a3849-78f9-45d6-8019-7f91b3f5ce4a",
   "metadata": {
    "tags": []
   },
   "outputs": [],
   "source": [
    "#Measure bias for geohash attribute\n",
    "bias_config = clarify.BiasConfig(\n",
    "    label_values_or_threshold=[0],\n",
    "    facet_name=\"STATE\",\n",
    "    facet_values_or_threshold=[\"CA\"],                           \n",
    ")"
   ]
  },
  {
   "cell_type": "markdown",
   "id": "716adcc1-6074-4c09-a2bd-fa2caf30e057",
   "metadata": {},
   "source": [
    "## Detect Bias with a SageMaker Processing Job and Clarify"
   ]
  },
  {
   "cell_type": "code",
   "execution_count": 12,
   "id": "6b85b48c-2a51-4315-bd1e-26bbe6e6817b",
   "metadata": {},
   "outputs": [
    {
     "name": "stderr",
     "output_type": "stream",
     "text": [
      "INFO:sagemaker:Creating processing-job with name Clarify-Pretraining-Bias-2023-04-06-16-40-07-224\n"
     ]
    }
   ],
   "source": [
    "clarify_processor.run_pre_training_bias(\n",
    "    data_config=bias_data_config, \n",
    "    data_bias_config=bias_config, \n",
    "    methods=[\"CI\", \"DPL\", \"KL\", \"JS\", \"LP\", \"TVD\", \"KS\"],\n",
    "    wait=False, \n",
    "    logs=False\n",
    ")"
   ]
  },
  {
   "cell_type": "code",
   "execution_count": 13,
   "id": "9993fc52-7555-4dff-a1c3-dd7432e60e02",
   "metadata": {},
   "outputs": [
    {
     "data": {
      "text/plain": [
       "'Clarify-Pretraining-Bias-2023-04-06-16-40-07-224'"
      ]
     },
     "execution_count": 13,
     "metadata": {},
     "output_type": "execute_result"
    }
   ],
   "source": [
    "run_pre_training_bias_processing_job_name = clarify_processor.latest_job.job_name\n",
    "run_pre_training_bias_processing_job_name"
   ]
  },
  {
   "cell_type": "code",
   "execution_count": 14,
   "id": "1c1cec4a-accc-48bf-86dd-f5fcaedc651c",
   "metadata": {},
   "outputs": [
    {
     "data": {
      "text/html": [
       "<b>Review <a target=\"blank\" href=\"https://console.aws.amazon.com/sagemaker/home?region=us-east-1#/processing-jobs/Clarify-Pretraining-Bias-2023-04-06-16-40-07-224\">Processing Job</a></b>"
      ],
      "text/plain": [
       "<IPython.core.display.HTML object>"
      ]
     },
     "metadata": {},
     "output_type": "display_data"
    }
   ],
   "source": [
    "from IPython.core.display import display, HTML\n",
    "\n",
    "display(\n",
    "    HTML(\n",
    "        '<b>Review <a target=\"blank\" href=\"https://console.aws.amazon.com/sagemaker/home?region={}#/processing-jobs/{}\">Processing Job</a></b>'.format(\n",
    "            region, run_pre_training_bias_processing_job_name\n",
    "        )\n",
    "    )\n",
    ")"
   ]
  },
  {
   "cell_type": "code",
   "execution_count": 15,
   "id": "4acdf352-3def-4c14-81e2-4a326be699ff",
   "metadata": {},
   "outputs": [
    {
     "data": {
      "text/html": [
       "<b>Review <a target=\"blank\" href=\"https://console.aws.amazon.com/cloudwatch/home?region=us-east-1#logStream:group=/aws/sagemaker/ProcessingJobs;prefix=Clarify-Pretraining-Bias-2023-04-06-16-40-07-224;streamFilter=typeLogStreamPrefix\">CloudWatch Logs</a> After About 5 Minutes</b>"
      ],
      "text/plain": [
       "<IPython.core.display.HTML object>"
      ]
     },
     "metadata": {},
     "output_type": "display_data"
    }
   ],
   "source": [
    "from IPython.core.display import display, HTML\n",
    "\n",
    "display(\n",
    "    HTML(\n",
    "        '<b>Review <a target=\"blank\" href=\"https://console.aws.amazon.com/cloudwatch/home?region={}#logStream:group=/aws/sagemaker/ProcessingJobs;prefix={};streamFilter=typeLogStreamPrefix\">CloudWatch Logs</a> After About 5 Minutes</b>'.format(\n",
    "            region, run_pre_training_bias_processing_job_name\n",
    "        )\n",
    "    )\n",
    ")"
   ]
  },
  {
   "cell_type": "code",
   "execution_count": 16,
   "id": "87e3b9e8-375b-4e67-a06f-74018dc24473",
   "metadata": {},
   "outputs": [
    {
     "data": {
      "text/html": [
       "<b>Review <a target=\"blank\" href=\"https://s3.console.aws.amazon.com/s3/buckets/sagemaker-us-east-1-857283526476/Clarify-Pretraining-Bias-2023-04-06-16-40-07-224/?region=us-east-1&tab=overview\">S3 Output Data</a> After The Processing Job Has Completed</b>"
      ],
      "text/plain": [
       "<IPython.core.display.HTML object>"
      ]
     },
     "metadata": {},
     "output_type": "display_data"
    }
   ],
   "source": [
    "from IPython.core.display import display, HTML\n",
    "\n",
    "display(\n",
    "    HTML(\n",
    "        '<b>Review <a target=\"blank\" href=\"https://s3.console.aws.amazon.com/s3/buckets/{}/{}/?region={}&tab=overview\">S3 Output Data</a> After The Processing Job Has Completed</b>'.format(\n",
    "            bucket, run_pre_training_bias_processing_job_name, region\n",
    "        )\n",
    "    )\n",
    ")"
   ]
  },
  {
   "cell_type": "code",
   "execution_count": 17,
   "id": "9c6093fe-e82d-48d6-b1d3-65c6de243f5f",
   "metadata": {
    "tags": []
   },
   "outputs": [
    {
     "name": "stdout",
     "output_type": "stream",
     "text": [
      "{'ProcessingInputs': [{'InputName': 'dataset', 'AppManaged': False, 'S3Input': {'S3Uri': 's3://sagemaker-us-east-1-857283526476/Clarify-Pretraining-Bias-2023-04-06-16-40-07-224/input/dataset/merged.csv', 'LocalPath': '/opt/ml/processing/input/data', 'S3DataType': 'S3Prefix', 'S3InputMode': 'File', 'S3DataDistributionType': 'FullyReplicated', 'S3CompressionType': 'None'}}, {'InputName': 'analysis_config', 'AppManaged': False, 'S3Input': {'S3Uri': 's3://sagemaker-us-east-1-857283526476/data/analysis_config.json', 'LocalPath': '/opt/ml/processing/input/config', 'S3DataType': 'S3Prefix', 'S3InputMode': 'File', 'S3DataDistributionType': 'FullyReplicated', 'S3CompressionType': 'None'}}], 'ProcessingOutputConfig': {'Outputs': [{'OutputName': 'analysis_result', 'S3Output': {'S3Uri': 's3://sagemaker-us-east-1-857283526476/data', 'LocalPath': '/opt/ml/processing/output', 'S3UploadMode': 'EndOfJob'}, 'AppManaged': False}]}, 'ProcessingJobName': 'Clarify-Pretraining-Bias-2023-04-06-16-40-07-224', 'ProcessingResources': {'ClusterConfig': {'InstanceCount': 1, 'InstanceType': 'ml.c5.xlarge', 'VolumeSizeInGB': 30}}, 'StoppingCondition': {'MaxRuntimeInSeconds': 86400}, 'AppSpecification': {'ImageUri': '205585389593.dkr.ecr.us-east-1.amazonaws.com/sagemaker-clarify-processing:1.0'}, 'RoleArn': 'arn:aws:iam::857283526476:role/LabRole', 'ProcessingJobArn': 'arn:aws:sagemaker:us-east-1:857283526476:processing-job/clarify-pretraining-bias-2023-04-06-16-40-07-224', 'ProcessingJobStatus': 'InProgress', 'LastModifiedTime': datetime.datetime(2023, 4, 6, 16, 40, 8, 68000, tzinfo=tzlocal()), 'CreationTime': datetime.datetime(2023, 4, 6, 16, 40, 8, 68000, tzinfo=tzlocal()), 'ResponseMetadata': {'RequestId': '360a5290-4535-46bc-82fa-985e7f91b9eb', 'HTTPStatusCode': 200, 'HTTPHeaders': {'x-amzn-requestid': '360a5290-4535-46bc-82fa-985e7f91b9eb', 'content-type': 'application/x-amz-json-1.1', 'content-length': '1668', 'date': 'Thu, 06 Apr 2023 16:40:08 GMT'}, 'RetryAttempts': 0}}\n"
     ]
    }
   ],
   "source": [
    "running_processor = sagemaker.processing.ProcessingJob.from_processing_name(\n",
    "    processing_job_name=run_pre_training_bias_processing_job_name, sagemaker_session=sess\n",
    ")\n",
    "\n",
    "processing_job_description = running_processor.describe()\n",
    "\n",
    "print(processing_job_description)"
   ]
  },
  {
   "cell_type": "code",
   "execution_count": 18,
   "id": "ad0fa9ad-9650-42ea-aa74-536b9acaa99d",
   "metadata": {},
   "outputs": [
    {
     "name": "stdout",
     "output_type": "stream",
     "text": [
      "...................................................................!"
     ]
    }
   ],
   "source": [
    "running_processor.wait(logs=False)"
   ]
  },
  {
   "cell_type": "markdown",
   "id": "f0c49b2b-5c65-418f-a19d-36c89a6bdf6b",
   "metadata": {},
   "source": [
    "# Download Report From S3\n",
    "The class-imbalance metric should match the value calculated for the unbalanced dataset using the open source version above."
   ]
  },
  {
   "cell_type": "code",
   "execution_count": 19,
   "id": "2d472e7b-6bea-4d28-a1db-6fae5e6be39a",
   "metadata": {
    "tags": []
   },
   "outputs": [
    {
     "name": "stdout",
     "output_type": "stream",
     "text": [
      "2023-03-24 18:49:50   13673831 amazon_reviews_us_Digital_Software_v1_00_autopilot.csv\n",
      "2023-04-06 16:45:44       1949 analysis.json\n",
      "2023-04-06 16:40:08       1625 analysis_config.json\n",
      "2023-04-06 16:45:44     524380 report.html\n",
      "2023-04-06 16:45:44     253339 report.ipynb\n",
      "2023-04-06 16:45:44     268461 report.pdf\n",
      "2023-04-06 03:56:51    6232387 wildfire_risk_autopilot.csv\n"
     ]
    }
   ],
   "source": [
    "!aws s3 ls $bias_report_output_path/"
   ]
  },
  {
   "cell_type": "code",
   "execution_count": 20,
   "id": "e2a1ed70-f862-45bf-9a73-a0197c8f85ec",
   "metadata": {
    "tags": []
   },
   "outputs": [
    {
     "name": "stdout",
     "output_type": "stream",
     "text": [
      "download: s3://sagemaker-us-east-1-857283526476/data/analysis.json to generated_bias_report/analysis.json\n",
      "download: s3://sagemaker-us-east-1-857283526476/data/analysis_config.json to generated_bias_report/analysis_config.json\n",
      "download: s3://sagemaker-us-east-1-857283526476/data/report.ipynb to generated_bias_report/report.ipynb\n",
      "download: s3://sagemaker-us-east-1-857283526476/data/report.html to generated_bias_report/report.html\n",
      "download: s3://sagemaker-us-east-1-857283526476/data/report.pdf to generated_bias_report/report.pdf\n",
      "download: s3://sagemaker-us-east-1-857283526476/data/amazon_reviews_us_Digital_Software_v1_00_autopilot.csv to generated_bias_report/amazon_reviews_us_Digital_Software_v1_00_autopilot.csv\n",
      "download: s3://sagemaker-us-east-1-857283526476/data/wildfire_risk_autopilot.csv to generated_bias_report/wildfire_risk_autopilot.csv\n"
     ]
    }
   ],
   "source": [
    "!aws s3 cp --recursive $bias_report_output_path ./generated_bias_report/"
   ]
  },
  {
   "cell_type": "code",
   "execution_count": 21,
   "id": "218bdebe-7a8e-4611-a48a-6f0f85452b3a",
   "metadata": {
    "tags": []
   },
   "outputs": [
    {
     "data": {
      "text/html": [
       "<b>Review <a target=\"blank\" href=\"./generated_bias_report/report.html\">Bias Report</a></b>"
      ],
      "text/plain": [
       "<IPython.core.display.HTML object>"
      ]
     },
     "metadata": {},
     "output_type": "display_data"
    }
   ],
   "source": [
    "from IPython.core.display import display, HTML\n",
    "\n",
    "display(HTML('<b>Review <a target=\"blank\" href=\"./generated_bias_report/report.html\">Bias Report</a></b>'))"
   ]
  },
  {
   "cell_type": "markdown",
   "id": "d58004ee-6ca5-4af7-8779-11f6892a32f0",
   "metadata": {},
   "source": [
    "# Preparing the Data"
   ]
  },
  {
   "cell_type": "code",
   "execution_count": 22,
   "id": "62f91bbd-1b77-4416-bd9d-8b64476f6374",
   "metadata": {
    "tags": []
   },
   "outputs": [
    {
     "name": "stdout",
     "output_type": "stream",
     "text": [
      "Shape of dataframe before splitting (42289, 89)\n"
     ]
    }
   ],
   "source": [
    "print(\"Shape of dataframe before splitting {}\".format(data.shape))"
   ]
  },
  {
   "cell_type": "code",
   "execution_count": 23,
   "id": "c3611d68-9cd2-403c-8358-a2922d3d7145",
   "metadata": {
    "tags": []
   },
   "outputs": [
    {
     "name": "stdout",
     "output_type": "stream",
     "text": [
      "FinalAcres                  99.99%\n",
      "PredominantFuelModel        99.93%\n",
      "FireCauseGeneral             99.9%\n",
      "POOCity                     99.74%\n",
      "FireBehaviorGeneral3        99.73%\n",
      "FireBehaviorGeneral2        99.68%\n",
      "IncidentShortDescription    99.67%\n",
      "FireBehaviorGeneral1        99.65%\n",
      "PrimaryFuelModel            99.61%\n",
      "FireBehaviorGeneral         99.61%\n",
      "EstimatedCostToDate         99.57%\n",
      "ContainmentDateTime         89.05%\n",
      "ControlDateTime              88.9%\n",
      "FireOutDateTime              87.4%\n",
      "IsTrespass                  83.72%\n",
      "DiscoveryAcres              78.62%\n",
      "GACC                         77.0%\n",
      "POOState                    76.99%\n",
      "IncidentName                76.99%\n",
      "FireCause                   76.99%\n",
      "InitialLatitude             76.99%\n",
      "InitialLongitude            76.99%\n",
      "FireDiscoveryDateTime       76.99%\n",
      "ym_date                     76.99%\n",
      "PRESNFCD                    65.25%\n",
      "CDSD_ATTRIBUTES              6.41%\n",
      "CDSD                         5.46%\n",
      "HDSD_ATTRIBUTES              5.22%\n",
      "STDAGE                       49.4%\n",
      "SICOND                      49.04%\n",
      "FLDAGE                      44.17%\n",
      "SLOPE                       44.17%\n",
      "GSSTKCD                     44.17%\n",
      "TRTCD1                      44.17%\n",
      "CARBON_DOWN_DEAD            44.17%\n",
      "SITECLCD                    44.17%\n",
      "CARBON_SOIL_ORG             44.17%\n",
      "CARBON_STANDING_DEAD        44.17%\n",
      "CARBON_UNDERSTORY_AG        44.17%\n",
      "CARBON_UNDERSTORY_BG        44.17%\n",
      "CARBON_LITTER               44.17%\n",
      "STDORGCD                    44.17%\n",
      "FLDSZCD                     44.17%\n",
      "MAPDEN                      44.17%\n",
      "STDSZCD                     44.17%\n",
      "HDSD                         4.24%\n",
      "PHYSCLCD                     37.1%\n",
      "DSTRBCD1                     37.1%\n",
      "WATERCD                     27.57%\n",
      "IsFireCauseInvestigated     100.0%\n",
      "FireCauseSpecific           100.0%\n",
      "HTDD                         0.11%\n",
      "HTDD_ATTRIBUTES              0.11%\n",
      "CLDD                         0.11%\n",
      "CLDD_ATTRIBUTES              0.11%\n",
      "TAVG                         0.07%\n",
      "TAVG_ATTRIBUTES              0.07%\n",
      "DX70                         0.04%\n",
      "DX32                         0.04%\n",
      "DX32_ATTRIBUTES              0.04%\n",
      "DX70_ATTRIBUTES              0.04%\n",
      "DX90_ATTRIBUTES              0.04%\n",
      "TMAX                         0.04%\n",
      "TMAX_ATTRIBUTES              0.04%\n",
      "EMXT_ATTRIBUTES              0.04%\n",
      "EMXT                         0.04%\n",
      "DX90                         0.04%\n",
      "EMNT                         0.02%\n",
      "DT32_ATTRIBUTES              0.02%\n",
      "DT32                         0.02%\n",
      "DT00_ATTRIBUTES              0.02%\n",
      "DT00                         0.02%\n",
      "TMIN                         0.02%\n",
      "TMIN_ATTRIBUTES              0.02%\n",
      "EMNT_ATTRIBUTES              0.02%\n",
      "STATION                       0.0%\n",
      "LON                           0.0%\n",
      "LAT                           0.0%\n",
      "STATE                         0.0%\n",
      "LATITUDE                      0.0%\n",
      "COND_STATUS_CD                0.0%\n",
      "PLT_CN                        0.0%\n",
      "month                         0.0%\n",
      "year                          0.0%\n",
      "geohash                       0.0%\n",
      "NAME                          0.0%\n",
      "ELEVATION                     0.0%\n",
      "LONGITUDE                     0.0%\n",
      "fire                          0.0%\n",
      "dtype: object\n"
     ]
    }
   ],
   "source": [
    "# % of NULLS\n",
    "\n",
    "# Compute the percentage of null values in each column\n",
    "null_percentages = (data.isnull().sum() / len(data)) * 100\n",
    "\n",
    "# Set the option to display all rows and columns\n",
    "pd.set_option(\"display.max_rows\", None, \"display.max_columns\", None)\n",
    "\n",
    "# Round the values to 2 decimal places and add a percent symbol\n",
    "null_percentages = null_percentages.round(2).astype(str) + '%'\n",
    "\n",
    "# Sort the values in descending order\n",
    "null_percentages = null_percentages.sort_values(ascending=False)\n",
    "\n",
    "# Print the results\n",
    "print(null_percentages)"
   ]
  },
  {
   "cell_type": "code",
   "execution_count": 24,
   "id": "146e6bf1-1530-4861-94e7-a33a5cbeaef4",
   "metadata": {
    "tags": []
   },
   "outputs": [],
   "source": [
    "# Drop columns with more than 75% null values\n",
    "\n",
    "threshold = 75.0\n",
    "null_percentages = null_percentages.str.rstrip('%').astype('float')\n",
    "cols_to_drop = null_percentages[null_percentages > threshold].index.tolist()\n",
    "data.drop(columns=cols_to_drop, inplace=True)"
   ]
  },
  {
   "cell_type": "code",
   "execution_count": 25,
   "id": "767570a0-f334-4d95-9294-ae740a2d04e3",
   "metadata": {},
   "outputs": [
    {
     "name": "stdout",
     "output_type": "stream",
     "text": [
      "<class 'pandas.core.frame.DataFrame'>\n",
      "RangeIndex: 42289 entries, 0 to 42288\n",
      "Data columns (total 63 columns):\n",
      " #   Column                Non-Null Count  Dtype  \n",
      "---  ------                --------------  -----  \n",
      " 0   STATION               42289 non-null  object \n",
      " 1   LATITUDE              42289 non-null  float64\n",
      " 2   LONGITUDE             42289 non-null  float64\n",
      " 3   ELEVATION             42289 non-null  float64\n",
      " 4   NAME                  42289 non-null  object \n",
      " 5   CDSD                  39981 non-null  float64\n",
      " 6   CDSD_ATTRIBUTES       39577 non-null  object \n",
      " 7   CLDD                  42241 non-null  float64\n",
      " 8   CLDD_ATTRIBUTES       42241 non-null  object \n",
      " 9   DT00                  42279 non-null  float64\n",
      " 10  DT00_ATTRIBUTES       42279 non-null  object \n",
      " 11  DT32                  42279 non-null  float64\n",
      " 12  DT32_ATTRIBUTES       42279 non-null  object \n",
      " 13  DX32                  42270 non-null  float64\n",
      " 14  DX32_ATTRIBUTES       42270 non-null  object \n",
      " 15  DX70                  42270 non-null  float64\n",
      " 16  DX70_ATTRIBUTES       42270 non-null  object \n",
      " 17  DX90                  42270 non-null  float64\n",
      " 18  DX90_ATTRIBUTES       42270 non-null  object \n",
      " 19  EMNT                  42279 non-null  float64\n",
      " 20  EMNT_ATTRIBUTES       42279 non-null  object \n",
      " 21  EMXT                  42270 non-null  float64\n",
      " 22  EMXT_ATTRIBUTES       42270 non-null  object \n",
      " 23  HDSD                  40494 non-null  float64\n",
      " 24  HDSD_ATTRIBUTES       40083 non-null  object \n",
      " 25  HTDD                  42241 non-null  float64\n",
      " 26  HTDD_ATTRIBUTES       42241 non-null  object \n",
      " 27  TAVG                  42260 non-null  float64\n",
      " 28  TAVG_ATTRIBUTES       42260 non-null  object \n",
      " 29  TMAX                  42270 non-null  float64\n",
      " 30  TMAX_ATTRIBUTES       42270 non-null  object \n",
      " 31  TMIN                  42279 non-null  float64\n",
      " 32  TMIN_ATTRIBUTES       42279 non-null  object \n",
      " 33  geohash               42289 non-null  object \n",
      " 34  year                  42289 non-null  int64  \n",
      " 35  month                 42289 non-null  int64  \n",
      " 36  PLT_CN                42289 non-null  int64  \n",
      " 37  COND_STATUS_CD        42289 non-null  int64  \n",
      " 38  MAPDEN                23608 non-null  float64\n",
      " 39  STDAGE                21400 non-null  float64\n",
      " 40  STDSZCD               23608 non-null  float64\n",
      " 41  FLDSZCD               23608 non-null  float64\n",
      " 42  SITECLCD              23608 non-null  float64\n",
      " 43  SICOND                21549 non-null  float64\n",
      " 44  STDORGCD              23608 non-null  float64\n",
      " 45  SLOPE                 23608 non-null  float64\n",
      " 46  PHYSCLCD              26600 non-null  float64\n",
      " 47  GSSTKCD               23608 non-null  float64\n",
      " 48  DSTRBCD1              26600 non-null  float64\n",
      " 49  TRTCD1                23608 non-null  float64\n",
      " 50  PRESNFCD              14696 non-null  float64\n",
      " 51  FLDAGE                23608 non-null  float64\n",
      " 52  CARBON_DOWN_DEAD      23608 non-null  float64\n",
      " 53  CARBON_LITTER         23608 non-null  float64\n",
      " 54  CARBON_SOIL_ORG       23608 non-null  float64\n",
      " 55  CARBON_STANDING_DEAD  23608 non-null  float64\n",
      " 56  CARBON_UNDERSTORY_AG  23608 non-null  float64\n",
      " 57  CARBON_UNDERSTORY_BG  23608 non-null  float64\n",
      " 58  STATE                 42289 non-null  object \n",
      " 59  WATERCD               30631 non-null  float64\n",
      " 60  LAT                   42289 non-null  float64\n",
      " 61  LON                   42289 non-null  float64\n",
      " 62  fire                  42289 non-null  float64\n",
      "dtypes: float64(41), int64(4), object(18)\n",
      "memory usage: 20.3+ MB\n"
     ]
    }
   ],
   "source": [
    "#Observe data_drop columns\n",
    "\n",
    "data.info()"
   ]
  },
  {
   "cell_type": "markdown",
   "id": "bbc4a672-9a61-4a1a-9753-bfbd8d5d9601",
   "metadata": {},
   "source": [
    "# Balance the Data"
   ]
  },
  {
   "cell_type": "code",
   "execution_count": 26,
   "id": "3fdbe612-4bb5-4ab2-b8ab-959f712d33a7",
   "metadata": {
    "tags": []
   },
   "outputs": [
    {
     "name": "stdout",
     "output_type": "stream",
     "text": [
      "Shape of balanced dataframe (19460, 63)\n"
     ]
    }
   ],
   "source": [
    "# Balance the dataset down to the minority class\n",
    "df_grouped_by = data.groupby([\"fire\"]) \n",
    "df_balanced = df_grouped_by.apply(lambda x: x.sample(df_grouped_by.size().min()).reset_index(drop=True))\n",
    "\n",
    "df_balanced = df_balanced.reset_index(drop=True)\n",
    "print(\"Shape of balanced dataframe {}\".format(df_balanced.shape))"
   ]
  },
  {
   "cell_type": "code",
   "execution_count": 27,
   "id": "ae98db0e-30e3-4384-b99b-47aa20d00147",
   "metadata": {
    "tags": []
   },
   "outputs": [
    {
     "data": {
      "image/png": "[encoded data removed]",
      "text/plain": [
       "<Figure size 640x480 with 1 Axes>"
      ]
     },
     "metadata": {},
     "output_type": "display_data"
    }
   ],
   "source": [
    "sns.countplot(data=df_balanced, x=\"fire\", hue=\"STATE\")\n",
    "plt.show()"
   ]
  },
  {
   "cell_type": "markdown",
   "id": "c93512e2-914a-4511-b42c-87a2489146f1",
   "metadata": {},
   "source": [
    "# Split the Data into Train, Validation, and Test Sets"
   ]
  },
  {
   "cell_type": "code",
   "execution_count": 28,
   "id": "e83fae01-ab10-4f9f-a282-04a3ebf785e4",
   "metadata": {
    "tags": []
   },
   "outputs": [],
   "source": [
    "from sklearn.model_selection import train_test_split\n",
    "\n",
    "# Split all data into 90% train and 10% holdout\n",
    "df_train, df_holdout = train_test_split(df_balanced, test_size=0.10, stratify=df_balanced[\"fire\"])\n",
    "\n",
    "# Split holdout data into 50% validation and 50% test\n",
    "df_validation, df_test = train_test_split(df_holdout, test_size=0.50, stratify=df_holdout[\"fire\"])"
   ]
  },
  {
   "cell_type": "code",
   "execution_count": 29,
   "id": "03b2b96a-771f-4df3-bc49-863440f96b9b",
   "metadata": {
    "tags": []
   },
   "outputs": [
    {
     "data": {
      "image/png": "[encoded data removed]",
      "text/plain": [
       "<Figure size 640x480 with 1 Axes>"
      ]
     },
     "metadata": {},
     "output_type": "display_data"
    }
   ],
   "source": [
    "# Pie chart, where the slices will be ordered and plotted counter-clockwise:\n",
    "labels = [\"Train\", \"Validation\", \"Test\"]\n",
    "sizes = [len(df_train.index), len(df_validation.index), len(df_test.index)]\n",
    "explode = (0.1, 0, 0)\n",
    "\n",
    "fig1, ax1 = plt.subplots()\n",
    "\n",
    "ax1.pie(sizes, explode=explode, labels=labels, autopct=\"%1.1f%%\", startangle=90)\n",
    "\n",
    "# Equal aspect ratio ensures that pie is drawn as a circle.\n",
    "ax1.axis(\"equal\")\n",
    "\n",
    "plt.show()"
   ]
  },
  {
   "cell_type": "markdown",
   "id": "c60ffad9-23bb-4134-9834-f81af8b14200",
   "metadata": {},
   "source": [
    "# Show 90% Train, 5% Validation, and 5% Test Data Split"
   ]
  },
  {
   "cell_type": "code",
   "execution_count": 30,
   "id": "afd5de46-eb2b-4261-96d7-6d8509f3a1ca",
   "metadata": {
    "tags": []
   },
   "outputs": [
    {
     "data": {
      "text/plain": [
       "(17514, 63)"
      ]
     },
     "execution_count": 30,
     "metadata": {},
     "output_type": "execute_result"
    }
   ],
   "source": [
    "df_train.shape"
   ]
  },
  {
   "cell_type": "code",
   "execution_count": 31,
   "id": "84775167-87a8-4ea6-9d1a-c21bb34871b7",
   "metadata": {
    "tags": []
   },
   "outputs": [
    {
     "data": {
      "text/plain": [
       "(973, 63)"
      ]
     },
     "execution_count": 31,
     "metadata": {},
     "output_type": "execute_result"
    }
   ],
   "source": [
    "df_validation.shape"
   ]
  },
  {
   "cell_type": "code",
   "execution_count": 32,
   "id": "b185b01e-432d-4a93-81ff-45b9c94129a9",
   "metadata": {
    "tags": []
   },
   "outputs": [
    {
     "data": {
      "text/plain": [
       "(973, 63)"
      ]
     },
     "execution_count": 32,
     "metadata": {},
     "output_type": "execute_result"
    }
   ],
   "source": [
    "df_test.shape"
   ]
  },
  {
   "cell_type": "code",
   "execution_count": 33,
   "id": "2b5dd936-fa61-4661-ab0e-df00c4143bc7",
   "metadata": {
    "tags": []
   },
   "outputs": [
    {
     "data": {
      "text/html": [
       "<div>\n",
       "<style scoped>\n",
       "    .dataframe tbody tr th:only-of-type {\n",
       "        vertical-align: middle;\n",
       "    }\n",
       "\n",
       "    .dataframe tbody tr th {\n",
       "        vertical-align: top;\n",
       "    }\n",
       "\n",
       "    .dataframe thead th {\n",
       "        text-align: right;\n",
       "    }\n",
       "</style>\n",
       "<table border=\"1\" class=\"dataframe\">\n",
       "  <thead>\n",
       "    <tr style=\"text-align: right;\">\n",
       "      <th></th>\n",
       "      <th>STATION</th>\n",
       "      <th>LATITUDE</th>\n",
       "      <th>LONGITUDE</th>\n",
       "      <th>ELEVATION</th>\n",
       "      <th>NAME</th>\n",
       "      <th>CDSD</th>\n",
       "      <th>CDSD_ATTRIBUTES</th>\n",
       "      <th>CLDD</th>\n",
       "      <th>CLDD_ATTRIBUTES</th>\n",
       "      <th>DT00</th>\n",
       "      <th>DT00_ATTRIBUTES</th>\n",
       "      <th>DT32</th>\n",
       "      <th>DT32_ATTRIBUTES</th>\n",
       "      <th>DX32</th>\n",
       "      <th>DX32_ATTRIBUTES</th>\n",
       "      <th>DX70</th>\n",
       "      <th>DX70_ATTRIBUTES</th>\n",
       "      <th>DX90</th>\n",
       "      <th>DX90_ATTRIBUTES</th>\n",
       "      <th>EMNT</th>\n",
       "      <th>EMNT_ATTRIBUTES</th>\n",
       "      <th>EMXT</th>\n",
       "      <th>EMXT_ATTRIBUTES</th>\n",
       "      <th>HDSD</th>\n",
       "      <th>HDSD_ATTRIBUTES</th>\n",
       "      <th>HTDD</th>\n",
       "      <th>HTDD_ATTRIBUTES</th>\n",
       "      <th>TAVG</th>\n",
       "      <th>TAVG_ATTRIBUTES</th>\n",
       "      <th>TMAX</th>\n",
       "      <th>TMAX_ATTRIBUTES</th>\n",
       "      <th>TMIN</th>\n",
       "      <th>TMIN_ATTRIBUTES</th>\n",
       "      <th>geohash</th>\n",
       "      <th>year</th>\n",
       "      <th>month</th>\n",
       "      <th>PLT_CN</th>\n",
       "      <th>COND_STATUS_CD</th>\n",
       "      <th>MAPDEN</th>\n",
       "      <th>STDAGE</th>\n",
       "      <th>STDSZCD</th>\n",
       "      <th>FLDSZCD</th>\n",
       "      <th>SITECLCD</th>\n",
       "      <th>SICOND</th>\n",
       "      <th>STDORGCD</th>\n",
       "      <th>SLOPE</th>\n",
       "      <th>PHYSCLCD</th>\n",
       "      <th>GSSTKCD</th>\n",
       "      <th>DSTRBCD1</th>\n",
       "      <th>TRTCD1</th>\n",
       "      <th>PRESNFCD</th>\n",
       "      <th>FLDAGE</th>\n",
       "      <th>CARBON_DOWN_DEAD</th>\n",
       "      <th>CARBON_LITTER</th>\n",
       "      <th>CARBON_SOIL_ORG</th>\n",
       "      <th>CARBON_STANDING_DEAD</th>\n",
       "      <th>CARBON_UNDERSTORY_AG</th>\n",
       "      <th>CARBON_UNDERSTORY_BG</th>\n",
       "      <th>STATE</th>\n",
       "      <th>WATERCD</th>\n",
       "      <th>LAT</th>\n",
       "      <th>LON</th>\n",
       "      <th>fire</th>\n",
       "    </tr>\n",
       "  </thead>\n",
       "  <tbody>\n",
       "    <tr>\n",
       "      <th>2130</th>\n",
       "      <td>USR0000OKE2</td>\n",
       "      <td>44.6661</td>\n",
       "      <td>-118.9208</td>\n",
       "      <td>1560.6</td>\n",
       "      <td>KEENEY TWO OREGON, OR US</td>\n",
       "      <td>4.8</td>\n",
       "      <td>U</td>\n",
       "      <td>4.8</td>\n",
       "      <td>,U</td>\n",
       "      <td>0.0</td>\n",
       "      <td>,U</td>\n",
       "      <td>10.0</td>\n",
       "      <td>,U</td>\n",
       "      <td>0.0</td>\n",
       "      <td>,U</td>\n",
       "      <td>9.0</td>\n",
       "      <td>,U</td>\n",
       "      <td>0.0</td>\n",
       "      <td>,U</td>\n",
       "      <td>-3.3</td>\n",
       "      <td>,U,07,</td>\n",
       "      <td>28.3</td>\n",
       "      <td>,U,30,</td>\n",
       "      <td>4055.6</td>\n",
       "      <td>U</td>\n",
       "      <td>267.5</td>\n",
       "      <td>,U</td>\n",
       "      <td>9.86</td>\n",
       "      <td>,U</td>\n",
       "      <td>15.84</td>\n",
       "      <td>,,,U</td>\n",
       "      <td>3.87</td>\n",
       "      <td>,,,U</td>\n",
       "      <td>8528aa2bfffffff</td>\n",
       "      <td>2017</td>\n",
       "      <td>5</td>\n",
       "      <td>444202233489998</td>\n",
       "      <td>1</td>\n",
       "      <td>1.0</td>\n",
       "      <td>60.0</td>\n",
       "      <td>1.0</td>\n",
       "      <td>2.0</td>\n",
       "      <td>5.0</td>\n",
       "      <td>79.0</td>\n",
       "      <td>0.0</td>\n",
       "      <td>35.0</td>\n",
       "      <td>22.0</td>\n",
       "      <td>3.0</td>\n",
       "      <td>0.0</td>\n",
       "      <td>0.0</td>\n",
       "      <td>NaN</td>\n",
       "      <td>60.0</td>\n",
       "      <td>3.521277</td>\n",
       "      <td>14.783938</td>\n",
       "      <td>27.720882</td>\n",
       "      <td>5.667277</td>\n",
       "      <td>1.030544</td>\n",
       "      <td>0.114505</td>\n",
       "      <td>OR</td>\n",
       "      <td>0.0</td>\n",
       "      <td>44.599231</td>\n",
       "      <td>-118.867771</td>\n",
       "      <td>0.0</td>\n",
       "    </tr>\n",
       "    <tr>\n",
       "      <th>255</th>\n",
       "      <td>USR0000CBRK</td>\n",
       "      <td>36.0931</td>\n",
       "      <td>-118.2603</td>\n",
       "      <td>2499.4</td>\n",
       "      <td>BLACKROCK CALIFORNIA, CA US</td>\n",
       "      <td>0.0</td>\n",
       "      <td>U</td>\n",
       "      <td>0.0</td>\n",
       "      <td>,U</td>\n",
       "      <td>0.0</td>\n",
       "      <td>,U</td>\n",
       "      <td>30.0</td>\n",
       "      <td>,U</td>\n",
       "      <td>2.0</td>\n",
       "      <td>,U</td>\n",
       "      <td>0.0</td>\n",
       "      <td>,U</td>\n",
       "      <td>0.0</td>\n",
       "      <td>,U</td>\n",
       "      <td>-13.3</td>\n",
       "      <td>,U,26,</td>\n",
       "      <td>16.7</td>\n",
       "      <td>,U,31,+</td>\n",
       "      <td>1809.7</td>\n",
       "      <td>U</td>\n",
       "      <td>474.0</td>\n",
       "      <td>,U</td>\n",
       "      <td>3.04</td>\n",
       "      <td>,U</td>\n",
       "      <td>9.90</td>\n",
       "      <td>,,,U</td>\n",
       "      <td>-3.81</td>\n",
       "      <td>,,,U</td>\n",
       "      <td>8529ae63fffffff</td>\n",
       "      <td>2018</td>\n",
       "      <td>1</td>\n",
       "      <td>484817187489998</td>\n",
       "      <td>1</td>\n",
       "      <td>1.0</td>\n",
       "      <td>100.0</td>\n",
       "      <td>1.0</td>\n",
       "      <td>3.0</td>\n",
       "      <td>5.0</td>\n",
       "      <td>42.0</td>\n",
       "      <td>0.0</td>\n",
       "      <td>26.0</td>\n",
       "      <td>22.0</td>\n",
       "      <td>2.0</td>\n",
       "      <td>0.0</td>\n",
       "      <td>0.0</td>\n",
       "      <td>NaN</td>\n",
       "      <td>100.0</td>\n",
       "      <td>6.276591</td>\n",
       "      <td>16.527200</td>\n",
       "      <td>22.216451</td>\n",
       "      <td>7.324724</td>\n",
       "      <td>0.489455</td>\n",
       "      <td>0.054384</td>\n",
       "      <td>CA</td>\n",
       "      <td>0.0</td>\n",
       "      <td>36.064916</td>\n",
       "      <td>-118.218929</td>\n",
       "      <td>0.0</td>\n",
       "    </tr>\n",
       "    <tr>\n",
       "      <th>2260</th>\n",
       "      <td>USR0000CBOO</td>\n",
       "      <td>38.9875</td>\n",
       "      <td>-123.3486</td>\n",
       "      <td>196.3</td>\n",
       "      <td>BOONVILLE CALIFORNIA, CA US</td>\n",
       "      <td>0.0</td>\n",
       "      <td>U</td>\n",
       "      <td>0.0</td>\n",
       "      <td>,U</td>\n",
       "      <td>0.0</td>\n",
       "      <td>,U</td>\n",
       "      <td>2.0</td>\n",
       "      <td>,U</td>\n",
       "      <td>0.0</td>\n",
       "      <td>,U</td>\n",
       "      <td>2.0</td>\n",
       "      <td>,U</td>\n",
       "      <td>0.0</td>\n",
       "      <td>,U</td>\n",
       "      <td>-2.2</td>\n",
       "      <td>,U,01,</td>\n",
       "      <td>22.8</td>\n",
       "      <td>,U,27,</td>\n",
       "      <td>801.2</td>\n",
       "      <td>U</td>\n",
       "      <td>240.4</td>\n",
       "      <td>,U</td>\n",
       "      <td>10.58</td>\n",
       "      <td>,U</td>\n",
       "      <td>15.22</td>\n",
       "      <td>,,,U</td>\n",
       "      <td>5.93</td>\n",
       "      <td>,,,U</td>\n",
       "      <td>85283163fffffff</td>\n",
       "      <td>2019</td>\n",
       "      <td>1</td>\n",
       "      <td>558626445126144</td>\n",
       "      <td>2</td>\n",
       "      <td>NaN</td>\n",
       "      <td>NaN</td>\n",
       "      <td>NaN</td>\n",
       "      <td>NaN</td>\n",
       "      <td>NaN</td>\n",
       "      <td>NaN</td>\n",
       "      <td>NaN</td>\n",
       "      <td>NaN</td>\n",
       "      <td>NaN</td>\n",
       "      <td>NaN</td>\n",
       "      <td>NaN</td>\n",
       "      <td>NaN</td>\n",
       "      <td>20.0</td>\n",
       "      <td>NaN</td>\n",
       "      <td>NaN</td>\n",
       "      <td>NaN</td>\n",
       "      <td>NaN</td>\n",
       "      <td>NaN</td>\n",
       "      <td>NaN</td>\n",
       "      <td>NaN</td>\n",
       "      <td>CA</td>\n",
       "      <td>0.0</td>\n",
       "      <td>38.992735</td>\n",
       "      <td>-123.333129</td>\n",
       "      <td>0.0</td>\n",
       "    </tr>\n",
       "    <tr>\n",
       "      <th>3926</th>\n",
       "      <td>USR0000CKON</td>\n",
       "      <td>38.9119</td>\n",
       "      <td>-122.7064</td>\n",
       "      <td>659.3</td>\n",
       "      <td>KONOCTI CALIFORNIA, CA US</td>\n",
       "      <td>448.3</td>\n",
       "      <td>U</td>\n",
       "      <td>232.8</td>\n",
       "      <td>,U</td>\n",
       "      <td>0.0</td>\n",
       "      <td>,U</td>\n",
       "      <td>0.0</td>\n",
       "      <td>,U</td>\n",
       "      <td>0.0</td>\n",
       "      <td>,U</td>\n",
       "      <td>31.0</td>\n",
       "      <td>,U</td>\n",
       "      <td>19.0</td>\n",
       "      <td>,U</td>\n",
       "      <td>10.6</td>\n",
       "      <td>,U,10,</td>\n",
       "      <td>40.0</td>\n",
       "      <td>,U,29,+</td>\n",
       "      <td>1.4</td>\n",
       "      <td>U</td>\n",
       "      <td>1.4</td>\n",
       "      <td>,U</td>\n",
       "      <td>25.80</td>\n",
       "      <td>,U</td>\n",
       "      <td>33.38</td>\n",
       "      <td>,,,U</td>\n",
       "      <td>18.22</td>\n",
       "      <td>,,,U</td>\n",
       "      <td>8528314bfffffff</td>\n",
       "      <td>2016</td>\n",
       "      <td>7</td>\n",
       "      <td>345935333489998</td>\n",
       "      <td>1</td>\n",
       "      <td>1.0</td>\n",
       "      <td>NaN</td>\n",
       "      <td>2.0</td>\n",
       "      <td>2.0</td>\n",
       "      <td>7.0</td>\n",
       "      <td>NaN</td>\n",
       "      <td>0.0</td>\n",
       "      <td>57.0</td>\n",
       "      <td>19.0</td>\n",
       "      <td>5.0</td>\n",
       "      <td>0.0</td>\n",
       "      <td>0.0</td>\n",
       "      <td>NaN</td>\n",
       "      <td>998.0</td>\n",
       "      <td>0.217207</td>\n",
       "      <td>14.140916</td>\n",
       "      <td>12.305077</td>\n",
       "      <td>0.000000</td>\n",
       "      <td>1.904834</td>\n",
       "      <td>0.211648</td>\n",
       "      <td>CA</td>\n",
       "      <td>0.0</td>\n",
       "      <td>38.844304</td>\n",
       "      <td>-122.791696</td>\n",
       "      <td>0.0</td>\n",
       "    </tr>\n",
       "    <tr>\n",
       "      <th>18258</th>\n",
       "      <td>USR0000CWHH</td>\n",
       "      <td>33.9839</td>\n",
       "      <td>-118.0100</td>\n",
       "      <td>289.6</td>\n",
       "      <td>WHITTIER HILLS CALIFORNIA, CA US</td>\n",
       "      <td>285.3</td>\n",
       "      <td>U</td>\n",
       "      <td>167.7</td>\n",
       "      <td>,U</td>\n",
       "      <td>0.0</td>\n",
       "      <td>,U</td>\n",
       "      <td>0.0</td>\n",
       "      <td>,U</td>\n",
       "      <td>0.0</td>\n",
       "      <td>,U</td>\n",
       "      <td>31.0</td>\n",
       "      <td>,U</td>\n",
       "      <td>10.0</td>\n",
       "      <td>,U</td>\n",
       "      <td>14.4</td>\n",
       "      <td>,U,19,+</td>\n",
       "      <td>38.9</td>\n",
       "      <td>,U,24,</td>\n",
       "      <td>0.0</td>\n",
       "      <td>U</td>\n",
       "      <td>0.0</td>\n",
       "      <td>,U</td>\n",
       "      <td>23.74</td>\n",
       "      <td>,U</td>\n",
       "      <td>31.17</td>\n",
       "      <td>,,,U</td>\n",
       "      <td>16.32</td>\n",
       "      <td>,,,U</td>\n",
       "      <td>8529a0a7fffffff</td>\n",
       "      <td>2019</td>\n",
       "      <td>7</td>\n",
       "      <td>558627782126144</td>\n",
       "      <td>2</td>\n",
       "      <td>NaN</td>\n",
       "      <td>NaN</td>\n",
       "      <td>NaN</td>\n",
       "      <td>NaN</td>\n",
       "      <td>NaN</td>\n",
       "      <td>NaN</td>\n",
       "      <td>NaN</td>\n",
       "      <td>NaN</td>\n",
       "      <td>NaN</td>\n",
       "      <td>NaN</td>\n",
       "      <td>NaN</td>\n",
       "      <td>NaN</td>\n",
       "      <td>31.0</td>\n",
       "      <td>NaN</td>\n",
       "      <td>NaN</td>\n",
       "      <td>NaN</td>\n",
       "      <td>NaN</td>\n",
       "      <td>NaN</td>\n",
       "      <td>NaN</td>\n",
       "      <td>NaN</td>\n",
       "      <td>CA</td>\n",
       "      <td>NaN</td>\n",
       "      <td>33.867761</td>\n",
       "      <td>-117.963377</td>\n",
       "      <td>1.0</td>\n",
       "    </tr>\n",
       "  </tbody>\n",
       "</table>\n",
       "</div>"
      ],
      "text/plain": [
       "           STATION  LATITUDE  LONGITUDE  ELEVATION  \\\n",
       "2130   USR0000OKE2   44.6661  -118.9208     1560.6   \n",
       "255    USR0000CBRK   36.0931  -118.2603     2499.4   \n",
       "2260   USR0000CBOO   38.9875  -123.3486      196.3   \n",
       "3926   USR0000CKON   38.9119  -122.7064      659.3   \n",
       "18258  USR0000CWHH   33.9839  -118.0100      289.6   \n",
       "\n",
       "                                   NAME   CDSD CDSD_ATTRIBUTES   CLDD  \\\n",
       "2130           KEENEY TWO OREGON, OR US    4.8               U    4.8   \n",
       "255         BLACKROCK CALIFORNIA, CA US    0.0               U    0.0   \n",
       "2260        BOONVILLE CALIFORNIA, CA US    0.0               U    0.0   \n",
       "3926          KONOCTI CALIFORNIA, CA US  448.3               U  232.8   \n",
       "18258  WHITTIER HILLS CALIFORNIA, CA US  285.3               U  167.7   \n",
       "\n",
       "      CLDD_ATTRIBUTES  DT00 DT00_ATTRIBUTES  DT32 DT32_ATTRIBUTES  DX32  \\\n",
       "2130               ,U   0.0              ,U  10.0              ,U   0.0   \n",
       "255                ,U   0.0              ,U  30.0              ,U   2.0   \n",
       "2260               ,U   0.0              ,U   2.0              ,U   0.0   \n",
       "3926               ,U   0.0              ,U   0.0              ,U   0.0   \n",
       "18258              ,U   0.0              ,U   0.0              ,U   0.0   \n",
       "\n",
       "      DX32_ATTRIBUTES  DX70 DX70_ATTRIBUTES  DX90 DX90_ATTRIBUTES  EMNT  \\\n",
       "2130               ,U   9.0              ,U   0.0              ,U  -3.3   \n",
       "255                ,U   0.0              ,U   0.0              ,U -13.3   \n",
       "2260               ,U   2.0              ,U   0.0              ,U  -2.2   \n",
       "3926               ,U  31.0              ,U  19.0              ,U  10.6   \n",
       "18258              ,U  31.0              ,U  10.0              ,U  14.4   \n",
       "\n",
       "      EMNT_ATTRIBUTES  EMXT EMXT_ATTRIBUTES    HDSD HDSD_ATTRIBUTES   HTDD  \\\n",
       "2130           ,U,07,  28.3          ,U,30,  4055.6               U  267.5   \n",
       "255            ,U,26,  16.7         ,U,31,+  1809.7               U  474.0   \n",
       "2260           ,U,01,  22.8          ,U,27,   801.2               U  240.4   \n",
       "3926           ,U,10,  40.0         ,U,29,+     1.4               U    1.4   \n",
       "18258         ,U,19,+  38.9          ,U,24,     0.0               U    0.0   \n",
       "\n",
       "      HTDD_ATTRIBUTES   TAVG TAVG_ATTRIBUTES   TMAX TMAX_ATTRIBUTES   TMIN  \\\n",
       "2130               ,U   9.86              ,U  15.84            ,,,U   3.87   \n",
       "255                ,U   3.04              ,U   9.90            ,,,U  -3.81   \n",
       "2260               ,U  10.58              ,U  15.22            ,,,U   5.93   \n",
       "3926               ,U  25.80              ,U  33.38            ,,,U  18.22   \n",
       "18258              ,U  23.74              ,U  31.17            ,,,U  16.32   \n",
       "\n",
       "      TMIN_ATTRIBUTES          geohash  year  month           PLT_CN  \\\n",
       "2130             ,,,U  8528aa2bfffffff  2017      5  444202233489998   \n",
       "255              ,,,U  8529ae63fffffff  2018      1  484817187489998   \n",
       "2260             ,,,U  85283163fffffff  2019      1  558626445126144   \n",
       "3926             ,,,U  8528314bfffffff  2016      7  345935333489998   \n",
       "18258            ,,,U  8529a0a7fffffff  2019      7  558627782126144   \n",
       "\n",
       "       COND_STATUS_CD  MAPDEN  STDAGE  STDSZCD  FLDSZCD  SITECLCD  SICOND  \\\n",
       "2130                1     1.0    60.0      1.0      2.0       5.0    79.0   \n",
       "255                 1     1.0   100.0      1.0      3.0       5.0    42.0   \n",
       "2260                2     NaN     NaN      NaN      NaN       NaN     NaN   \n",
       "3926                1     1.0     NaN      2.0      2.0       7.0     NaN   \n",
       "18258               2     NaN     NaN      NaN      NaN       NaN     NaN   \n",
       "\n",
       "       STDORGCD  SLOPE  PHYSCLCD  GSSTKCD  DSTRBCD1  TRTCD1  PRESNFCD  FLDAGE  \\\n",
       "2130        0.0   35.0      22.0      3.0       0.0     0.0       NaN    60.0   \n",
       "255         0.0   26.0      22.0      2.0       0.0     0.0       NaN   100.0   \n",
       "2260        NaN    NaN       NaN      NaN       NaN     NaN      20.0     NaN   \n",
       "3926        0.0   57.0      19.0      5.0       0.0     0.0       NaN   998.0   \n",
       "18258       NaN    NaN       NaN      NaN       NaN     NaN      31.0     NaN   \n",
       "\n",
       "       CARBON_DOWN_DEAD  CARBON_LITTER  CARBON_SOIL_ORG  CARBON_STANDING_DEAD  \\\n",
       "2130           3.521277      14.783938        27.720882              5.667277   \n",
       "255            6.276591      16.527200        22.216451              7.324724   \n",
       "2260                NaN            NaN              NaN                   NaN   \n",
       "3926           0.217207      14.140916        12.305077              0.000000   \n",
       "18258               NaN            NaN              NaN                   NaN   \n",
       "\n",
       "       CARBON_UNDERSTORY_AG  CARBON_UNDERSTORY_BG STATE  WATERCD        LAT  \\\n",
       "2130               1.030544              0.114505    OR      0.0  44.599231   \n",
       "255                0.489455              0.054384    CA      0.0  36.064916   \n",
       "2260                    NaN                   NaN    CA      0.0  38.992735   \n",
       "3926               1.904834              0.211648    CA      0.0  38.844304   \n",
       "18258                   NaN                   NaN    CA      NaN  33.867761   \n",
       "\n",
       "              LON  fire  \n",
       "2130  -118.867771   0.0  \n",
       "255   -118.218929   0.0  \n",
       "2260  -123.333129   0.0  \n",
       "3926  -122.791696   0.0  \n",
       "18258 -117.963377   1.0  "
      ]
     },
     "execution_count": 33,
     "metadata": {},
     "output_type": "execute_result"
    }
   ],
   "source": [
    "df_train.head(5)"
   ]
  },
  {
   "cell_type": "code",
   "execution_count": 34,
   "id": "7b1d5f66-68d1-4d77-ae12-0bfc7b51361b",
   "metadata": {
    "tags": []
   },
   "outputs": [],
   "source": [
    "#Write a Train csv with Header for Autopilot\n",
    "autopilot_train_path_wildfire = \"./wildfire_risk_autopilot.csv\"\n",
    "df_train.to_csv(autopilot_train_path_wildfire, index=False, header=True)"
   ]
  },
  {
   "cell_type": "code",
   "execution_count": 35,
   "id": "7b406428-752c-4e7c-b612-fa6e11b2d05b",
   "metadata": {
    "tags": []
   },
   "outputs": [
    {
     "data": {
      "text/plain": [
       "'s3://sagemaker-us-east-1-857283526476/data/wildfire_risk_autopilot.csv'"
      ]
     },
     "execution_count": 35,
     "metadata": {},
     "output_type": "execute_result"
    }
   ],
   "source": [
    "train_s3_prefix_wildfire = \"data\"\n",
    "autopilot_train_s3_wildfire = sess.upload_data(path=autopilot_train_path_wildfire, key_prefix=train_s3_prefix_wildfire)\n",
    "autopilot_train_s3_wildfire"
   ]
  },
  {
   "cell_type": "code",
   "execution_count": 36,
   "id": "447f658d-06fc-4399-8d43-30980cf14d73",
   "metadata": {
    "tags": []
   },
   "outputs": [
    {
     "name": "stdout",
     "output_type": "stream",
     "text": [
      "2023-04-06 16:45:57    6233547 wildfire_risk_autopilot.csv\n"
     ]
    }
   ],
   "source": [
    "!aws s3 ls $autopilot_train_s3_wildfire"
   ]
  },
  {
   "cell_type": "markdown",
   "id": "18dd878c-f915-476b-a4f3-63544e85be3b",
   "metadata": {},
   "source": [
    "# Store Variables and Close Session"
   ]
  },
  {
   "cell_type": "code",
   "execution_count": 37,
   "id": "58e49f3b-2311-4116-9f26-f5f51a5308f0",
   "metadata": {
    "tags": []
   },
   "outputs": [
    {
     "name": "stdout",
     "output_type": "stream",
     "text": [
      "Stored 'autopilot_train_s3_wildfire' (str)\n",
      "Stored variables and their in-db values:\n",
      "auto_ml_job_name                                      -> 'automl-dm-30-03-35-20'\n",
      "auto_ml_job_name_wf                                   -> 'automl-fire-03-05-42-40'\n",
      "autopilot_endpoint_arn                                -> 'arn:aws:sagemaker:us-east-1:857283526476:endpoint\n",
      "autopilot_endpoint_wf                                 -> 'automl-dm-ep-30-04-47-49'\n",
      "autopilot_model_arn_wf                                -> 'arn:aws:sagemaker:us-east-1:857283526476:model/au\n",
      "autopilot_model_wf                                    -> 'automl-dm-model-30-04-47-47'\n",
      "autopilot_train_s3_uri                                -> 's3://sagemaker-us-east-1-857283526476/data/amazon\n",
      "autopilot_train_s3_wf                                 -> 's3://sagemaker-us-east-1-857283526476/data/wildfi\n",
      "autopilot_train_s3_wildfire                           -> 's3://sagemaker-us-east-1-857283526476/data/wildfi\n",
      "balanced_bias_data_jsonlines_s3_uri                   -> 's3://sagemaker-us-east-1-857283526476/bias-detect\n",
      "balanced_bias_data_s3_uri                             -> 's3://sagemaker-us-east-1-857283526476/bias-detect\n",
      "bias_data_s3_uri                                      -> 's3://sagemaker-us-east-1-857283526476/bias-detect\n",
      "ingest_create_athena_db_passed                        -> True\n",
      "ingest_create_athena_table_parquet_passed             -> True\n",
      "ingest_create_athena_table_passed                     -> True\n",
      "ingest_create_athena_table_tsv_passed                 -> True\n",
      "s3_private_path                                       -> 's3://sagemaker-us-east-1-857283526476/widfire-ris\n",
      "s3_private_path_tsv                                   -> 's3://sagemaker-us-east-1-857283526476/amazon-revi\n",
      "s3_public_path                                        -> 's3://wildfire-risk/'\n",
      "s3_public_path_tsv                                    -> 's3://amazon-reviews-pds/tsv'\n",
      "setup_dependencies_passed                             -> True\n",
      "setup_iam_roles_passed                                -> True\n",
      "setup_instance_check_passed                           -> True\n",
      "setup_s3_bucket_passed                                -> True\n"
     ]
    }
   ],
   "source": [
    "# Store variables for subsequent notebooks\n",
    "%store autopilot_train_s3_wildfire\n",
    "\n",
    "%store"
   ]
  },
  {
   "cell_type": "code",
   "execution_count": 38,
   "id": "582a339c-ed87-4545-8a9a-ce397ae91984",
   "metadata": {
    "tags": []
   },
   "outputs": [
    {
     "data": {
      "text/html": [
       "\n",
       "<p><b>Shutting down your kernel for this notebook to release resources.</b></p>\n",
       "<button class=\"sm-command-button\" data-commandlinker-command=\"kernelmenu:shutdown\" style=\"display:none;\">Shutdown Kernel</button>\n",
       "        \n",
       "<script>\n",
       "try {\n",
       "    els = document.getElementsByClassName(\"sm-command-button\");\n",
       "    els[0].click();\n",
       "}\n",
       "catch(err) {\n",
       "    // NoOp\n",
       "}    \n",
       "</script>\n"
      ],
      "text/plain": [
       "<IPython.core.display.HTML object>"
      ]
     },
     "metadata": {},
     "output_type": "display_data"
    }
   ],
   "source": [
    "%%html\n",
    "\n",
    "<p><b>Shutting down your kernel for this notebook to release resources.</b></p>\n",
    "<button class=\"sm-command-button\" data-commandlinker-command=\"kernelmenu:shutdown\" style=\"display:none;\">Shutdown Kernel</button>\n",
    "        \n",
    "<script>\n",
    "try {\n",
    "    els = document.getElementsByClassName(\"sm-command-button\");\n",
    "    els[0].click();\n",
    "}\n",
    "catch(err) {\n",
    "    // NoOp\n",
    "}    \n",
    "</script>"
   ]
  },
  {
   "cell_type": "code",
   "execution_count": 39,
   "id": "f1d0d92f-844c-4de6-a531-084c3a62d94b",
   "metadata": {},
   "outputs": [
    {
     "data": {
      "application/javascript": [
       "\n",
       "try {\n",
       "    Jupyter.notebook.save_checkpoint();\n",
       "    Jupyter.notebook.session.delete();\n",
       "}\n",
       "catch(err) {\n",
       "    // NoOp\n",
       "}\n"
      ],
      "text/plain": [
       "<IPython.core.display.Javascript object>"
      ]
     },
     "metadata": {},
     "output_type": "display_data"
    }
   ],
   "source": [
    "%%javascript\n",
    "\n",
    "try {\n",
    "    Jupyter.notebook.save_checkpoint();\n",
    "    Jupyter.notebook.session.delete();\n",
    "}\n",
    "catch(err) {\n",
    "    // NoOp\n",
    "}"
   ]
  },
  {
   "cell_type": "code",
   "execution_count": null,
   "id": "47103c3c-ecb2-4104-81cb-17ebb3a6a512",
   "metadata": {},
   "outputs": [],
   "source": []
  }
 ],
 "metadata": {
  "availableInstances": [
   {
    "_defaultOrder": 0,
    "_isFastLaunch": true,
    "category": "General purpose",
    "gpuNum": 0,
    "hideHardwareSpecs": false,
    "memoryGiB": 4,
    "name": "ml.t3.medium",
    "vcpuNum": 2
   },
   {
    "_defaultOrder": 1,
    "_isFastLaunch": false,
    "category": "General purpose",
    "gpuNum": 0,
    "hideHardwareSpecs": false,
    "memoryGiB": 8,
    "name": "ml.t3.large",
    "vcpuNum": 2
   },
   {
    "_defaultOrder": 2,
    "_isFastLaunch": false,
    "category": "General purpose",
    "gpuNum": 0,
    "hideHardwareSpecs": false,
    "memoryGiB": 16,
    "name": "ml.t3.xlarge",
    "vcpuNum": 4
   },
   {
    "_defaultOrder": 3,
    "_isFastLaunch": false,
    "category": "General purpose",
    "gpuNum": 0,
    "hideHardwareSpecs": false,
    "memoryGiB": 32,
    "name": "ml.t3.2xlarge",
    "vcpuNum": 8
   },
   {
    "_defaultOrder": 4,
    "_isFastLaunch": true,
    "category": "General purpose",
    "gpuNum": 0,
    "hideHardwareSpecs": false,
    "memoryGiB": 8,
    "name": "ml.m5.large",
    "vcpuNum": 2
   },
   {
    "_defaultOrder": 5,
    "_isFastLaunch": false,
    "category": "General purpose",
    "gpuNum": 0,
    "hideHardwareSpecs": false,
    "memoryGiB": 16,
    "name": "ml.m5.xlarge",
    "vcpuNum": 4
   },
   {
    "_defaultOrder": 6,
    "_isFastLaunch": false,
    "category": "General purpose",
    "gpuNum": 0,
    "hideHardwareSpecs": false,
    "memoryGiB": 32,
    "name": "ml.m5.2xlarge",
    "vcpuNum": 8
   },
   {
    "_defaultOrder": 7,
    "_isFastLaunch": false,
    "category": "General purpose",
    "gpuNum": 0,
    "hideHardwareSpecs": false,
    "memoryGiB": 64,
    "name": "ml.m5.4xlarge",
    "vcpuNum": 16
   },
   {
    "_defaultOrder": 8,
    "_isFastLaunch": false,
    "category": "General purpose",
    "gpuNum": 0,
    "hideHardwareSpecs": false,
    "memoryGiB": 128,
    "name": "ml.m5.8xlarge",
    "vcpuNum": 32
   },
   {
    "_defaultOrder": 9,
    "_isFastLaunch": false,
    "category": "General purpose",
    "gpuNum": 0,
    "hideHardwareSpecs": false,
    "memoryGiB": 192,
    "name": "ml.m5.12xlarge",
    "vcpuNum": 48
   },
   {
    "_defaultOrder": 10,
    "_isFastLaunch": false,
    "category": "General purpose",
    "gpuNum": 0,
    "hideHardwareSpecs": false,
    "memoryGiB": 256,
    "name": "ml.m5.16xlarge",
    "vcpuNum": 64
   },
   {
    "_defaultOrder": 11,
    "_isFastLaunch": false,
    "category": "General purpose",
    "gpuNum": 0,
    "hideHardwareSpecs": false,
    "memoryGiB": 384,
    "name": "ml.m5.24xlarge",
    "vcpuNum": 96
   },
   {
    "_defaultOrder": 12,
    "_isFastLaunch": false,
    "category": "General purpose",
    "gpuNum": 0,
    "hideHardwareSpecs": false,
    "memoryGiB": 8,
    "name": "ml.m5d.large",
    "vcpuNum": 2
   },
   {
    "_defaultOrder": 13,
    "_isFastLaunch": false,
    "category": "General purpose",
    "gpuNum": 0,
    "hideHardwareSpecs": false,
    "memoryGiB": 16,
    "name": "ml.m5d.xlarge",
    "vcpuNum": 4
   },
   {
    "_defaultOrder": 14,
    "_isFastLaunch": false,
    "category": "General purpose",
    "gpuNum": 0,
    "hideHardwareSpecs": false,
    "memoryGiB": 32,
    "name": "ml.m5d.2xlarge",
    "vcpuNum": 8
   },
   {
    "_defaultOrder": 15,
    "_isFastLaunch": false,
    "category": "General purpose",
    "gpuNum": 0,
    "hideHardwareSpecs": false,
    "memoryGiB": 64,
    "name": "ml.m5d.4xlarge",
    "vcpuNum": 16
   },
   {
    "_defaultOrder": 16,
    "_isFastLaunch": false,
    "category": "General purpose",
    "gpuNum": 0,
    "hideHardwareSpecs": false,
    "memoryGiB": 128,
    "name": "ml.m5d.8xlarge",
    "vcpuNum": 32
   },
   {
    "_defaultOrder": 17,
    "_isFastLaunch": false,
    "category": "General purpose",
    "gpuNum": 0,
    "hideHardwareSpecs": false,
    "memoryGiB": 192,
    "name": "ml.m5d.12xlarge",
    "vcpuNum": 48
   },
   {
    "_defaultOrder": 18,
    "_isFastLaunch": false,
    "category": "General purpose",
    "gpuNum": 0,
    "hideHardwareSpecs": false,
    "memoryGiB": 256,
    "name": "ml.m5d.16xlarge",
    "vcpuNum": 64
   },
   {
    "_defaultOrder": 19,
    "_isFastLaunch": false,
    "category": "General purpose",
    "gpuNum": 0,
    "hideHardwareSpecs": false,
    "memoryGiB": 384,
    "name": "ml.m5d.24xlarge",
    "vcpuNum": 96
   },
   {
    "_defaultOrder": 20,
    "_isFastLaunch": false,
    "category": "General purpose",
    "gpuNum": 0,
    "hideHardwareSpecs": true,
    "memoryGiB": 0,
    "name": "ml.geospatial.interactive",
    "supportedImageNames": [
     "sagemaker-geospatial-v1-0"
    ],
    "vcpuNum": 0
   },
   {
    "_defaultOrder": 21,
    "_isFastLaunch": true,
    "category": "Compute optimized",
    "gpuNum": 0,
    "hideHardwareSpecs": false,
    "memoryGiB": 4,
    "name": "ml.c5.large",
    "vcpuNum": 2
   },
   {
    "_defaultOrder": 22,
    "_isFastLaunch": false,
    "category": "Compute optimized",
    "gpuNum": 0,
    "hideHardwareSpecs": false,
    "memoryGiB": 8,
    "name": "ml.c5.xlarge",
    "vcpuNum": 4
   },
   {
    "_defaultOrder": 23,
    "_isFastLaunch": false,
    "category": "Compute optimized",
    "gpuNum": 0,
    "hideHardwareSpecs": false,
    "memoryGiB": 16,
    "name": "ml.c5.2xlarge",
    "vcpuNum": 8
   },
   {
    "_defaultOrder": 24,
    "_isFastLaunch": false,
    "category": "Compute optimized",
    "gpuNum": 0,
    "hideHardwareSpecs": false,
    "memoryGiB": 32,
    "name": "ml.c5.4xlarge",
    "vcpuNum": 16
   },
   {
    "_defaultOrder": 25,
    "_isFastLaunch": false,
    "category": "Compute optimized",
    "gpuNum": 0,
    "hideHardwareSpecs": false,
    "memoryGiB": 72,
    "name": "ml.c5.9xlarge",
    "vcpuNum": 36
   },
   {
    "_defaultOrder": 26,
    "_isFastLaunch": false,
    "category": "Compute optimized",
    "gpuNum": 0,
    "hideHardwareSpecs": false,
    "memoryGiB": 96,
    "name": "ml.c5.12xlarge",
    "vcpuNum": 48
   },
   {
    "_defaultOrder": 27,
    "_isFastLaunch": false,
    "category": "Compute optimized",
    "gpuNum": 0,
    "hideHardwareSpecs": false,
    "memoryGiB": 144,
    "name": "ml.c5.18xlarge",
    "vcpuNum": 72
   },
   {
    "_defaultOrder": 28,
    "_isFastLaunch": false,
    "category": "Compute optimized",
    "gpuNum": 0,
    "hideHardwareSpecs": false,
    "memoryGiB": 192,
    "name": "ml.c5.24xlarge",
    "vcpuNum": 96
   },
   {
    "_defaultOrder": 29,
    "_isFastLaunch": true,
    "category": "Accelerated computing",
    "gpuNum": 1,
    "hideHardwareSpecs": false,
    "memoryGiB": 16,
    "name": "ml.g4dn.xlarge",
    "vcpuNum": 4
   },
   {
    "_defaultOrder": 30,
    "_isFastLaunch": false,
    "category": "Accelerated computing",
    "gpuNum": 1,
    "hideHardwareSpecs": false,
    "memoryGiB": 32,
    "name": "ml.g4dn.2xlarge",
    "vcpuNum": 8
   },
   {
    "_defaultOrder": 31,
    "_isFastLaunch": false,
    "category": "Accelerated computing",
    "gpuNum": 1,
    "hideHardwareSpecs": false,
    "memoryGiB": 64,
    "name": "ml.g4dn.4xlarge",
    "vcpuNum": 16
   },
   {
    "_defaultOrder": 32,
    "_isFastLaunch": false,
    "category": "Accelerated computing",
    "gpuNum": 1,
    "hideHardwareSpecs": false,
    "memoryGiB": 128,
    "name": "ml.g4dn.8xlarge",
    "vcpuNum": 32
   },
   {
    "_defaultOrder": 33,
    "_isFastLaunch": false,
    "category": "Accelerated computing",
    "gpuNum": 4,
    "hideHardwareSpecs": false,
    "memoryGiB": 192,
    "name": "ml.g4dn.12xlarge",
    "vcpuNum": 48
   },
   {
    "_defaultOrder": 34,
    "_isFastLaunch": false,
    "category": "Accelerated computing",
    "gpuNum": 1,
    "hideHardwareSpecs": false,
    "memoryGiB": 256,
    "name": "ml.g4dn.16xlarge",
    "vcpuNum": 64
   },
   {
    "_defaultOrder": 35,
    "_isFastLaunch": false,
    "category": "Accelerated computing",
    "gpuNum": 1,
    "hideHardwareSpecs": false,
    "memoryGiB": 61,
    "name": "ml.p3.2xlarge",
    "vcpuNum": 8
   },
   {
    "_defaultOrder": 36,
    "_isFastLaunch": false,
    "category": "Accelerated computing",
    "gpuNum": 4,
    "hideHardwareSpecs": false,
    "memoryGiB": 244,
    "name": "ml.p3.8xlarge",
    "vcpuNum": 32
   },
   {
    "_defaultOrder": 37,
    "_isFastLaunch": false,
    "category": "Accelerated computing",
    "gpuNum": 8,
    "hideHardwareSpecs": false,
    "memoryGiB": 488,
    "name": "ml.p3.16xlarge",
    "vcpuNum": 64
   },
   {
    "_defaultOrder": 38,
    "_isFastLaunch": false,
    "category": "Accelerated computing",
    "gpuNum": 8,
    "hideHardwareSpecs": false,
    "memoryGiB": 768,
    "name": "ml.p3dn.24xlarge",
    "vcpuNum": 96
   },
   {
    "_defaultOrder": 39,
    "_isFastLaunch": false,
    "category": "Memory Optimized",
    "gpuNum": 0,
    "hideHardwareSpecs": false,
    "memoryGiB": 16,
    "name": "ml.r5.large",
    "vcpuNum": 2
   },
   {
    "_defaultOrder": 40,
    "_isFastLaunch": false,
    "category": "Memory Optimized",
    "gpuNum": 0,
    "hideHardwareSpecs": false,
    "memoryGiB": 32,
    "name": "ml.r5.xlarge",
    "vcpuNum": 4
   },
   {
    "_defaultOrder": 41,
    "_isFastLaunch": false,
    "category": "Memory Optimized",
    "gpuNum": 0,
    "hideHardwareSpecs": false,
    "memoryGiB": 64,
    "name": "ml.r5.2xlarge",
    "vcpuNum": 8
   },
   {
    "_defaultOrder": 42,
    "_isFastLaunch": false,
    "category": "Memory Optimized",
    "gpuNum": 0,
    "hideHardwareSpecs": false,
    "memoryGiB": 128,
    "name": "ml.r5.4xlarge",
    "vcpuNum": 16
   },
   {
    "_defaultOrder": 43,
    "_isFastLaunch": false,
    "category": "Memory Optimized",
    "gpuNum": 0,
    "hideHardwareSpecs": false,
    "memoryGiB": 256,
    "name": "ml.r5.8xlarge",
    "vcpuNum": 32
   },
   {
    "_defaultOrder": 44,
    "_isFastLaunch": false,
    "category": "Memory Optimized",
    "gpuNum": 0,
    "hideHardwareSpecs": false,
    "memoryGiB": 384,
    "name": "ml.r5.12xlarge",
    "vcpuNum": 48
   },
   {
    "_defaultOrder": 45,
    "_isFastLaunch": false,
    "category": "Memory Optimized",
    "gpuNum": 0,
    "hideHardwareSpecs": false,
    "memoryGiB": 512,
    "name": "ml.r5.16xlarge",
    "vcpuNum": 64
   },
   {
    "_defaultOrder": 46,
    "_isFastLaunch": false,
    "category": "Memory Optimized",
    "gpuNum": 0,
    "hideHardwareSpecs": false,
    "memoryGiB": 768,
    "name": "ml.r5.24xlarge",
    "vcpuNum": 96
   },
   {
    "_defaultOrder": 47,
    "_isFastLaunch": false,
    "category": "Accelerated computing",
    "gpuNum": 1,
    "hideHardwareSpecs": false,
    "memoryGiB": 16,
    "name": "ml.g5.xlarge",
    "vcpuNum": 4
   },
   {
    "_defaultOrder": 48,
    "_isFastLaunch": false,
    "category": "Accelerated computing",
    "gpuNum": 1,
    "hideHardwareSpecs": false,
    "memoryGiB": 32,
    "name": "ml.g5.2xlarge",
    "vcpuNum": 8
   },
   {
    "_defaultOrder": 49,
    "_isFastLaunch": false,
    "category": "Accelerated computing",
    "gpuNum": 1,
    "hideHardwareSpecs": false,
    "memoryGiB": 64,
    "name": "ml.g5.4xlarge",
    "vcpuNum": 16
   },
   {
    "_defaultOrder": 50,
    "_isFastLaunch": false,
    "category": "Accelerated computing",
    "gpuNum": 1,
    "hideHardwareSpecs": false,
    "memoryGiB": 128,
    "name": "ml.g5.8xlarge",
    "vcpuNum": 32
   },
   {
    "_defaultOrder": 51,
    "_isFastLaunch": false,
    "category": "Accelerated computing",
    "gpuNum": 1,
    "hideHardwareSpecs": false,
    "memoryGiB": 256,
    "name": "ml.g5.16xlarge",
    "vcpuNum": 64
   },
   {
    "_defaultOrder": 52,
    "_isFastLaunch": false,
    "category": "Accelerated computing",
    "gpuNum": 4,
    "hideHardwareSpecs": false,
    "memoryGiB": 192,
    "name": "ml.g5.12xlarge",
    "vcpuNum": 48
   },
   {
    "_defaultOrder": 53,
    "_isFastLaunch": false,
    "category": "Accelerated computing",
    "gpuNum": 4,
    "hideHardwareSpecs": false,
    "memoryGiB": 384,
    "name": "ml.g5.24xlarge",
    "vcpuNum": 96
   },
   {
    "_defaultOrder": 54,
    "_isFastLaunch": false,
    "category": "Accelerated computing",
    "gpuNum": 8,
    "hideHardwareSpecs": false,
    "memoryGiB": 768,
    "name": "ml.g5.48xlarge",
    "vcpuNum": 192
   }
  ],
  "kernelspec": {
   "display_name": "Python 3 (Data Science)",
   "language": "python",
   "name": "python3__SAGEMAKER_INTERNAL__arn:aws:sagemaker:us-east-1:081325390199:image/datascience-1.0"
  },
  "language_info": {
   "codemirror_mode": {
    "name": "ipython",
    "version": 3
   },
   "file_extension": ".py",
   "mimetype": "text/x-python",
   "name": "python",
   "nbconvert_exporter": "python",
   "pygments_lexer": "ipython3",
   "version": "3.7.10"
  }
 },
 "nbformat": 4,
 "nbformat_minor": 5
}
