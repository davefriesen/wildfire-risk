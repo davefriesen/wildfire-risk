{
 "cells": [
  {
   "cell_type": "markdown",
   "id": "4bf3faca-e0fa-457e-b6dd-5c7133f02b56",
   "metadata": {},
   "source": [
    "# Wildfire Risk - Data Pre-Prep - Join Challenge\n",
    "__Team 3 - Dave Friesen, John Chen, and Kyle Dalope__<br>\n",
    "__ADS-508-02-SP23__<br><br>\n",
    "__GitHub link: https://github.com/davefriesen/wildfire-risk__"
   ]
  },
  {
   "cell_type": "code",
   "execution_count": 1,
   "id": "c3f869c0-f75e-4389-b455-44536e0b9502",
   "metadata": {
    "tags": []
   },
   "outputs": [],
   "source": [
    "__authors__ = ['Dave Friesen', 'John Chen', 'Kyle Dalope']\n",
    "__contact__ = ['dfriesen@sandiego.edu', 'johnchen@sandiego.edu', 'kdalope@sandiego.edu']\n",
    "__date__ = '2023-03-20'\n",
    "__license__ = 'MIT'\n",
    "__version__ = '1.0.2'"
   ]
  },
  {
   "cell_type": "markdown",
   "id": "7df48cd4-5cfb-43d2-b92b-abb34f387531",
   "metadata": {},
   "source": [
    "# Setup"
   ]
  },
  {
   "cell_type": "code",
   "execution_count": 2,
   "id": "583e2d7e-bdb3-4fe9-9dd1-f6316c49b158",
   "metadata": {},
   "outputs": [],
   "source": [
    "# Import basic and data access libraries\n",
    "import pandas as pd\n",
    "from profiler import profile, profile_cat\n",
    "\n",
    "# Import utility libraries\n",
    "import h3"
   ]
  },
  {
   "cell_type": "markdown",
   "id": "2de9d1e8",
   "metadata": {},
   "source": [
    "# Geohash and Merge"
   ]
  },
  {
   "cell_type": "code",
   "execution_count": 3,
   "id": "9efa6e80",
   "metadata": {},
   "outputs": [],
   "source": [
    "wfil_df = pd.read_csv('../data/fires.csv', low_memory=False)\n",
    "wthr_df = pd.read_csv('../data/weather.csv', low_memory=False)\n",
    "cond_df = pd.read_csv('../data/conditions.csv', low_memory=False)"
   ]
  },
  {
   "cell_type": "code",
   "execution_count": 4,
   "id": "ae8f88db",
   "metadata": {},
   "outputs": [
    {
     "name": "stdout",
     "output_type": "stream",
     "text": [
      "               geohash  Count\n",
      "26364  8729a56f2ffffff    384\n",
      "26357  8729a56e9ffffff    325\n",
      "26356  8729a56e8ffffff    268\n",
      "26301  8729a5689ffffff    254\n",
      "25093  8729a1441ffffff    234\n",
      "25128  8729a146affffff    224\n",
      "26342  8729a56d6ffffff    218\n",
      "25237  8729a1559ffffff    215\n",
      "26315  8729a569dffffff    194\n",
      "25103  8729a144cffffff    183\n",
      "             geohash  Count\n",
      "554  8729ab19effffff    549\n",
      "23   87268276affffff    449\n",
      "26   8726835a8ffffff    449\n",
      "297  872885accffffff    444\n",
      "321  8728a312affffff    442\n",
      "335  8728a9620ffffff    441\n",
      "58   872698809ffffff    438\n",
      "274  872833804ffffff    437\n",
      "299  872885c6cffffff    436\n",
      "292  8728818b6ffffff    436\n",
      "               geohash  Count\n",
      "26364  8729a56f2ffffff    384\n",
      "26357  8729a56e9ffffff    325\n",
      "26356  8729a56e8ffffff    268\n",
      "26301  8729a5689ffffff    254\n",
      "25093  8729a1441ffffff    234\n",
      "25128  8729a146affffff    224\n",
      "26342  8729a56d6ffffff    218\n",
      "25237  8729a1559ffffff    215\n",
      "26315  8729a569dffffff    194\n",
      "25103  8729a144cffffff    183\n"
     ]
    }
   ],
   "source": [
    "# Define function to encode latitude and longitude into h3 hexagons\n",
    "def encode_geohash(row, lat, lng):\n",
    "    try:\n",
    "        if pd.notnull(row[lat]) and pd.notnull(row[lng]):\n",
    "            return h3.geo_to_h3(row[lat], row[lng], resolution=7)\n",
    "    except ValueError as e:\n",
    "        print(f\"Error: {e}\")\n",
    "    return None\n",
    "\n",
    "# Add h3 hexagon column to dataframe using apply method\n",
    "wfil_df['geohash'] = wfil_df.apply(encode_geohash, axis=1, args=('InitialLatitude', 'InitialLongitude'))\n",
    "geohash_counts = wfil_df.groupby('geohash').size().reset_index(name='Count')\n",
    "print(geohash_counts.sort_values(by='Count', ascending=False).head(10))\n",
    "\n",
    "wthr_df['geohash'] = wthr_df.apply(encode_geohash, axis=1, args=('LATITUDE', 'LONGITUDE'))\n",
    "geohash_counts = wthr_df.groupby('geohash').size().reset_index(name='Count')\n",
    "print(geohash_counts.sort_values(by='Count', ascending=False).head(10))\n",
    "\n",
    "cond_df['geohash'] = cond_df.apply(encode_geohash, axis=1, args=('LAT', 'LON'))\n",
    "geohash_counts = wfil_df.groupby('geohash').size().reset_index(name='Count')\n",
    "print(geohash_counts.sort_values(by='Count', ascending=False).head(10))\n",
    "\n",
    "# Save updated dataframe to CSV file\n",
    "wfil_df.to_csv('../data/fires_geohash.csv', index=False)\n",
    "wthr_df.to_csv('../data/weather_geohash.csv', index=False)\n",
    "cond_df.to_csv('../data/conditions_geohash.csv', index=False)"
   ]
  },
  {
   "cell_type": "code",
   "execution_count": 5,
   "id": "31f52a8d",
   "metadata": {},
   "outputs": [],
   "source": [
    "#**********NOTE**********#\n",
    "# WE MAY ULTIMATELY NEED TO MERGE A SUPERSET OF WEATHER AND CONDITIONS, THEN\n",
    "#   FIRES, IN ORDER TO CREATE A \"FIRE/NOT FIRE\" CLASSIFICATION DATASET\n",
    "merged_df = pd.merge(wfil_df, wthr_df, on='geohash', how='inner')\n",
    "merged_df = pd.merge(merged_df, cond_df, on='geohash', how='inner')"
   ]
  },
  {
   "cell_type": "code",
   "execution_count": 6,
   "id": "823ae0c8",
   "metadata": {},
   "outputs": [
    {
     "name": "stdout",
     "output_type": "stream",
     "text": [
      "<class 'pandas.core.frame.DataFrame'>\n",
      "Int64Index: 183406 entries, 0 to 183405\n",
      "Data columns (total 87 columns):\n",
      " #   Column                    Non-Null Count   Dtype  \n",
      "---  ------                    --------------   -----  \n",
      " 0   ContainmentDateTime       86543 non-null   object \n",
      " 1   ControlDateTime           99641 non-null   object \n",
      " 2   DiscoveryAcres            164765 non-null  float64\n",
      " 3   EstimatedCostToDate       2873 non-null    float64\n",
      " 4   FinalAcres                8248 non-null    float64\n",
      " 5   FireBehaviorGeneral       1851 non-null    object \n",
      " 6   FireBehaviorGeneral1      1851 non-null    object \n",
      " 7   FireBehaviorGeneral2      1235 non-null    object \n",
      " 8   FireBehaviorGeneral3      0 non-null       object \n",
      " 9   FireCause                 183406 non-null  object \n",
      " 10  FireCauseGeneral          30019 non-null   object \n",
      " 11  FireCauseSpecific         13150 non-null   object \n",
      " 12  FireDiscoveryDateTime     183406 non-null  object \n",
      " 13  FireOutDateTime           98463 non-null   object \n",
      " 14  GACC                      183406 non-null  object \n",
      " 15  IncidentName              183406 non-null  object \n",
      " 16  IncidentShortDescription  616 non-null     object \n",
      " 17  InitialLatitude           183406 non-null  float64\n",
      " 18  InitialLongitude          183406 non-null  float64\n",
      " 19  IsFireCauseInvestigated   13638 non-null   float64\n",
      " 20  IsTrespass                157373 non-null  float64\n",
      " 21  POOCity                   2246 non-null    object \n",
      " 22  POOState                  183406 non-null  object \n",
      " 23  PredominantFuelModel      30019 non-null   object \n",
      " 24  PrimaryFuelModel          2246 non-null    object \n",
      " 25  geohash                   183406 non-null  object \n",
      " 26  STATION                   183406 non-null  object \n",
      " 27  DATE                      183406 non-null  object \n",
      " 28  LATITUDE                  183406 non-null  float64\n",
      " 29  LONGITUDE                 183406 non-null  float64\n",
      " 30  ELEVATION                 183406 non-null  float64\n",
      " 31  NAME                      183406 non-null  object \n",
      " 32  CDSD                      160709 non-null  float64\n",
      " 33  CDSD_ATTRIBUTES           156186 non-null  object \n",
      " 34  CLDD                      182502 non-null  float64\n",
      " 35  CLDD_ATTRIBUTES           182502 non-null  object \n",
      " 36  DT00                      183036 non-null  float64\n",
      " 37  DT00_ATTRIBUTES           183036 non-null  object \n",
      " 38  DT32                      183036 non-null  float64\n",
      " 39  DT32_ATTRIBUTES           183036 non-null  object \n",
      " 40  DX32                      183104 non-null  float64\n",
      " 41  DX32_ATTRIBUTES           183104 non-null  object \n",
      " 42  DX70                      183104 non-null  float64\n",
      " 43  DX70_ATTRIBUTES           183104 non-null  object \n",
      " 44  DX90                      183104 non-null  float64\n",
      " 45  DX90_ATTRIBUTES           183104 non-null  object \n",
      " 46  EMNT                      183036 non-null  float64\n",
      " 47  EMNT_ATTRIBUTES           183036 non-null  object \n",
      " 48  EMXT                      183104 non-null  float64\n",
      " 49  EMXT_ATTRIBUTES           183104 non-null  object \n",
      " 50  HDSD                      160113 non-null  float64\n",
      " 51  HDSD_ATTRIBUTES           155638 non-null  object \n",
      " 52  HTDD                      182502 non-null  float64\n",
      " 53  HTDD_ATTRIBUTES           182502 non-null  object \n",
      " 54  TAVG                      182734 non-null  float64\n",
      " 55  TAVG_ATTRIBUTES           182734 non-null  object \n",
      " 56  TMAX                      183104 non-null  float64\n",
      " 57  TMAX_ATTRIBUTES           183104 non-null  object \n",
      " 58  TMIN                      183036 non-null  float64\n",
      " 59  TMIN_ATTRIBUTES           183036 non-null  object \n",
      " 60  PLT_CN                    183406 non-null  int64  \n",
      " 61  INVYR                     183406 non-null  int64  \n",
      " 62  COND_STATUS_CD            183406 non-null  int64  \n",
      " 63  MAPDEN                    75842 non-null   float64\n",
      " 64  STDAGE                    74818 non-null   float64\n",
      " 65  STDSZCD                   78957 non-null   float64\n",
      " 66  FLDSZCD                   75842 non-null   float64\n",
      " 67  SITECLCD                  82156 non-null   float64\n",
      " 68  SICOND                    68983 non-null   float64\n",
      " 69  STDORGCD                  75842 non-null   float64\n",
      " 70  SLOPE                     81642 non-null   float64\n",
      " 71  PHYSCLCD                  90564 non-null   float64\n",
      " 72  GSSTKCD                   81642 non-null   float64\n",
      " 73  DSTRBCD1                  89405 non-null   float64\n",
      " 74  TRTCD1                    80928 non-null   float64\n",
      " 75  PRESNFCD                  81939 non-null   float64\n",
      " 76  FLDAGE                    75842 non-null   float64\n",
      " 77  CARBON_DOWN_DEAD          75842 non-null   float64\n",
      " 78  CARBON_LITTER             94198 non-null   float64\n",
      " 79  CARBON_SOIL_ORG           94198 non-null   float64\n",
      " 80  CARBON_STANDING_DEAD      75842 non-null   float64\n",
      " 81  CARBON_UNDERSTORY_AG      94198 non-null   float64\n",
      " 82  CARBON_UNDERSTORY_BG      94198 non-null   float64\n",
      " 83  STATE                     183406 non-null  object \n",
      " 84  WATERCD                   115010 non-null  float64\n",
      " 85  LAT                       183406 non-null  float64\n",
      " 86  LON                       183406 non-null  float64\n",
      "dtypes: float64(47), int64(3), object(37)\n",
      "memory usage: 123.1+ MB\n"
     ]
    }
   ],
   "source": [
    "merged_df.info()"
   ]
  }
 ],
 "metadata": {
  "availableInstances": [
   {
    "_defaultOrder": 0,
    "_isFastLaunch": true,
    "category": "General purpose",
    "gpuNum": 0,
    "memoryGiB": 4,
    "name": "ml.t3.medium",
    "vcpuNum": 2
   },
   {
    "_defaultOrder": 1,
    "_isFastLaunch": false,
    "category": "General purpose",
    "gpuNum": 0,
    "memoryGiB": 8,
    "name": "ml.t3.large",
    "vcpuNum": 2
   },
   {
    "_defaultOrder": 2,
    "_isFastLaunch": false,
    "category": "General purpose",
    "gpuNum": 0,
    "memoryGiB": 16,
    "name": "ml.t3.xlarge",
    "vcpuNum": 4
   },
   {
    "_defaultOrder": 3,
    "_isFastLaunch": false,
    "category": "General purpose",
    "gpuNum": 0,
    "memoryGiB": 32,
    "name": "ml.t3.2xlarge",
    "vcpuNum": 8
   },
   {
    "_defaultOrder": 4,
    "_isFastLaunch": true,
    "category": "General purpose",
    "gpuNum": 0,
    "memoryGiB": 8,
    "name": "ml.m5.large",
    "vcpuNum": 2
   },
   {
    "_defaultOrder": 5,
    "_isFastLaunch": false,
    "category": "General purpose",
    "gpuNum": 0,
    "memoryGiB": 16,
    "name": "ml.m5.xlarge",
    "vcpuNum": 4
   },
   {
    "_defaultOrder": 6,
    "_isFastLaunch": false,
    "category": "General purpose",
    "gpuNum": 0,
    "memoryGiB": 32,
    "name": "ml.m5.2xlarge",
    "vcpuNum": 8
   },
   {
    "_defaultOrder": 7,
    "_isFastLaunch": false,
    "category": "General purpose",
    "gpuNum": 0,
    "memoryGiB": 64,
    "name": "ml.m5.4xlarge",
    "vcpuNum": 16
   },
   {
    "_defaultOrder": 8,
    "_isFastLaunch": false,
    "category": "General purpose",
    "gpuNum": 0,
    "memoryGiB": 128,
    "name": "ml.m5.8xlarge",
    "vcpuNum": 32
   },
   {
    "_defaultOrder": 9,
    "_isFastLaunch": false,
    "category": "General purpose",
    "gpuNum": 0,
    "memoryGiB": 192,
    "name": "ml.m5.12xlarge",
    "vcpuNum": 48
   },
   {
    "_defaultOrder": 10,
    "_isFastLaunch": false,
    "category": "General purpose",
    "gpuNum": 0,
    "memoryGiB": 256,
    "name": "ml.m5.16xlarge",
    "vcpuNum": 64
   },
   {
    "_defaultOrder": 11,
    "_isFastLaunch": false,
    "category": "General purpose",
    "gpuNum": 0,
    "memoryGiB": 384,
    "name": "ml.m5.24xlarge",
    "vcpuNum": 96
   },
   {
    "_defaultOrder": 12,
    "_isFastLaunch": false,
    "category": "General purpose",
    "gpuNum": 0,
    "memoryGiB": 8,
    "name": "ml.m5d.large",
    "vcpuNum": 2
   },
   {
    "_defaultOrder": 13,
    "_isFastLaunch": false,
    "category": "General purpose",
    "gpuNum": 0,
    "memoryGiB": 16,
    "name": "ml.m5d.xlarge",
    "vcpuNum": 4
   },
   {
    "_defaultOrder": 14,
    "_isFastLaunch": false,
    "category": "General purpose",
    "gpuNum": 0,
    "memoryGiB": 32,
    "name": "ml.m5d.2xlarge",
    "vcpuNum": 8
   },
   {
    "_defaultOrder": 15,
    "_isFastLaunch": false,
    "category": "General purpose",
    "gpuNum": 0,
    "memoryGiB": 64,
    "name": "ml.m5d.4xlarge",
    "vcpuNum": 16
   },
   {
    "_defaultOrder": 16,
    "_isFastLaunch": false,
    "category": "General purpose",
    "gpuNum": 0,
    "memoryGiB": 128,
    "name": "ml.m5d.8xlarge",
    "vcpuNum": 32
   },
   {
    "_defaultOrder": 17,
    "_isFastLaunch": false,
    "category": "General purpose",
    "gpuNum": 0,
    "memoryGiB": 192,
    "name": "ml.m5d.12xlarge",
    "vcpuNum": 48
   },
   {
    "_defaultOrder": 18,
    "_isFastLaunch": false,
    "category": "General purpose",
    "gpuNum": 0,
    "memoryGiB": 256,
    "name": "ml.m5d.16xlarge",
    "vcpuNum": 64
   },
   {
    "_defaultOrder": 19,
    "_isFastLaunch": false,
    "category": "General purpose",
    "gpuNum": 0,
    "memoryGiB": 384,
    "name": "ml.m5d.24xlarge",
    "vcpuNum": 96
   },
   {
    "_defaultOrder": 20,
    "_isFastLaunch": true,
    "category": "Compute optimized",
    "gpuNum": 0,
    "memoryGiB": 4,
    "name": "ml.c5.large",
    "vcpuNum": 2
   },
   {
    "_defaultOrder": 21,
    "_isFastLaunch": false,
    "category": "Compute optimized",
    "gpuNum": 0,
    "memoryGiB": 8,
    "name": "ml.c5.xlarge",
    "vcpuNum": 4
   },
   {
    "_defaultOrder": 22,
    "_isFastLaunch": false,
    "category": "Compute optimized",
    "gpuNum": 0,
    "memoryGiB": 16,
    "name": "ml.c5.2xlarge",
    "vcpuNum": 8
   },
   {
    "_defaultOrder": 23,
    "_isFastLaunch": false,
    "category": "Compute optimized",
    "gpuNum": 0,
    "memoryGiB": 32,
    "name": "ml.c5.4xlarge",
    "vcpuNum": 16
   },
   {
    "_defaultOrder": 24,
    "_isFastLaunch": false,
    "category": "Compute optimized",
    "gpuNum": 0,
    "memoryGiB": 72,
    "name": "ml.c5.9xlarge",
    "vcpuNum": 36
   },
   {
    "_defaultOrder": 25,
    "_isFastLaunch": false,
    "category": "Compute optimized",
    "gpuNum": 0,
    "memoryGiB": 96,
    "name": "ml.c5.12xlarge",
    "vcpuNum": 48
   },
   {
    "_defaultOrder": 26,
    "_isFastLaunch": false,
    "category": "Compute optimized",
    "gpuNum": 0,
    "memoryGiB": 144,
    "name": "ml.c5.18xlarge",
    "vcpuNum": 72
   },
   {
    "_defaultOrder": 27,
    "_isFastLaunch": false,
    "category": "Compute optimized",
    "gpuNum": 0,
    "memoryGiB": 192,
    "name": "ml.c5.24xlarge",
    "vcpuNum": 96
   },
   {
    "_defaultOrder": 28,
    "_isFastLaunch": true,
    "category": "Accelerated computing",
    "gpuNum": 1,
    "memoryGiB": 16,
    "name": "ml.g4dn.xlarge",
    "vcpuNum": 4
   },
   {
    "_defaultOrder": 29,
    "_isFastLaunch": false,
    "category": "Accelerated computing",
    "gpuNum": 1,
    "memoryGiB": 32,
    "name": "ml.g4dn.2xlarge",
    "vcpuNum": 8
   },
   {
    "_defaultOrder": 30,
    "_isFastLaunch": false,
    "category": "Accelerated computing",
    "gpuNum": 1,
    "memoryGiB": 64,
    "name": "ml.g4dn.4xlarge",
    "vcpuNum": 16
   },
   {
    "_defaultOrder": 31,
    "_isFastLaunch": false,
    "category": "Accelerated computing",
    "gpuNum": 1,
    "memoryGiB": 128,
    "name": "ml.g4dn.8xlarge",
    "vcpuNum": 32
   },
   {
    "_defaultOrder": 32,
    "_isFastLaunch": false,
    "category": "Accelerated computing",
    "gpuNum": 4,
    "memoryGiB": 192,
    "name": "ml.g4dn.12xlarge",
    "vcpuNum": 48
   },
   {
    "_defaultOrder": 33,
    "_isFastLaunch": false,
    "category": "Accelerated computing",
    "gpuNum": 1,
    "memoryGiB": 256,
    "name": "ml.g4dn.16xlarge",
    "vcpuNum": 64
   },
   {
    "_defaultOrder": 34,
    "_isFastLaunch": false,
    "category": "Accelerated computing",
    "gpuNum": 1,
    "memoryGiB": 61,
    "name": "ml.p3.2xlarge",
    "vcpuNum": 8
   },
   {
    "_defaultOrder": 35,
    "_isFastLaunch": false,
    "category": "Accelerated computing",
    "gpuNum": 4,
    "memoryGiB": 244,
    "name": "ml.p3.8xlarge",
    "vcpuNum": 32
   },
   {
    "_defaultOrder": 36,
    "_isFastLaunch": false,
    "category": "Accelerated computing",
    "gpuNum": 8,
    "memoryGiB": 488,
    "name": "ml.p3.16xlarge",
    "vcpuNum": 64
   },
   {
    "_defaultOrder": 37,
    "_isFastLaunch": false,
    "category": "Accelerated computing",
    "gpuNum": 8,
    "memoryGiB": 768,
    "name": "ml.p3dn.24xlarge",
    "vcpuNum": 96
   },
   {
    "_defaultOrder": 38,
    "_isFastLaunch": false,
    "category": "Memory Optimized",
    "gpuNum": 0,
    "memoryGiB": 16,
    "name": "ml.r5.large",
    "vcpuNum": 2
   },
   {
    "_defaultOrder": 39,
    "_isFastLaunch": false,
    "category": "Memory Optimized",
    "gpuNum": 0,
    "memoryGiB": 32,
    "name": "ml.r5.xlarge",
    "vcpuNum": 4
   },
   {
    "_defaultOrder": 40,
    "_isFastLaunch": false,
    "category": "Memory Optimized",
    "gpuNum": 0,
    "memoryGiB": 64,
    "name": "ml.r5.2xlarge",
    "vcpuNum": 8
   },
   {
    "_defaultOrder": 41,
    "_isFastLaunch": false,
    "category": "Memory Optimized",
    "gpuNum": 0,
    "memoryGiB": 128,
    "name": "ml.r5.4xlarge",
    "vcpuNum": 16
   },
   {
    "_defaultOrder": 42,
    "_isFastLaunch": false,
    "category": "Memory Optimized",
    "gpuNum": 0,
    "memoryGiB": 256,
    "name": "ml.r5.8xlarge",
    "vcpuNum": 32
   },
   {
    "_defaultOrder": 43,
    "_isFastLaunch": false,
    "category": "Memory Optimized",
    "gpuNum": 0,
    "memoryGiB": 384,
    "name": "ml.r5.12xlarge",
    "vcpuNum": 48
   },
   {
    "_defaultOrder": 44,
    "_isFastLaunch": false,
    "category": "Memory Optimized",
    "gpuNum": 0,
    "memoryGiB": 512,
    "name": "ml.r5.16xlarge",
    "vcpuNum": 64
   },
   {
    "_defaultOrder": 45,
    "_isFastLaunch": false,
    "category": "Memory Optimized",
    "gpuNum": 0,
    "memoryGiB": 768,
    "name": "ml.r5.24xlarge",
    "vcpuNum": 96
   },
   {
    "_defaultOrder": 46,
    "_isFastLaunch": false,
    "category": "Accelerated computing",
    "gpuNum": 1,
    "memoryGiB": 16,
    "name": "ml.g5.xlarge",
    "vcpuNum": 4
   },
   {
    "_defaultOrder": 47,
    "_isFastLaunch": false,
    "category": "Accelerated computing",
    "gpuNum": 1,
    "memoryGiB": 32,
    "name": "ml.g5.2xlarge",
    "vcpuNum": 8
   },
   {
    "_defaultOrder": 48,
    "_isFastLaunch": false,
    "category": "Accelerated computing",
    "gpuNum": 1,
    "memoryGiB": 64,
    "name": "ml.g5.4xlarge",
    "vcpuNum": 16
   },
   {
    "_defaultOrder": 49,
    "_isFastLaunch": false,
    "category": "Accelerated computing",
    "gpuNum": 1,
    "memoryGiB": 128,
    "name": "ml.g5.8xlarge",
    "vcpuNum": 32
   },
   {
    "_defaultOrder": 50,
    "_isFastLaunch": false,
    "category": "Accelerated computing",
    "gpuNum": 1,
    "memoryGiB": 256,
    "name": "ml.g5.16xlarge",
    "vcpuNum": 64
   },
   {
    "_defaultOrder": 51,
    "_isFastLaunch": false,
    "category": "Accelerated computing",
    "gpuNum": 4,
    "memoryGiB": 192,
    "name": "ml.g5.12xlarge",
    "vcpuNum": 48
   },
   {
    "_defaultOrder": 52,
    "_isFastLaunch": false,
    "category": "Accelerated computing",
    "gpuNum": 4,
    "memoryGiB": 384,
    "name": "ml.g5.24xlarge",
    "vcpuNum": 96
   },
   {
    "_defaultOrder": 53,
    "_isFastLaunch": false,
    "category": "Accelerated computing",
    "gpuNum": 8,
    "memoryGiB": 768,
    "name": "ml.g5.48xlarge",
    "vcpuNum": 192
   }
  ],
  "instance_type": "ml.t3.medium",
  "kernelspec": {
   "display_name": "Python 3 (ipykernel)",
   "language": "python",
   "name": "python3"
  },
  "language_info": {
   "codemirror_mode": {
    "name": "ipython",
    "version": 3
   },
   "file_extension": ".py",
   "mimetype": "text/x-python",
   "name": "python",
   "nbconvert_exporter": "python",
   "pygments_lexer": "ipython3",
   "version": "3.9.7"
  }
 },
 "nbformat": 4,
 "nbformat_minor": 5
}
